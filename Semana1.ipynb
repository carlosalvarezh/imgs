{
 "cells": [
  {
   "cell_type": "markdown",
   "id": "89c3b472-f62d-4240-a4f9-f5832356851f",
   "metadata": {},
   "source": [
    "<h1 align=\"center\"><b>CORPORACIÓN UNIVERSITARIA ADVENTISTA</b></h1>\n",
    "<h1 align=\"center\"><b>FACULTAD DE INGENIERÍA</b></h1>\n",
    "<h1 align=\"center\"><b>ESPECIALIZACIÓN EN ANALÍTICA DE DATOS Y BIG DATA</b></h1>\n",
    "<h2 align=\"center\"><b>CURSO:</b></h1>\n",
    "<h2 align=\"center\"><b>LENGUAJES DE PROGRAMACIÓN PARA INTELIGENCIA DE NEGOCIOS</b></h1>\n",
    "<h2 align=\"center\"><b>Tema 1 - Introducción y Fundamentos de Programación para Big Data con Python</b></h1>\n",
    "<h3 align=\"center\">2025</h1>\n",
    "<h3 align=\"center\">MEDELLÍN - COLOMBIA </h1>"
   ]
  },
  {
   "cell_type": "markdown",
   "id": "431c7fe4-9adc-4fef-8bbb-6ed9d0913075",
   "metadata": {},
   "source": [
    "*** \n",
    "|[![Outlook](https://img.shields.io/badge/Gmail-D14836??style=plastic&logo=microsoft-outlook&logoColor=white)](mailto:docente.calvarez@unac.edu.co)||[![Open In Colab](https://colab.research.google.com/assets/colab-badge.svg)](https://colab.research.google.com/github/carlosalvarezh/imgs/blob/main/Semana1.ipynb)\n",
    "|-:|:-|--:|\n",
    "|[![LinkedIn](https://img.shields.io/badge/linkedin-%230077B5.svg?style=plastic&logo=linkedin&logoColor=white)](https://www.linkedin.com/in/carlosalvarez5/)|[![@alvarezhenao](https://img.shields.io/twitter/url/https/twitter.com/alvarezhenao.svg?style=social&label=Follow%20%40alvarezhenao)](https://twitter.com/alvarezhenao)|[![@carlosalvarezh](https://img.shields.io/badge/github-%23121011.svg?style=plastic&logo=github&logoColor=white)](https://github.com/carlosalvarezh)|  \n",
    "***\n",
    "\n",
    "<table>\n",
    " <tr align=left><td><img align=left src=\"https://github.com/carlosalvarezh/imgs/blob/main/CCLogoColorPop1.gif?raw=true\" width=\"55\">\n",
    " <td>Text provided under a Creative Commons Attribution license, CC BY-NC 4.0</td>\n",
    " <td>All code is made available under the FSF-approved MIT license.(c) Corporación Universitaria Adventista de Colombia</td>\n",
    "</table>\n",
    "\n",
    "***"
   ]
  },
  {
   "cell_type": "markdown",
   "id": "e2d7dbe0-fb10-410b-a486-33d31ece4617",
   "metadata": {},
   "source": [
    "# **Semana 1 – Introducción y Fundamentos de Programación para Big Data con Python**"
   ]
  },
  {
   "cell_type": "markdown",
   "id": "5199ab19-d839-43ff-9cea-f27ec31dc881",
   "metadata": {},
   "source": [
    "## **Objetivos:**"
   ]
  },
  {
   "cell_type": "markdown",
   "id": "ad351228-037b-4fcc-acd4-1b0643a26c3f",
   "metadata": {},
   "source": [
    "- Comprender el papel de Python en Big Data e Inteligencia de Negocios.\n",
    "- Revisar fundamentos de programación aplicados al análisis de datos.\n"
   ]
  },
  {
   "cell_type": "markdown",
   "id": "e4dc6966-9548-439a-adaa-af14daccc5f0",
   "metadata": {},
   "source": [
    "## **Temas:**"
   ]
  },
  {
   "cell_type": "markdown",
   "id": "13a54fa4-9622-49f3-9865-51befd9ac588",
   "metadata": {},
   "source": [
    "1. Panorama de Big Data e Inteligencia de Negocios: conceptos clave.  \n",
    "2. Python en el ecosistema de analítica de datos.  \n",
    "3. Fundamentos de programación:  \n",
    "  • Tipos de datos básicos (numéricos, cadenas, booleanos).  \n",
    "  • Operadores y expresiones.  \n",
    "  • Estructuras de control (condicionales y ciclos).  \n",
    "4. Introducción a entornos de desarrollo: Jupyter Notebook y VS Code.\n"
   ]
  },
  {
   "cell_type": "markdown",
   "id": "6ed2b775",
   "metadata": {},
   "source": [
    "# **[Todos deberían aprender a progaramar](https://youtu.be/n1n4MVhWg_Q?si=vfdlNhvWU0jphftf)**"
   ]
  },
  {
   "cell_type": "markdown",
   "id": "076acc9f-ae18-4673-8cf2-5e765b954b4e",
   "metadata": {},
   "source": [
    "## **Panorama de Big Data e Inteligencia de Negocios**"
   ]
  },
  {
   "cell_type": "markdown",
   "id": "491093bd-800d-48a4-9b59-0da8d456666e",
   "metadata": {},
   "source": [
    "Hoy en día, el mundo produce **cantidades masivas de datos** cada segundo: compras en línea, transacciones bancarias, redes sociales, sensores, registros de salud, entre muchos otros. Este crecimiento exponencial ha impulsado lo que conocemos como **[Big Data](https://www.ibm.com/es-es/think/topics/big-data)**, un conjunto de tecnologías y métodos que permiten capturar, almacenar y analizar grandes volúmenes de información de manera eficiente y en tiempos cada vez más cortos.\n",
    "\n",
    "La **[Inteligencia de Negocios (BI)](https://www.ibm.com/mx-es/think/topics/business-intelligence)** aprovecha esos datos para transformarlos en información clara y útil para las organizaciones. Mediante reportes, tableros de control e indicadores, ayuda a responder preguntas clave como qué productos generan más ingresos, qué procesos requieren ajustes o cómo mejorar la experiencia de los clientes. Junto con Big Data, la BI permite pasar de analizar el pasado a monitorear el presente en tiempo real e incluso anticipar el futuro.\n",
    "\n",
    "Comprender este panorama es crucial en el contexto del curso, porque nos ayuda a ver que detrás de cada decisión informada hay **procesos de obtención, limpieza y análisis de datos**. El objetivo es que el estudiante desarrolle la capacidad de construir esos procesos —llamados pipelines de datos— de forma reproducible y alineada con las necesidades del negocio.\n",
    "\n",
    "Por eso empezamos con **[Python](https://www.python.org/)**, un lenguaje flexible y ampliamente usado en la industria, ideal para aprender a leer datos, transformarlos y obtener indicadores básicos. Este primer paso es la base para todo lo que veremos más adelante: desde análisis exploratorio y visualizaciones, hasta integración de datos de múltiples fuentes y aplicaciones en escenarios reales de Big Data.\n",
    "\n",
    "**Ejemplo motivador:**  \n",
    "\n",
    "Imagina que trabajas en una cadena de supermercados y notas que, aunque las ventas totales se mantienen estables, el margen de ganancia ha disminuido en los últimos tres meses. Para entender qué está pasando, el equipo necesita analizar millones de registros de ventas, precios, promociones y devoluciones, además de información externa como inflación y comportamiento del consumidor.\n",
    "\n",
    "Con herramientas de **Big Data** es posible integrar todas estas fuentes, limpiar inconsistencias y detectar patrones en cuestión de minutos. Gracias a la **Inteligencia de Negocios**, esos hallazgos se transforman en tableros que muestran qué categorías de producto están erosionando el margen y en qué sucursales ocurre el problema. Así, la gerencia puede ajustar precios, negociar con proveedores o cambiar estrategias de promoción de forma informada y oportuna.\n",
    "\n",
    "En el curso, aprenderás a construir los primeros pasos de este tipo de análisis usando **Python**: leer los datos, limpiarlos, transformarlos y generar indicadores que te permitan responder preguntas de negocio de manera objetiva y reproducible.\n",
    "\n"
   ]
  },
  {
   "cell_type": "markdown",
   "id": "8f88cf05",
   "metadata": {},
   "source": [
    "## **¿Qué es Big Data?**"
   ]
  },
  {
   "cell_type": "markdown",
   "id": "bd940112",
   "metadata": {},
   "source": [
    "**Big Data** es la **capacidad organizacional y tecnológica** para **capturar, almacenar, procesar e integrar** datos en grandes volúmenes, con alta velocidad y en múltiples formatos, conservando su **calidad** para convertirlos en **valor de negocio**. No es solo “mucho dato”: implica **procesos, arquitectura, gobierno y ética** para que la información sea confiable y útil. En la práctica, Big Data permite pasar de reportes estáticos a **respuestas oportunas** sobre clientes, operaciones y riesgos.\n",
    "\n",
    "**Las 5 V’s de Big Data**\n",
    "\n",
    "<div align=\"center\">\n",
    "  <img src=\"https://github.com/carlosalvarezh/imgs/blob/main/BigData_5vs_1.JPG?raw=true\" width=\"350\">\n",
    "</div>\n",
    "\n",
    "1. **Volumen**: cantidades masivas de datos.  \n",
    "    - Implicación: técnicas de **muestreo**, almacenamiento eficiente y, cuando haga falta, procesamiento **distribuido**.  \n",
    "    - Con Python: `pandas` para prototipos; cuando crece el volumen, alternativas como **Dask** o **PySpark**.  \n",
    "\n",
    "2. **Velocidad**: datos que llegan continuamente (transacciones, eventos, logs).  \n",
    "    - Implicación: **streaming** o micro-lotes, control de **latencia** y actualizaciones frecuentes.  \n",
    "    - Con Python: conectores a colas/eventos, jobs programados; luego, integración con plataformas de streaming.  \n",
    "\n",
    "3. **Veracidad**: calidad y confiabilidad (nulos, duplicados, sesgos, errores).  \n",
    "    - Implicación: **validaciones**, reglas de negocio, trazabilidad (de dónde viene y qué se transformó).  \n",
    "    - Con Python: chequeos de tipos, reglas de limpieza, pruebas reproducibles en notebooks/scripts.  \n",
    "\n",
    "4. **Valor**: decisiones mejores y más rápidas.  \n",
    "    - Implicación: alinear el pipeline con **preguntas de negocio** y **KPIs** claros; medir impacto.  \n",
    "    - Con Python: cálculo de indicadores, visualizaciones y tableros de apoyo (prototipos).  \n",
    "\n",
    "5. **Variedad**: formatos y fuentes heterogéneas (CSV, Excel, JSON, APIs, HTML, sensores).  \n",
    "    - Implicación: **parsing**, normalización y unificación de esquemas.  \n",
    "    - Con Python: `pandas`/`numpy` para tabulares, `requests`+`json` para APIs, `BeautifulSoup` para HTML.  \n",
    " \n",
    "> *A veces se añaden otras “V”: **Variabilidad** en la generación del dato, **Visualización** para comunicar y **Viabilidad** para sopesar costo–beneficio. La idea central se mantiene: calidad + oportunidad para generar valor.*  \n"
   ]
  },
  {
   "cell_type": "markdown",
   "id": "273c5b27-cbe7-458d-89a2-98ce12c5f106",
   "metadata": {},
   "source": [
    "## **¿Qué es Inteligencia de Negocios?**"
   ]
  },
  {
   "cell_type": "markdown",
   "id": "a76badd6",
   "metadata": {},
   "source": [
    "<div align=\"center\">\n",
    "  <img src=\"https://github.com/carlosalvarezh/imgs/blob/main/BI_img.jpeg?raw=true\" width=\"450\">\n",
    "</div>\n",
    "\n",
    "Inteligencia de Negocios (o **BI**, de inglés business intelligence) es el **conjunto de procesos y modelos de datos** que convierten datos operativos en **información confiable y estandarizada** para la decisión. Incluye **integración** de fuentes, **modelado** (p. ej., esquemas de hechos y dimensiones), **ETL/ELT**, definición de **KPIs** y **tableros** que responden qué pasó y por qué. BI pone orden y consistencia; Big Data amplía alcance y velocidad. Juntos permiten mirar el pasado con rigor, **monitorear el presente** y preparar el terreno para análisis predictivos.\n"
   ]
  },
  {
   "cell_type": "markdown",
   "id": "72406b70",
   "metadata": {},
   "source": [
    "## **Python en el Ecosistema de Analítica de Datos**"
   ]
  },
  {
   "cell_type": "markdown",
   "id": "1501be95",
   "metadata": {},
   "source": [
    "<div align=\"center\">\n",
    "  <img src=\"https://github.com/carlosalvarezh/imgs/blob/main/PythonBIEcosystem.PNG?raw=true\" width=\"450\">\n",
    "</div>\n",
    "\n",
    "**[Python](https://www.python.org/)** se ha convertido en uno de los lenguajes de programación más influyentes en el mundo de la analítica de datos y el Big Data. Su éxito no es casualidad: combina **sencillez de sintaxis**, un **ecosistema de librerías muy completo** y una **comunidad activa** que produce nuevas herramientas constantemente. Para quienes no provienen de carreras de programación, esto es una gran ventaja: Python es **fácil de leer, aprender y compartir**, lo que facilita la colaboración entre analistas, ingenieros y tomadores de decisiones."
   ]
  },
  {
   "cell_type": "markdown",
   "id": "1af282ea",
   "metadata": {},
   "source": [
    "### **1) Ventajas de Python para Analítica**"
   ]
  },
  {
   "cell_type": "markdown",
   "id": "f9ee4362",
   "metadata": {},
   "source": [
    "* **Sintaxis clara y expresiva:** similar a pseudocódigo, lo que permite concentrarse en la lógica y no en detalles de bajo nivel.\n",
    "* **Gran ecosistema científico:** incluye librerías como `pandas` (manipulación de datos), `numpy` (cálculo numérico), `matplotlib` y `seaborn` (visualización), y frameworks para machine learning (`scikit-learn`, `TensorFlow`, `PyTorch`).\n",
    "* **Flexibilidad:** permite trabajar tanto con scripts pequeños como con aplicaciones complejas y escalar a entornos distribuidos (por ejemplo, con `PySpark` o `Dask`).\n",
    "* **Comunidad y documentación:** miles de ejemplos, tutoriales y foros facilitan resolver dudas y aprender buenas prácticas.\n",
    "* **Interoperabilidad:** puede conectarse con bases de datos, APIs, hojas de cálculo, servicios en la nube y otras herramientas del ecosistema de datos."
   ]
  },
  {
   "cell_type": "markdown",
   "id": "5afd39e1",
   "metadata": {},
   "source": [
    "### **2) Python en el Flujo de Trabajo de Analítica**"
   ]
  },
  {
   "cell_type": "markdown",
   "id": "3cfd1b6b",
   "metadata": {},
   "source": [
    "En el contexto de este curso, Python es la herramienta que nos permite implementar cada paso de un **pipeline de datos**:\n",
    "\n",
    "1. **Ingesta de datos:** lectura de archivos planos (`read_csv`), conexión a bases de datos (SQLAlchemy, SQLite, PostgreSQL), consumo de APIs (`requests`) y extracción de datos de la web (`BeautifulSoup`).\n",
    "2. **Limpieza y transformación:** detección y tratamiento de valores faltantes, estandarización de tipos de datos, creación de nuevas columnas y cálculo de métricas intermedias.\n",
    "3. **Análisis exploratorio:** filtrado, agregación y resumen estadístico para entender el comportamiento de las variables.\n",
    "4. **Visualización inicial:** gráficos que ayudan a validar hipótesis, identificar patrones y comunicar hallazgos de forma rápida.\n",
    "5. **Reproducibilidad:** uso de notebooks y scripts que documentan el proceso, facilitando su revisión y ejecución por otros.\n"
   ]
  },
  {
   "cell_type": "markdown",
   "id": "9339e5c4",
   "metadata": {},
   "source": [
    "### **3) Python como Puente hacia Big Data**"
   ]
  },
  {
   "cell_type": "markdown",
   "id": "4a35d81f",
   "metadata": {},
   "source": [
    "- Aunque en esta primera fase trabajaremos con conjuntos de datos manejables, Python también es un **puente hacia entornos de Big Data**. Bibliotecas como **PySpark** permiten trabajar con datos distribuidos en clústeres, mientras que conectores para servicios en la nube (AWS, GCP, Azure) permiten escalar a volúmenes masivos. Lo que aprendamos aquí servirá como base para que, en fases posteriores, podamos pasar de un prototipo local a una solución de producción.\n"
   ]
  },
  {
   "cell_type": "markdown",
   "id": "ecb4cce4",
   "metadata": {},
   "source": [
    "Aprender Python en el contexto de la analítica de datos no solo nos brinda una herramienta práctica, sino que nos introduce a una forma de pensar los problemas de negocio de manera estructurada: **pregunta → datos → transformación → visualización → decisión**. Es el primer paso para crear soluciones reproducibles que generen valor real en la organización y que puedan escalar a proyectos de Big Data más complejos."
   ]
  },
  {
   "cell_type": "markdown",
   "id": "47777211",
   "metadata": {},
   "source": [
    "## **Introducción al lenguaje Python**"
   ]
  },
  {
   "cell_type": "markdown",
   "id": "d31c5b11",
   "metadata": {},
   "source": [
    "<div align=\"center\">\n",
    "  <img src=\"https://github.com/carlosalvarezh/imgs/blob/main/Python.jpg?raw=true\" width=\"450\">\n",
    "</div>\n",
    "\n",
    "Python es uno de los lenguajes de programación más populares y versátiles del mundo actual. Nació en los años 90 de la mano de **Guido van Rossum** con el propósito de ser un lenguaje **simple de leer y escribir**, pero lo suficientemente poderoso para resolver problemas complejos. Su nombre no viene del animal, sino del grupo de comedia británico *Monty Python*, lo que refleja su filosofía: un lenguaje **accesible y amigable**, pero con capacidad para aplicaciones serias en ciencia, industria y negocios.\n"
   ]
  },
  {
   "cell_type": "markdown",
   "id": "1122acb1",
   "metadata": {},
   "source": [
    "### **Principales características de Python**"
   ]
  },
  {
   "cell_type": "markdown",
   "id": "60225ebe",
   "metadata": {},
   "source": [
    "1. **Sintaxis clara y legible:**\n",
    "   Python está diseñado para que el código se parezca a pseudocódigo, lo que facilita que incluso personas sin formación en ingeniería puedan entenderlo. Por ejemplo, en lugar de llaves `{}` para agrupar bloques de código, Python usa **indentación**, lo que obliga a un estilo limpio y ordenado.\n",
    "\n",
    "2. **Multiparadigma:**\n",
    "   Soporta programación **imperativa** (paso a paso), **funcional** (funciones como ciudadanos de primera clase) y **orientada a objetos** (aunque en este curso no profundizaremos en este último paradigma).\n",
    "\n",
    "3. **Interpretado e interactivo:**\n",
    "   No requiere compilar el código antes de ejecutarlo: basta con escribirlo y correrlo. Esto facilita la experimentación rápida en entornos como **Jupyter Notebook**, ideal para analítica de datos.\n",
    "\n",
    "4. **Extensible y con gran ecosistema:**\n",
    "   La comunidad ha creado miles de bibliotecas para tareas específicas: `pandas` para análisis de datos, `numpy` para cálculo numérico, `matplotlib` para visualización, `scikit-learn` para machine learning, entre otras. Esto permite resolver problemas complejos sin empezar desde cero.\n",
    "\n",
    "5. **Multiplataforma:**\n",
    "   Funciona en Windows, macOS y Linux, y puede integrarse con otros lenguajes (C, C++, Java) cuando se necesita mayor desempeño.\n",
    "\n",
    "6. **Comunidad activa:**\n",
    "   Una de las mayores ventajas de Python es su comunidad global que mantiene documentación, foros y ejemplos. Para cualquier problema, es probable que ya exista una solución en línea.\n"
   ]
  },
  {
   "cell_type": "markdown",
   "id": "adf3f73c",
   "metadata": {},
   "source": [
    "### **Diferencias respecto a otros lenguajes**"
   ]
  },
  {
   "cell_type": "markdown",
   "id": "97f55d81",
   "metadata": {},
   "source": [
    "* **Comparado con C o Java:** Python es más **conciso**. Tareas que en C/Java requieren varias líneas de código pueden resolverse en Python con una sola instrucción. Además, no se necesita declarar el tipo de las variables, ya que el lenguaje es de **tipado dinámico**.  \n",
    "\n",
    "* **Comparado con R:** R nació específicamente para estadística, mientras que Python es más **generalista**. Hoy en día, Python se ha convertido en estándar de facto para proyectos de ciencia de datos y machine learning por su versatilidad y ecosistema.  \n",
    "\n",
    "* **Comparado con Excel o herramientas de BI tradicionales:** Python no se limita a trabajar con hojas de cálculo; puede automatizar tareas, conectar múltiples fuentes de datos y procesar información en volúmenes que superan la capacidad de Excel.\n"
   ]
  },
  {
   "cell_type": "markdown",
   "id": "72d7dd0d",
   "metadata": {},
   "source": [
    "Aprender Python en este curso es aprender la **herramienta puente** entre los datos y las decisiones. Con él podremos construir procesos de **ingesta, limpieza, transformación, análisis y visualización** de datos de forma reproducible y escalable. Es la base que permitirá, en semanas posteriores, integrar R, APIs y conceptos de Big Data para abordar proyectos de mayor complejidad."
   ]
  },
  {
   "cell_type": "markdown",
   "id": "9c4b7c75",
   "metadata": {},
   "source": [
    "### **Valores, Tipos, Variables, Expresiones y Sentencias**"
   ]
  },
  {
   "cell_type": "markdown",
   "id": "cecb1206",
   "metadata": {},
   "source": [
    "- **Variables:** Una variable es un nombre que se utiliza para hacer referencia a un valor en la memoria de la computadora. Estos valores pueden ser de diversos tipos, como numéricos ([int / float / complex](https://docs.python.org/3/library/stdtypes.html#numeric-types-int-float-complex)), cadenas de texto([str](https://docs.python.org/3/library/stdtypes.html#text-sequence-type-str)), secuencia ([tuple/list](https://docs.python.org/3/library/stdtypes.html#sequence-types-list-tuple-range)), asignación (mapping) ([dict](https://docs.python.org/3/library/stdtypes.html#mapping-types-dict)), objetos y más. Las variables son fundamentales en la programación ya que permiten almacenar y manipular datos de manera dinámica. En Python, se crea una variable al asignarle un valor usando el operador de asignación (`=`). Por ejemplo:"
   ]
  },
  {
   "cell_type": "markdown",
   "id": "1c435b6e",
   "metadata": {},
   "source": [
    "<div class=\"alert alert-danger\"><strong>Nota:</strong> En Jupyter Notebook, las celdas de código pueden ejecutarse de varias maneras, dependiendo de si deseas permanecer en la misma celda o avanzar a la siguiente:\n",
    "\n",
    "* **Ctrl + Enter (Windows/Linux) o Cmd + Enter (macOS):**\n",
    "  Ejecuta el contenido de la celda **sin cambiar de posición**. La celda muestra el resultado y permanece seleccionada.\n",
    "\n",
    "* **Shift + Enter:**\n",
    "  Ejecuta la celda **y avanza automáticamente a la siguiente** (creando una nueva si no existe). Es el atajo más usado para trabajar de forma continua.\n",
    "\n",
    "* **Alt + Enter (Windows/Linux) o Option + Enter (macOS):**\n",
    "  Ejecuta la celda **y crea una nueva celda debajo**, dejándola lista para escribir.\n",
    ".</div>"
   ]
  },
  {
   "cell_type": "code",
   "execution_count": 1,
   "id": "25cbb46d",
   "metadata": {},
   "outputs": [],
   "source": [
    "mensaje = \"Este es un mensaje\" # String\n",
    "n1 = 17 # Integer\n",
    "n2 = 17.0 # Float\n",
    "pi = 3.14159265 # Float\n",
    "cc = \"123456789\" # String\n",
    "verdadero = True # Boolean"
   ]
  },
  {
   "cell_type": "code",
   "execution_count": 2,
   "id": "d4063759",
   "metadata": {},
   "outputs": [
    {
     "name": "stdout",
     "output_type": "stream",
     "text": [
      "Este es un mensaje\n",
      "17\n",
      "17.0\n",
      "3.14159265\n",
      "123456789\n",
      "True\n"
     ]
    }
   ],
   "source": [
    "print(mensaje)  # Imprime el mensaje\n",
    "print(n1)        # Imprime el número entero\n",
    "print(n2)      # Imprime el número decimal\n",
    "print(pi)      # Imprime el número decimal\n",
    "print(cc)      # Imprime el número como cadena\n",
    "print(verdadero) # Imprime el valor booleano"
   ]
  },
  {
   "cell_type": "code",
   "execution_count": 3,
   "id": "1118fbb9",
   "metadata": {},
   "outputs": [
    {
     "name": "stdout",
     "output_type": "stream",
     "text": [
      "<class 'str'>\n",
      "<class 'int'>\n",
      "<class 'float'>\n",
      "<class 'float'>\n",
      "<class 'str'>\n",
      "<class 'bool'>\n"
     ]
    }
   ],
   "source": [
    "print(type(mensaje)) # Imprime el tipo de dato de la variable mensaje\n",
    "print(type(n1))      # Imprime el tipo de dato de la variable n1\n",
    "print(type(n2))      # Imprime el tipo de dato de la variable n2\n",
    "print(type(pi))      # Imprime el tipo de dato de la variable pi\n",
    "print(type(cc))      # Imprime el tipo de dato de la variable cc\n",
    "print(type(verdadero)) # Imprime el tipo de dato de la variable verdadero"
   ]
  },
  {
   "cell_type": "markdown",
   "id": "b9dc9065",
   "metadata": {},
   "source": [
    "### **Reglas para nombrar variables**"
   ]
  },
  {
   "cell_type": "markdown",
   "id": "dc74ee50",
   "metadata": {},
   "source": [
    "- No se pueden empezar por número\n",
    "- No pueden usar caracteres especiales\n",
    "- No pueden tener espacios en blanco"
   ]
  },
  {
   "cell_type": "code",
   "execution_count": 5,
   "id": "fb058fd8",
   "metadata": {},
   "outputs": [
    {
     "ename": "SyntaxError",
     "evalue": "invalid syntax (1397146641.py, line 1)",
     "output_type": "error",
     "traceback": [
      "  \u001b[36mCell\u001b[39m\u001b[36m \u001b[39m\u001b[32mIn[5]\u001b[39m\u001b[32m, line 1\u001b[39m\n\u001b[31m    \u001b[39m\u001b[31m25 % 0 0.25 # ocasionará un error: Empieza por número, tiene un espacio en blanco y tiene un caracter especial.\u001b[39m\n           ^\n\u001b[31mSyntaxError\u001b[39m\u001b[31m:\u001b[39m invalid syntax\n"
     ]
    }
   ],
   "source": [
    "25 % 0 0.25 # ocasionará un error: Empieza por número, tiene un espacio en blanco y tiene un caracter especial."
   ]
  },
  {
   "cell_type": "code",
   "execution_count": null,
   "id": "fbed2086",
   "metadata": {},
   "outputs": [
    {
     "name": "stdout",
     "output_type": "stream",
     "text": [
      "0.25\n"
     ]
    }
   ],
   "source": [
    "porcentaje25 = 0.25 # Correcto\n",
    "print(porcentaje25) # Imprime el valor de la variable porcentaje25"
   ]
  },
  {
   "cell_type": "markdown",
   "id": "157d4d4c",
   "metadata": {},
   "source": [
    "- Nombres de variables pueden tener una cantidad arbitraria de caracteres.  \n",
    "- Pueden contener letras y números, pero **SIEMPRE** deben empezar por una letra.  \n",
    "- Es **\"Kool\"** usar letras en mayúscula, pero es una buena práctica empezar los nombres de variables en minúscula.  \n",
    "- El carácter \"guión bajo\" (*underscore*), `_` , puede aparecer en el nombre de una variable. Usado frecuentemente en variables cuyo nombre está compuesto por diferentes palabras.  \n",
    "- Si da a una variable un nombre ilegal, obtendrá un error de sintaxis.  \n",
    "\n",
    "Python tiene una [Guía de Estilo (PEP8)](https://peps.python.org/pep-0008/) para poner de acuerdo a todos cómo deben hacerse las cosas al estilo python:  \n",
    "\n",
    "- ***Camel Case:*** `nombreVariable`  \n",
    "- ***Snake Case:*** `nombre_variable`  \n",
    "- ***Pascal Case:*** `NombreVariable`  "
   ]
  },
  {
   "cell_type": "markdown",
   "id": "7a9ee19f",
   "metadata": {},
   "source": [
    "### **Palabras Clave (keywords)**"
   ]
  },
  {
   "cell_type": "markdown",
   "id": "76d79114",
   "metadata": {},
   "source": [
    "Las **palabras clave** son términos reservados que Python utiliza para su propia sintaxis y que **no pueden usarse como nombres de variables o funciones**. Indican instrucciones al intérprete y definen la estructura del lenguaje.\n",
    "\n",
    "Ejemplos de keywords:\n",
    "`if`, `else`, `elif`, `for`, `while`, `def`, `return`, `class`, `import`, `try`, `except`, `True`, `False`, `None`, `and`, `or`, `not`.\n",
    "\n",
    "Podemos ver todas las palabras clave en la versión actual de Python con:"
   ]
  },
  {
   "cell_type": "code",
   "execution_count": null,
   "id": "224a1f35",
   "metadata": {},
   "outputs": [
    {
     "name": "stdout",
     "output_type": "stream",
     "text": [
      "['False', 'None', 'True', 'and', 'as', 'assert', 'async', 'await', 'break', 'class', 'continue', 'def', 'del', 'elif', 'else', 'except', 'finally', 'for', 'from', 'global', 'if', 'import', 'in', 'is', 'lambda', 'nonlocal', 'not', 'or', 'pass', 'raise', 'return', 'try', 'while', 'with', 'yield']\n",
      "35\n"
     ]
    }
   ],
   "source": [
    "import keyword # Importa el módulo keyword para trabajar con palabras reservadas\n",
    "listkw = keyword.kwlist # Obtiene la lista de palabras reservadas en Python\n",
    "print(listkw) # Imprime la lista de palabras reservadas en Python\n",
    "print(len(listkw)) # Imprime la cantidad de palabras reservadas en Python"
   ]
  },
  {
   "cell_type": "markdown",
   "id": "7c621a37",
   "metadata": {},
   "source": [
    "### **Funciones Integradas (Built-in Functions)**"
   ]
  },
  {
   "cell_type": "markdown",
   "id": "6b9d2ecd",
   "metadata": {},
   "source": [
    "Las **funciones integradas** son funciones que ya vienen incluidas en Python y que se pueden usar sin necesidad de importar librerías. Facilitan tareas comunes como conversiones de tipos, operaciones matemáticas simples, manejo de colecciones y entrada/salida.\n",
    "\n",
    "Algunos ejemplos muy útiles:\n",
    "\n",
    "* `print()` → muestra texto o valores en pantalla.\n",
    "* `len()` → devuelve el tamaño de una lista, cadena o colección.\n",
    "* `type()` → devuelve el tipo de un objeto.\n",
    "* `sum()`, `max()`, `min()` → operaciones agregadas.\n",
    "* `round()` → redondea números.\n",
    "* `input()` → lee datos ingresados por el usuario.\n",
    "\n",
    "Podemos ver todas las funciones integradas disponibles en Python con:\n"
   ]
  },
  {
   "cell_type": "code",
   "execution_count": null,
   "id": "84751742",
   "metadata": {},
   "outputs": [
    {
     "name": "stdout",
     "output_type": "stream",
     "text": [
      "['ArithmeticError', 'AssertionError', 'AttributeError', 'BaseException', 'BaseExceptionGroup', 'BlockingIOError', 'BrokenPipeError', 'BufferError', 'BytesWarning', 'ChildProcessError', 'ConnectionAbortedError', 'ConnectionError', 'ConnectionRefusedError', 'ConnectionResetError', 'DeprecationWarning', 'EOFError', 'Ellipsis', 'EncodingWarning', 'EnvironmentError', 'Exception', 'ExceptionGroup', 'False', 'FileExistsError', 'FileNotFoundError', 'FloatingPointError', 'FutureWarning', 'GeneratorExit', 'IOError', 'ImportError', 'ImportWarning', 'IndentationError', 'IndexError', 'InterruptedError', 'IsADirectoryError', 'KeyError', 'KeyboardInterrupt', 'LookupError', 'MemoryError', 'ModuleNotFoundError', 'NameError', 'None', 'NotADirectoryError', 'NotImplemented', 'NotImplementedError', 'OSError', 'OverflowError', 'PendingDeprecationWarning', 'PermissionError', 'ProcessLookupError', 'PythonFinalizationError', 'RecursionError', 'ReferenceError', 'ResourceWarning', 'RuntimeError', 'RuntimeWarning', 'StopAsyncIteration', 'StopIteration', 'SyntaxError', 'SyntaxWarning', 'SystemError', 'SystemExit', 'TabError', 'TimeoutError', 'True', 'TypeError', 'UnboundLocalError', 'UnicodeDecodeError', 'UnicodeEncodeError', 'UnicodeError', 'UnicodeTranslateError', 'UnicodeWarning', 'UserWarning', 'ValueError', 'Warning', 'WindowsError', 'ZeroDivisionError', '_IncompleteInputError', '__IPYTHON__', '__build_class__', '__debug__', '__doc__', '__import__', '__loader__', '__name__', '__package__', '__spec__', 'abs', 'aiter', 'all', 'anext', 'any', 'ascii', 'bin', 'bool', 'breakpoint', 'bytearray', 'bytes', 'callable', 'chr', 'classmethod', 'compile', 'complex', 'copyright', 'credits', 'delattr', 'dict', 'dir', 'display', 'divmod', 'enumerate', 'eval', 'exec', 'execfile', 'filter', 'float', 'format', 'frozenset', 'get_ipython', 'getattr', 'globals', 'hasattr', 'hash', 'help', 'hex', 'id', 'input', 'int', 'isinstance', 'issubclass', 'iter', 'len', 'license', 'list', 'locals', 'map', 'max', 'memoryview', 'min', 'next', 'object', 'oct', 'open', 'ord', 'pow', 'print', 'property', 'range', 'repr', 'reversed', 'round', 'runfile', 'set', 'setattr', 'slice', 'sorted', 'staticmethod', 'str', 'sum', 'super', 'tuple', 'type', 'vars', 'zip']\n",
      "163\n"
     ]
    }
   ],
   "source": [
    "list_built = dir(__builtins__) # Lista de funciones y tipos de datos incorporados en Python\n",
    "print(list_built) # Imprime la lista de funciones y tipos de datos incorporados en Python\n",
    "print(len(list_built)) # Imprime la cantidad de funciones y tipos de datos incorporados en Python"
   ]
  },
  {
   "cell_type": "markdown",
   "id": "538c6af7",
   "metadata": {},
   "source": [
    "### **Ayuda (documentación)**"
   ]
  },
  {
   "cell_type": "code",
   "execution_count": null,
   "id": "b28c0b64",
   "metadata": {},
   "outputs": [
    {
     "name": "stdout",
     "output_type": "stream",
     "text": [
      "Help on built-in function print in module builtins:\n",
      "\n",
      "print(*args, sep=' ', end='\\n', file=None, flush=False)\n",
      "    Prints the values to a stream, or to sys.stdout by default.\n",
      "\n",
      "    sep\n",
      "      string inserted between values, default a space.\n",
      "    end\n",
      "      string appended after the last value, default a newline.\n",
      "    file\n",
      "      a file-like object (stream); defaults to the current sys.stdout.\n",
      "    flush\n",
      "      whether to forcibly flush the stream.\n",
      "\n"
     ]
    }
   ],
   "source": [
    "help(print) # Muestra la documentación de la función print"
   ]
  },
  {
   "cell_type": "code",
   "execution_count": null,
   "id": "b6a319a0",
   "metadata": {},
   "outputs": [
    {
     "name": "stdout",
     "output_type": "stream",
     "text": [
      "\u001b[31mSignature:\u001b[39m print(*args, sep=\u001b[33m' '\u001b[39m, end=\u001b[33m'\\n'\u001b[39m, file=\u001b[38;5;28;01mNone\u001b[39;00m, flush=\u001b[38;5;28;01mFalse\u001b[39;00m)\n",
      "\u001b[31mDocstring:\u001b[39m\n",
      "Prints the values to a stream, or to sys.stdout by default.\n",
      "\n",
      "sep\n",
      "  string inserted between values, default a space.\n",
      "end\n",
      "  string appended after the last value, default a newline.\n",
      "file\n",
      "  a file-like object (stream); defaults to the current sys.stdout.\n",
      "flush\n",
      "  whether to forcibly flush the stream.\n",
      "\u001b[31mType:\u001b[39m      builtin_function_or_method"
     ]
    }
   ],
   "source": [
    "print? # Muestra la documentación de la función print en un panel lateral (Jupyter Notebook)"
   ]
  },
  {
   "cell_type": "markdown",
   "id": "171d4482",
   "metadata": {},
   "source": [
    "### **Asignación Múltiple**"
   ]
  },
  {
   "cell_type": "markdown",
   "id": "df85111b",
   "metadata": {},
   "source": [
    "Otra de las ventajas que *Python* nos provee es la de poder asignar en una sola instrucción múltiples variables.\n",
    "\n",
    "En vez de escribir:"
   ]
  },
  {
   "cell_type": "code",
   "execution_count": null,
   "id": "37d7472f",
   "metadata": {},
   "outputs": [
    {
     "name": "stdout",
     "output_type": "stream",
     "text": [
      "10\n",
      "20\n",
      "30\n"
     ]
    }
   ],
   "source": [
    "a = 10 # Asignación simple\n",
    "b = 20 # Asignación simple\n",
    "c = 30 # Asignación simple\n",
    "\n",
    "print(a)\n",
    "print(b)\n",
    "print(c)"
   ]
  },
  {
   "cell_type": "markdown",
   "id": "4ce9ca77",
   "metadata": {},
   "source": [
    "podemos escribir"
   ]
  },
  {
   "cell_type": "code",
   "execution_count": null,
   "id": "8bf20308",
   "metadata": {},
   "outputs": [
    {
     "name": "stdout",
     "output_type": "stream",
     "text": [
      "1\n",
      "2\n",
      "3\n"
     ]
    }
   ],
   "source": [
    "a, b, c = 1, 2, 3 # Asignación múltiple\n",
    "print(a)\n",
    "print(b)    \n",
    "print(c)"
   ]
  },
  {
   "cell_type": "markdown",
   "id": "47c9314c",
   "metadata": {},
   "source": [
    "### **Operadores y Operandos**"
   ]
  },
  {
   "cell_type": "markdown",
   "id": "71231966",
   "metadata": {},
   "source": [
    "En Python, los operadores son símbolos especiales que realizan operaciones en operandos (variables, valores, expresiones) y producen un resultado. Existen varios tipos de operadores en Python:"
   ]
  },
  {
   "cell_type": "markdown",
   "id": "6357d77e",
   "metadata": {},
   "source": [
    "#### **Operadores aritméticos**"
   ]
  },
  {
   "cell_type": "markdown",
   "id": "baa083da",
   "metadata": {},
   "source": [
    "Los operadores son símbolos especiales que representan cálculos aritméticos: \n",
    "\n",
    "|Operador|Símbolo|\n",
    "|--------|-------|\n",
    "|Suma| `+`|\n",
    "|Resta| `-`|\n",
    "|Multiplicación| `*`|\n",
    "|División| `/`|\n",
    "|Potenciación| `**`|\n",
    "|División entera| `//`|\n",
    "|Módulo| `%`|"
   ]
  },
  {
   "cell_type": "code",
   "execution_count": null,
   "id": "9d5cd2ed",
   "metadata": {},
   "outputs": [
    {
     "name": "stdout",
     "output_type": "stream",
     "text": [
      "Suma:  8\n",
      "Resta:  -2\n",
      "Multiplicación:  15\n",
      "División:  0.6\n",
      "Potencia:  243\n",
      "División entera:  0\n",
      "Módulo:  3\n"
     ]
    }
   ],
   "source": [
    "a = 3 # Asignación\n",
    "b = 5 # Asignación\n",
    "\n",
    "c = a + b # Suma\n",
    "d = a - b # Resta\n",
    "e = a * b # Multiplicación\n",
    "f = a / b # División\n",
    "g = a**b  # Potencia\n",
    "h = a // b # División entera\n",
    "i = a % b # Módulo\n",
    "\n",
    "print(\"Suma: \", c) # Imprime el resultado de la suma\n",
    "print(\"Resta: \", d) # Imprime el resultado de la resta\n",
    "print(\"Multiplicación: \", e) # Imprime el resultado de la multiplicación\n",
    "print(\"División: \", f) # Imprime el resultado de la división\n",
    "print(\"Potencia: \", g) # Imprime el resultado de la potencia\n",
    "print(\"División entera: \", h) # Imprime el resultado de la división entera\n",
    "print(\"Módulo: \", i) # Imprime el resultado del módulo"
   ]
  },
  {
   "cell_type": "markdown",
   "id": "09a2c967",
   "metadata": {},
   "source": [
    "- **División entera (`//`):** devuelve el **cociente sin decimales**, redondeando hacia abajo al número entero más cercano (trunca el resultado). Es útil cuando necesitamos saber cuántas veces un número “cabe” dentro de otro, sin preocuparnos por el residuo.  \n",
    "\n",
    "- **Módulo (`%`):** devuelve el **residuo** de la división entre dos números. Es muy útil para operaciones como verificar si un número es par, ciclos repetitivos o para repartir sobrantes.\n"
   ]
  },
  {
   "cell_type": "markdown",
   "id": "c13da0ae",
   "metadata": {},
   "source": [
    "### **Operadores de Comparación (booleanos)**"
   ]
  },
  {
   "cell_type": "markdown",
   "id": "dd3ffb78",
   "metadata": {},
   "source": [
    "En programación, los operadores de comparación se utilizan para comparar valores y evaluar hasta un único valor booleano de Verdadero o Falso. Estos valores son especialmente importantes para las expresiones condicionales y los ciclos, como veremos más adelante. Una variable de tipo booleano sólo puede tener uno dedos valores `True` (*verdadero*) o `False` (*falso*). El tipo `bool` (el tipo de los booleanos) es una subclase del tipo `int`."
   ]
  },
  {
   "cell_type": "code",
   "execution_count": null,
   "id": "e65c3d44",
   "metadata": {},
   "outputs": [
    {
     "name": "stdout",
     "output_type": "stream",
     "text": [
      "falso: False\n",
      "<class 'bool'>\n",
      "verdadero: True\n",
      "<class 'bool'>\n"
     ]
    }
   ],
   "source": [
    "falso = False # Boolean\n",
    "verdadero = True # Boolean \n",
    "\n",
    "print('falso:',falso) # Imprime el valor de la variable falso\n",
    "print(type(falso)) # Imprime el tipo de dato de la variable falso\n",
    "\n",
    "print('verdadero:',verdadero) # Imprime el valor de la variable verdadero\n",
    "print(type(verdadero)) # Imprime el tipo de dato de la variable verdadero"
   ]
  },
  {
   "cell_type": "markdown",
   "id": "8d01e302",
   "metadata": {},
   "source": [
    "Los valores booleanos son además el resultado de expresiones que utilizan operadores relacionales (comparaciones entre valores):\n",
    "\n",
    "Supongamos $a$ = 5 y $b$ = 3:\n",
    "\n",
    "| Operador    | Descripción                   | Ejemplo                   |\n",
    "| -----------:|:-----------------------------:|--------------------------:|\n",
    "| `==`        | Son iguales $a$ y $b$?        | `a == b`   # False |\n",
    "| `!=`        | Son distintos $a$ o $b$?      | `a != b`   # True  |\n",
    "| `<`         | $a$ es menor que $b$?         | `a < b`    # False |\n",
    "| `>`         | $a$ es mayor que $b$?         | `a > b`    # True  |\n",
    "| `<=`        | $a$ es menor o igual que $b$? | `a <= b`   # False |\n",
    "| `>=`        | $a$ es mayor o igual que $b$? | `a >= b`   # True  |"
   ]
  },
  {
   "cell_type": "code",
   "execution_count": null,
   "id": "c9e434b3",
   "metadata": {},
   "outputs": [
    {
     "name": "stdout",
     "output_type": "stream",
     "text": [
      "a y b son iguales: False\n",
      "a y b son diferentes: True\n",
      "a es mayor que b: False\n",
      "a es menor que b: True\n",
      "a es mayor o igual que b: False\n",
      "a es menor o igual que b: True\n"
     ]
    }
   ],
   "source": [
    "a = 5 # Asignación\n",
    "b = 10 # Asignación\n",
    "\n",
    "print(\"a y b son iguales:\", a == b)  # False\n",
    "print(\"a y b son diferentes:\", a != b)  # True\n",
    "print(\"a es mayor que b:\", a > b)    # False\n",
    "print(\"a es menor que b:\", a < b)    # True\n",
    "print(\"a es mayor o igual que b:\", a >= b)  # False\n",
    "print(\"a es menor o igual que b:\", a <= b)  # True"
   ]
  },
  {
   "cell_type": "markdown",
   "id": "8eee6a3c",
   "metadata": {},
   "source": [
    "### **Operadores Lógicos**"
   ]
  },
  {
   "cell_type": "markdown",
   "id": "82094d43",
   "metadata": {},
   "source": [
    "Los operadores lógicos se utilizan normalmente para evaluar si dos o más expresiones son verdaderas o no. Estos operadores son muy útiles para filtrar datos y construir reglas de negocio más complejas en Python. Por ejemplo, para determinar si un usuario debe considerarse cliente activo en una tienda en línea, se puede verificar si tiene crédito disponible en su cuenta o si ha realizado al menos una compra en los últimos seis meses. \n",
    "\n",
    "| Operador    | Descripción           | Ejemplo                         |\n",
    "| -----------:|:---------------------:|--------------------------------:|\n",
    "| `and`       | Se cumple $a$ y $b$?  | Todas las condiciones deben ser verdaderas |\n",
    "| `or`        | Se cumple $a$ o $b$?  | Basta con que al menos una de las condiciones sea verdadera |\n",
    "| `not`       | No $a$                | Niega el valor lógico de la condición|"
   ]
  },
  {
   "cell_type": "code",
   "execution_count": null,
   "id": "5b174c97",
   "metadata": {},
   "outputs": [
    {
     "data": {
      "text/plain": [
       "False"
      ]
     },
     "execution_count": 35,
     "metadata": {},
     "output_type": "execute_result"
    }
   ],
   "source": [
    "a < 6 and b < a # Evalua si ambas condiciones son True (False)"
   ]
  },
  {
   "cell_type": "code",
   "execution_count": null,
   "id": "1b4d065b",
   "metadata": {},
   "outputs": [
    {
     "data": {
      "text/plain": [
       "True"
      ]
     },
     "execution_count": 36,
     "metadata": {},
     "output_type": "execute_result"
    }
   ],
   "source": [
    "a < 6 or b > a # Evalua si al menos una condición es True (True)"
   ]
  },
  {
   "cell_type": "markdown",
   "id": "540e5bfd",
   "metadata": {},
   "source": [
    "### **Operadores entre conjuntos**"
   ]
  },
  {
   "cell_type": "markdown",
   "id": "99a7346b",
   "metadata": {},
   "source": [
    "En Python, los conjuntos (`set`) permiten representar **colecciones de elementos únicos** y realizar operaciones de teoría de conjuntos de forma sencilla.\n",
    "\n",
    "* **Intersección (`&`):** Devuelve un nuevo conjunto con los elementos **comunes** a ambos conjuntos.  \n",
    "\n",
    "* **Unión (`|`):** Devuelve un nuevo conjunto con **todos los elementos** de ambos conjuntos, sin duplicados.\n"
   ]
  },
  {
   "cell_type": "code",
   "execution_count": null,
   "id": "7875db56",
   "metadata": {},
   "outputs": [
    {
     "name": "stdout",
     "output_type": "stream",
     "text": [
      "{'Luis', 'Sofía'}\n"
     ]
    }
   ],
   "source": [
    "clientes_a = {\"Ana\", \"Luis\", \"Sofía\"} # Conjunto (set) de clientes del mes A\n",
    "clientes_b = {\"Sofía\", \"Pedro\", \"Luis\"} # Conjunto (set) de clientes del mes B\n",
    "\n",
    "clientes_comunes = clientes_a & clientes_b # Intersección: clientes que compraron en ambos meses\n",
    "print(clientes_comunes)  # {'Sofía', 'Luis'}\n"
   ]
  },
  {
   "cell_type": "code",
   "execution_count": null,
   "id": "5156fa09",
   "metadata": {},
   "outputs": [
    {
     "name": "stdout",
     "output_type": "stream",
     "text": [
      "{'Pedro', 'Luis', 'Sofía', 'Ana'}\n"
     ]
    }
   ],
   "source": [
    "todos_clientes = clientes_a | clientes_b # Unión: todos los clientes que compraron en alguno de los dos meses\n",
    "print(todos_clientes)  # {'Ana', 'Luis', 'Pedro', 'Sofía'}\n"
   ]
  },
  {
   "cell_type": "markdown",
   "id": "a679f9c6",
   "metadata": {},
   "source": [
    "### **Operadores de asignación**"
   ]
  },
  {
   "cell_type": "markdown",
   "id": "86e6eedd",
   "metadata": {},
   "source": [
    "Los operadores de asignación en Python se utilizan para asignar valores a variables a la derecha y actualizar dicha variable. \n",
    "\n",
    "| Operador | Descripción                                         | Ejemplo                              |\n",
    "|:---------|:----------------------------------------------------|--------------------------------------|\n",
    "| `=`        | Asigna el valor de la derecha a la variable a la izquierda. | `x = 5` asigna el valor 5 a la variable x. |\n",
    "| `+=`       | Añade el valor de la derecha al valor de la variable a la izquierda. | `x += 3` es equivalente a `x = x + 3`. |\n",
    "| `-=`       | Resta el valor de la derecha al valor de la variable a la izquierda. | `x -= 2` es equivalente a `x = x - 2`. |\n",
    "| `*=`       | Multiplica el valor de la variable a la izquierda por el valor de la derecha. | `x *= 4` es equivalente a `x = x * 4`. |\n",
    "| `/=`       | Divide el valor de la variable a la izquierda por el valor de la derecha. | `x /= 2` es equivalente a `x = x / 2`. |\n",
    "| `%=`       | Realiza la operación módulo entre el valor de la variable a la izquierda y el valor de la derecha. | `x %= 3` es equivalente a `x = x % 3`. |\n",
    "| `//=`      | Realiza la división entera entre el valor de la variable a la izquierda y el valor de la derecha. | `x //= 2` es equivalente a `x = x // 2`. |\n",
    "| `**=`      | Eleva el valor de la variable a la izquierda a la potencia del valor de la derecha. | `x **= 2` es equivalente a `x = x ** 2`. |\n",
    "| `&=`       | Realiza la operación AND a nivel de bit entre la variable a la izquierda y la variable a la derecha. | `x &= 3` es equivalente a `x = x & 3`. |\n",
    "| `\\|=`      | Realiza la operación OR a nivel de bit entre la variable a la izquierda y la variable a la derecha. | `x \\|= 3` es equivalente a `x = x \\| 3`. |\n",
    "| `^=`       | Realiza la operación XOR a nivel de bit entre la variable a la izquierda y la variable a la derecha. | `x ^= 3` es equivalente a `x = x ^ 3`. |\n",
    "| `>>=`      | Realiza la operación de desplazamiento a la derecha a nivel de bit entre la variable a la izquierda y la variable a la derecha. | `x >>= 2` es equivalente a `x = x >> 2`. |\n",
    "| `<<=`      | Realiza la operación de desplazamiento a la izquierda a nivel de bit entre la variable a la izquierda y la variable a la derecha. | `x <<= 2` es equivalente a `x = x << 2`. |\n",
    "\n",
    "Estos operadores de asignación son útiles para realizar operaciones específicas en las variables y actualizarlas directamente en Python."
   ]
  },
  {
   "cell_type": "markdown",
   "id": "7c37471d",
   "metadata": {},
   "source": [
    "### **Operadores de identidad**"
   ]
  },
  {
   "cell_type": "markdown",
   "id": "33081596",
   "metadata": {},
   "source": [
    "En Python, los operadores de identidad se utilizan para comparar la identidad de dos objetos. \n",
    "\n",
    "| Operador | Descripción                    | Ejemplo                                     |\n",
    "|:---------|:-------------------------------|---------------------------------------------|\n",
    "| `is`       | Devuelve `True` si ambas variables son el mismo objeto.| a = [1, 2, 3]  b = a  `a is b` devuelve `True`.  |\n",
    "| `is not`   | Devuelve `True` si ambas variables no son el mismo objeto. | a = [1, 2, 3]  b = [1, 2, 3]  `a is not b` devuelve `True`. |\n",
    "\n",
    "Estos operadores se utilizan para verificar si dos variables se refieren al mismo objeto en la memoria. La comparación con estos operadores se basa en la identidad de los objetos y no en su valor."
   ]
  },
  {
   "cell_type": "code",
   "execution_count": null,
   "id": "b9719994",
   "metadata": {},
   "outputs": [
    {
     "data": {
      "text/plain": [
       "True"
      ]
     },
     "execution_count": 44,
     "metadata": {},
     "output_type": "execute_result"
    }
   ],
   "source": [
    "a = [1,2,3] # a referencia a una lista en memoria\n",
    "b = a # b referencia al mismo objeto que a (es una copia por referencia)\n",
    "\n",
    "a is b # True, porque a y b son el mismo objeto en memoria."
   ]
  },
  {
   "cell_type": "code",
   "execution_count": null,
   "id": "e945c6f8",
   "metadata": {},
   "outputs": [
    {
     "data": {
      "text/plain": [
       "True"
      ]
     },
     "execution_count": 45,
     "metadata": {},
     "output_type": "execute_result"
    }
   ],
   "source": [
    "c = [1,2,3] # c referencia a una nueva lista en memoria con el mismo contenido que a\n",
    "d = [1,2,3] # d referencia a otra nueva lista en memoria con el mismo contenido que a\n",
    "\n",
    "c is not d # True, porque c y d son diferentes objetos en memoria, aunque tengan el mismo contenido."
   ]
  },
  {
   "cell_type": "markdown",
   "id": "b9e62859",
   "metadata": {},
   "source": [
    "### **Operadores de pertenencia**"
   ]
  },
  {
   "cell_type": "markdown",
   "id": "987a3700",
   "metadata": {},
   "source": [
    "En Python, los operadores de pertenencia se utilizan para evaluar si una secuencia contiene un valor específico.\n",
    "\n",
    "| Operador | Descripción                                                 | Ejemplo                                 |\n",
    "|:---------|:------------------------------------------------------------|-----------------------------------------|\n",
    "| in       | Devuelve True si un valor se encuentra en una secuencia.    | `2 in [1, 2, 3]` devuelve `True` (el elemento `2`está en el conjunto) |\n",
    "| not in   | Devuelve True si un valor no se encuentra en una secuencia. | `5 not in [1, 2, 3]` devuelve `True`(El elemento `5` no está en el conjunto) |\n",
    "\n",
    "Estos operadores se utilizan para verificar la presencia de un valor en una secuencia, como una lista, tupla, conjunto o cadena."
   ]
  },
  {
   "cell_type": "code",
   "execution_count": null,
   "id": "d60534d2",
   "metadata": {},
   "outputs": [
    {
     "data": {
      "text/plain": [
       "True"
      ]
     },
     "execution_count": 48,
     "metadata": {},
     "output_type": "execute_result"
    }
   ],
   "source": [
    "a = [1,2,3] # a referencia a una lista en memoria\n",
    "\n",
    "2 in a # True, porque el elemento 2 está en la lista a."
   ]
  },
  {
   "cell_type": "code",
   "execution_count": null,
   "id": "a245b1e7",
   "metadata": {},
   "outputs": [
    {
     "data": {
      "text/plain": [
       "False"
      ]
     },
     "execution_count": 51,
     "metadata": {},
     "output_type": "execute_result"
    }
   ],
   "source": [
    "2 not in a # False, porque el elemento 2 está en la lista a."
   ]
  },
  {
   "cell_type": "code",
   "execution_count": null,
   "id": "76011e41",
   "metadata": {},
   "outputs": [
    {
     "data": {
      "text/plain": [
       "True"
      ]
     },
     "execution_count": 52,
     "metadata": {},
     "output_type": "execute_result"
    }
   ],
   "source": [
    "5 not in a # True, porque el elemento 5 no está en la lista a."
   ]
  },
  {
   "cell_type": "markdown",
   "id": "41aa6b12",
   "metadata": {},
   "source": [
    "### **Orden de las operaciones**"
   ]
  },
  {
   "cell_type": "markdown",
   "id": "d5ed320b",
   "metadata": {},
   "source": [
    "Al igual que en matemáticas, el orden de las operaciones es fundamental en programación. Debe respetarse:\n",
    "\n",
    "$$Paréntesis \\rightarrow Exponentes/Potencias/Radicales \\rightarrow Multiplicaciones/Divisiones \\rightarrow Sumas/Restas$$"
   ]
  },
  {
   "cell_type": "code",
   "execution_count": null,
   "id": "dca61bd0",
   "metadata": {},
   "outputs": [
    {
     "data": {
      "text/plain": [
       "4.0"
      ]
     },
     "execution_count": 58,
     "metadata": {},
     "output_type": "execute_result"
    }
   ],
   "source": [
    "(2 + 4 + 6) / 3 # Se realiza primero la suma, luego la división. El paréntesis tiene mayor precedencia que la división."
   ]
  },
  {
   "cell_type": "code",
   "execution_count": null,
   "id": "f4c89bf3",
   "metadata": {},
   "outputs": [
    {
     "data": {
      "text/plain": [
       "9.0"
      ]
     },
     "execution_count": 59,
     "metadata": {},
     "output_type": "execute_result"
    }
   ],
   "source": [
    "2 + 4 + 6 / 3 # Se realiza primero la división, luego la suma. La división tiene mayor precedencia que la suma."
   ]
  },
  {
   "cell_type": "markdown",
   "id": "dccaf3dd",
   "metadata": {},
   "source": [
    "### **Comentarios**"
   ]
  },
  {
   "cell_type": "markdown",
   "id": "533762d0",
   "metadata": {},
   "source": [
    "A medida que los programas crecen y se vuelven más complejos, **su lectura y comprensión pueden resultar difíciles**, incluso para el mismo autor después de un tiempo. Los lenguajes de programación son **densos y precisos**, lo que es útil para la computadora pero puede dificultar el seguimiento del flujo lógico para una persona que intenta entender **qué hace el código o por qué se tomó cierta decisión**.\n",
    "\n",
    "Por esta razón, es **buena práctica incluir notas dentro del programa** que expliquen en lenguaje natural lo que está sucediendo. Estas notas reciben el nombre de **comentarios** y no son ejecutadas por el intérprete.\n",
    "\n",
    "En Python, existen dos formas de comentar el código:\n",
    "\n",
    "1. **Comentarios de línea:** comienzan con el símbolo `#` y se usan para explicar instrucciones puntuales."
   ]
  },
  {
   "cell_type": "code",
   "execution_count": 60,
   "id": "2420d1d6",
   "metadata": {},
   "outputs": [
    {
     "data": {
      "text/plain": [
       "7"
      ]
     },
     "execution_count": 60,
     "metadata": {},
     "output_type": "execute_result"
    }
   ],
   "source": [
    "# esto es un comentario en una línea. Python no la ejecuta\n",
    "3 + 4  # este también es un comentario, y lo que está después del signo '#' python no lo ejecuta"
   ]
  },
  {
   "cell_type": "markdown",
   "id": "607b329c",
   "metadata": {},
   "source": [
    "2. **Comentarios de bloque o docstrings:** cuando se requiere explicar secciones más extensas, se utilizan **tres comillas simples (`'''`) o dobles (`\"\"\"`)** para abrir y cerrar el bloque. Este tipo de bloque, conocido como **docstring**, es común para documentar **funciones, clases o módulos**. Además, su contenido puede consultarse usando `help()` o el atributo `.__doc__`, lo que lo convierte en una herramienta de documentación integrada.\n",
    "\n"
   ]
  },
  {
   "cell_type": "code",
   "execution_count": 65,
   "id": "6b2207dc",
   "metadata": {},
   "outputs": [],
   "source": [
    "def calcular_promedio(valores):\n",
    "    \"\"\" \n",
    "    Calcula el promedio de una lista de números. \n",
    "    \n",
    "    Parámetros:\n",
    "        valores (list): Lista de números.\n",
    "    \n",
    "    Retorna:\n",
    "        float: Promedio de los valores en la lista.\n",
    "    \"\"\" \n",
    "    return sum(valores) / len(valores)"
   ]
  },
  {
   "cell_type": "code",
   "execution_count": 66,
   "id": "b0e5836c",
   "metadata": {},
   "outputs": [
    {
     "name": "stdout",
     "output_type": "stream",
     "text": [
      "Help on function calcular_promedio in module __main__:\n",
      "\n",
      "calcular_promedio(valores)\n",
      "    Calcula el promedio de una lista de números.\n",
      "\n",
      "    Parámetros:\n",
      "        valores (list): Lista de números.\n",
      "\n",
      "    Retorna:\n",
      "        float: Promedio de los valores en la lista.\n",
      "\n"
     ]
    }
   ],
   "source": [
    "help(calcular_promedio) # Muestra la documentación de la función calcular_promedio"
   ]
  },
  {
   "cell_type": "markdown",
   "id": "ef144d74",
   "metadata": {},
   "source": [
    "Incorporar comentarios adecuados **mejora la legibilidad**, facilita el trabajo en equipo y permite que otros (o uno mismo, tiempo después) entiendan la intención del código de forma rápida. La clave es que sean **claros, relevantes y actualizados**: un comentario obsoleto o redundante puede generar confusión.\n"
   ]
  },
  {
   "cell_type": "markdown",
   "id": "69687976",
   "metadata": {},
   "source": [
    "## **Manipulación de Cadenas de Caracteres (*strings*)**"
   ]
  },
  {
   "cell_type": "markdown",
   "id": "302df704",
   "metadata": {},
   "source": [
    "Los caracteres son elementos individuales que componen un texto o una cadena (string). En el contexto de la informática y la programación, un carácter es una unidad básica de representación de datos que puede ser una letra, un número, un símbolo o un carácter especial.\n",
    "\n",
    "En Python y en muchos otros lenguajes de programación, los caracteres se representan mediante su código [Unicode](https://es.wikipedia.org/wiki/Unicode). Cada carácter tiene un valor numérico asociado en Unicode, lo que permite la representación de una amplia gama de caracteres de diferentes idiomas y símbolos.\n",
    "\n",
    "En términos prácticos, los caracteres pueden ser letras individuales, dígitos numéricos, signos de puntuación, espacios en blanco, símbolos matemáticos, emojis, entre otros. Por ejemplo, `a`, `7`, `?`, `%`, `😊` son todos caracteres.\n",
    "\n",
    "En Python, puedes manipular caracteres dentro de cadenas de texto, accediendo a ellos por su posición en la cadena mediante índices. Esto permite realizar operaciones específicas en caracteres individuales o en subconjuntos de caracteres dentro de una cadena."
   ]
  },
  {
   "cell_type": "markdown",
   "id": "27338380",
   "metadata": {},
   "source": [
    "### **Creación de cadenas de caracteres**"
   ]
  },
  {
   "cell_type": "markdown",
   "id": "27590a33",
   "metadata": {},
   "source": [
    "Las cadenas de caracteres, o strings en Python, son secuencias de caracteres encerradas entre comillas simples (`'...'`) o dobles (`\"...\"`). Pueden contener letras, números, símbolos, espacios y caracteres especiales."
   ]
  },
  {
   "cell_type": "code",
   "execution_count": 77,
   "id": "79bfe246",
   "metadata": {},
   "outputs": [
    {
     "name": "stdout",
     "output_type": "stream",
     "text": [
      "Hola mundo!\n"
     ]
    }
   ],
   "source": [
    "cadena1 = \"Hola mundo!\" # Asignación de una cadena de caracteres a la variable cadena1\n",
    "print(cadena1) # Imprime la cadena de caracteres"
   ]
  },
  {
   "cell_type": "code",
   "execution_count": 78,
   "id": "46635040",
   "metadata": {},
   "outputs": [
    {
     "data": {
      "text/plain": [
       "str"
      ]
     },
     "execution_count": 78,
     "metadata": {},
     "output_type": "execute_result"
    }
   ],
   "source": [
    "type(cadena1) # Muestra el tipo de dato de la variable cadena1"
   ]
  },
  {
   "cell_type": "markdown",
   "id": "6245dc5d",
   "metadata": {},
   "source": [
    "> Una cadena de caracteres también puede estar formada por números que **no tienen un significado aritmético**, como un número de identificación, un código de producto o un número telefónico. Aunque visualmente se representen como números, **no deben usarse en operaciones matemáticas** (no se suman, promedian ni se comparan de manera numérica), sino que se tratan como texto."
   ]
  },
  {
   "cell_type": "code",
   "execution_count": 79,
   "id": "4d660fc1",
   "metadata": {},
   "outputs": [
    {
     "name": "stdout",
     "output_type": "stream",
     "text": [
      "123456789\n",
      "<class 'str'>\n"
     ]
    }
   ],
   "source": [
    "cadena2 = \"123456789\" # Asignación de una cadena de caracteres a la variable cadena2\n",
    "print(cadena2)\n",
    "print(type(cadena2)) # Muestra el tipo de dato de la variable cadena2"
   ]
  },
  {
   "cell_type": "markdown",
   "id": "af0e4b95",
   "metadata": {},
   "source": [
    "### **Operaciones con cadenas de caracteres (strings)**"
   ]
  },
  {
   "cell_type": "markdown",
   "id": "21509399",
   "metadata": {},
   "source": [
    "- **Concatenación (`+`):** une dos o más cadenas en una sola "
   ]
  },
  {
   "cell_type": "code",
   "execution_count": null,
   "id": "85e03af1",
   "metadata": {},
   "outputs": [
    {
     "name": "stdout",
     "output_type": "stream",
     "text": [
      "docente.carlosalvarez@unac.edu.co\n"
     ]
    }
   ],
   "source": [
    "# Creación de un correo electrónico a partir de variables\n",
    "rol = \"docente\" \n",
    "nombre = \"carlos\"\n",
    "apellido = \"alvarez\"\n",
    "arroba = \"@\"\n",
    "punto = \".\"\n",
    "dominio = \"unac\"\n",
    "naturaleza = \"edu\"\n",
    "region = \"co\"\n",
    "\n",
    "correo = rol + punto + nombre + apellido + arroba + dominio + punto + naturaleza + punto + region\n",
    "print(correo) \n"
   ]
  },
  {
   "cell_type": "markdown",
   "id": "a83837d4",
   "metadata": {},
   "source": [
    "- **Repetición `*`:**"
   ]
  },
  {
   "cell_type": "markdown",
   "id": "e9443198",
   "metadata": {},
   "source": [
    "Repite una cadena el número de veces indicado."
   ]
  },
  {
   "cell_type": "code",
   "execution_count": 82,
   "id": "385ac111",
   "metadata": {},
   "outputs": [
    {
     "name": "stdout",
     "output_type": "stream",
     "text": [
      "HolaHolaHola\n"
     ]
    }
   ],
   "source": [
    "linea = \"Hola\" * 3\n",
    "print(linea)  # HolaHolaHola"
   ]
  },
  {
   "cell_type": "markdown",
   "id": "3ab913f0",
   "metadata": {},
   "source": [
    "- **Longitud de una cadena:**"
   ]
  },
  {
   "cell_type": "markdown",
   "id": "453fa624",
   "metadata": {},
   "source": [
    "La cantidad de elementos que contiene una cadena de caracteres se puede determinar con la función `len()`."
   ]
  },
  {
   "cell_type": "code",
   "execution_count": null,
   "id": "fcc9071a",
   "metadata": {},
   "outputs": [
    {
     "name": "stdout",
     "output_type": "stream",
     "text": [
      "33\n"
     ]
    }
   ],
   "source": [
    "n = len(correo) # Calcula la longitud, o cantidad de caracteres, de la cadena correo\n",
    "print(n)  # Imprime la longitud de la cadena correo"
   ]
  },
  {
   "cell_type": "markdown",
   "id": "0e50efeb",
   "metadata": {},
   "source": [
    "### **Indexación**"
   ]
  },
  {
   "cell_type": "markdown",
   "id": "f8093594",
   "metadata": {},
   "source": [
    "Como se dijo anteriormente, una **cadena de caracteres** (*string*) en `Python` es una **secuencia ordenada de caracteres**, que puede incluir letras, números, espacios y símbolos especiales. Al igual que en otros lenguajes como C, cada caracter de la cadena puede identificarse mediante un **índice**, que indica su posición dentro de la secuencia.\n",
    "\n",
    "El **índice** es simplemente el número que representa la posición de cada elemento. Este concepto será válido no solo para cadenas, sino también para otras estructuras de datos de Python como **listas, tuplas y arreglos**.\n",
    "\n",
    "* Cuando se lee de **izquierda a derecha**, los índices comienzan en `0` y aumentan de uno en uno hasta llegar a `n-1`, donde `n` es la longitud de la cadena. El índice `n-1` corresponde siempre al último caracter.  \n",
    "\n",
    "* Cuando se lee de **derecha a izquierda**, se utilizan índices negativos: el último caracter tiene índice `-1`, el penúltimo `-2` y así sucesivamente.\n",
    "\n",
    "<p float=\"center\">\n",
    "  <img src=\"https://github.com/carlosalvarezh/FundamentosProgramacion/blob/main/images/Sem03Img01.png?raw=true\" width=\"750\" />\n",
    "</p>\n",
    "\n",
    "En el ejemplo anterior, el primer caracter (`H`) está en la posición `0` y el último en la posición `10`. La **longitud** de la cadena es `11`, ya que hay once caracteres en total, numerados del `0` al `10`.\n",
    "\n",
    "\n",
    "<div class=\"alert alert-danger\"><strong>Nota:</strong> No confundir la cantidad de elementos (len) que contiene una cadena de caracteres (lista, tupla o arreglo) con la posición de cada elemento (index), que se da por el índice. El índice empieza en cero (0) y para contabilizar la cantidad de elementos se empieza en uno, (1).</div>"
   ]
  },
  {
   "cell_type": "code",
   "execution_count": null,
   "id": "b35fd252",
   "metadata": {},
   "outputs": [
    {
     "name": "stdout",
     "output_type": "stream",
     "text": [
      "H\n",
      "l\n",
      "d\n"
     ]
    }
   ],
   "source": [
    "texto = \"Hello World\"\n",
    "\n",
    "print(texto[0])   # 'H'  (primer caracter)\n",
    "print(texto[2])   # 'l'  (tercer caracter)\n",
    "print(texto[-1])  # 'd'  (último caracter)"
   ]
  },
  {
   "cell_type": "markdown",
   "id": "fec08632",
   "metadata": {},
   "source": [
    "### **Slicing:**"
   ]
  },
  {
   "cell_type": "markdown",
   "id": "20e32823",
   "metadata": {},
   "source": [
    "El *slicing (particionado)* permite obtener **subcadenas** seleccionando un rango de índices.\n",
    "La sintaxis es:\n",
    "\n",
    "`cadena[inicio:fin:paso]`\n",
    "\n",
    "\n",
    "* **`inicio`**: índice donde comienza el corte (incluido).\n",
    "* **`fin`**: índice donde termina (excluido).\n",
    "* **`paso`** (opcional): tamaño del salto entre caracteres."
   ]
  },
  {
   "cell_type": "code",
   "execution_count": null,
   "id": "2a77b489",
   "metadata": {},
   "outputs": [],
   "source": [
    "print(texto[0:3])   # 'Hel'  (índices 0, 1, 2)\n",
    "print(texto[:4])    # 'Hell' (desde el inicio hasta el índice 3)\n",
    "print(texto[2:])    # 'llo World' (desde el índice 2 hasta el final)\n",
    "print(texto[::2])   # 'Hlo ol'  (salta de 2 en 2)\n",
    "print(texto[::-1])  # 'dlroW olleH' (invierte la cadena)"
   ]
  },
  {
   "cell_type": "markdown",
   "id": "54d9513e",
   "metadata": {},
   "source": [
    "### **Métodos útiles para trabajar con cadenas**"
   ]
  },
  {
   "cell_type": "markdown",
   "id": "8cf3b154",
   "metadata": {},
   "source": [
    "En Python, un método es una función asociada a un objeto que se invoca usando la sintaxis de punto. Los métodos permiten realizar acciones sobre el objeto o consultar información de él.  \n",
    "\n",
    "Por ejemplo, las cadenas de caracteres (`str`) tienen métodos que permiten transformarlas, buscar texto, contar apariciones, entre otros. Además de indexar y cortar subcadenas, Python ofrece métodos integrados que facilitan la manipulación de texto:\n",
    "\n",
    "| Método           | Descripción                                     | Ejemplo                               |\n",
    "| ---------------- | ----------------------------------------------- | ------------------------------------- |\n",
    "| `len(cadena)`    | Devuelve la longitud de la cadena               | `len(\"Python\") → 6`                   |\n",
    "| `.upper()`       | Convierte a mayúsculas                          | `\"python\".upper() → 'PYTHON'`         |\n",
    "| `.lower()`       | Convierte a minúsculas                          | `\"PyThOn\".lower() → 'python'`         |\n",
    "| `.strip()`       | Elimina espacios al inicio y final              | `\"  hola  \".strip() → 'hola'`         |\n",
    "| `.replace(a, b)` | Reemplaza un fragmento por otro                 | `\"2024\".replace(\"24\", \"25\") → '2025'` |\n",
    "| `.find(sub)`     | Devuelve la posición de la primera coincidencia | `\"Big Data\".find(\"Data\") → 4`         |\n",
    "| `.count(sub)`    | Cuenta cuántas veces aparece un substring       | `\"banana\".count(\"a\") → 3`             |\n",
    "| `.capitalize()`  | Convierte la primera letra en mayúscula y el resto en minúsculas    | `\"python\".capitalize() → 'Python'`                    |\n",
    "| `.title()`       | Convierte la primera letra de cada palabra en mayúscula             | `\"big data analytics\".title() → 'Big Data Analytics'` |\n",
    "| `.startswith(sub)`| Verifica si la cadena comienza con el substring indicado            | `\"Python\".startswith(\"Py\") → True`                    |\n",
    "| `.endswith(sub)` | Verifica si la cadena termina con el substring indicado             | `\"informe.csv\".endswith(\".csv\") → True`               |\n",
    "| `.split(sep)`    | Divide la cadena en una lista usando el separador `sep`             | `\"a,b,c\".split(\",\") → ['a','b','c']`                  |\n",
    "| `.join(lista)`   | Une los elementos de una lista en una sola cadena                   | `\",\".join(['a','b','c']) → 'a,b,c'`                   |\n",
    "| `.isalnum()`     | Retorna `True` si la cadena solo tiene letras y números             | `\"abc123\".isalnum() → True`                           |\n",
    "| `.isalpha()`     | Retorna `True` si la cadena solo tiene letras                       | `\"abc\".isalpha() → True`                              |\n",
    "| `.isdigit()`     | Retorna `True` si la cadena solo tiene dígitos                      | `\"1234\".isdigit() → True`                             |\n",
    "| `.zfill(n)`      | Rellena la cadena con ceros a la izquierda hasta tener longitud `n` | `\"42\".zfill(5) → '00042'`                             |\n"
   ]
  },
  {
   "cell_type": "code",
   "execution_count": 6,
   "id": "7f6e58e5",
   "metadata": {},
   "outputs": [
    {
     "name": "stdout",
     "output_type": "stream",
     "text": [
      "Bienvenido\n",
      "BIENVENIDO A PYTHON\n",
      "Bienvenido a la programación\n"
     ]
    }
   ],
   "source": [
    "mensaje = \"   Bienvenido a Python   \"\n",
    "\n",
    "# Limpieza de espacios\n",
    "mensaje_limpio = mensaje.strip()\n",
    "\n",
    "# Extracción de subcadena\n",
    "sub = mensaje_limpio[:10]  # 'Bienvenido'\n",
    "\n",
    "# Transformaciones\n",
    "mayus = mensaje_limpio.upper() # pone en mayúsculas el mensaje\n",
    "reemplazo = mensaje_limpio.replace(\"Python\", \"la programación\") # reemplaza \"Python\" por \"la programación\"\n",
    "\n",
    "print(sub)\n",
    "print(mayus)\n",
    "print(reemplazo)\n"
   ]
  },
  {
   "cell_type": "markdown",
   "id": "5e67ecee",
   "metadata": {},
   "source": [
    "Para saber los diferentes métodos disponibles para trabajar con un string, basta de adicionar un punto, `.`, justo después de la variable. Un menú se desplegará con los métodos disponibles (dependiendo del entorno, se puede demorar 1 o 2 segundos para que aparezca. En otros, con la tecla `tab` se despliega):"
   ]
  },
  {
   "cell_type": "code",
   "execution_count": null,
   "id": "6998ac91",
   "metadata": {},
   "outputs": [
    {
     "ename": "SyntaxError",
     "evalue": "invalid syntax (1327317950.py, line 1)",
     "output_type": "error",
     "traceback": [
      "  \u001b[36mCell\u001b[39m\u001b[36m \u001b[39m\u001b[32mIn[7]\u001b[39m\u001b[32m, line 1\u001b[39m\n\u001b[31m    \u001b[39m\u001b[31mmensaje.\u001b[39m\n            ^\n\u001b[31mSyntaxError\u001b[39m\u001b[31m:\u001b[39m invalid syntax\n"
     ]
    }
   ],
   "source": [
    "mensaje."
   ]
  },
  {
   "cell_type": "markdown",
   "id": "cacd0fc8",
   "metadata": {},
   "source": [
    "## **I/O Estándar**"
   ]
  },
  {
   "cell_type": "markdown",
   "id": "31cf954a",
   "metadata": {},
   "source": [
    "El manejo de entrada/salida (I/O) en los lenguajes de programación permite que los programas interactúen con el entorno externo, ya sea para recibir información, mostrar resultados o almacenar datos en archivos.\n",
    "\n",
    "- **Input():** La función `input()` es una función integrada de Python que permite recibir datos ingresados por el usuario a través del teclado. Cuando se ejecuta, muestra un mensaje en pantalla y espera a que el usuario proporcione un valor, el cual se almacena en una variable para su uso posterior en el programa.\n"
   ]
  },
  {
   "cell_type": "code",
   "execution_count": 9,
   "id": "1b4ee2d8",
   "metadata": {},
   "outputs": [
    {
     "name": "stdout",
     "output_type": "stream",
     "text": [
      "Hola\n"
     ]
    }
   ],
   "source": [
    "a = input(\"Texto para el usuario: \")\n",
    "print(a)"
   ]
  },
  {
   "cell_type": "markdown",
   "id": "e1a55610",
   "metadata": {},
   "source": [
    "Python es un lenguaje de tipado dinámico, por lo que no es necesario especificar el tipo de dato que se va a ingresar. Sin embargo, para evitar errores, es recomendable indicar el tipo de dato esperado mediante una conversión explícita:"
   ]
  },
  {
   "cell_type": "code",
   "execution_count": 11,
   "id": "0b454fac",
   "metadata": {},
   "outputs": [
    {
     "name": "stdout",
     "output_type": "stream",
     "text": [
      "5\n"
     ]
    }
   ],
   "source": [
    "a = int(input(\"Ingrese un número entero: \"))\n",
    "print(a)"
   ]
  },
  {
   "cell_type": "markdown",
   "id": "654f407c",
   "metadata": {},
   "source": [
    "En este caso, el programa espera un número entero. Si el usuario ingresa un valor no válido, se producirá un error.\n",
    "Otros ejemplos de conversión de tipos:"
   ]
  },
  {
   "cell_type": "code",
   "execution_count": 13,
   "id": "40003b28",
   "metadata": {},
   "outputs": [
    {
     "name": "stdout",
     "output_type": "stream",
     "text": [
      "Hello world\n",
      "34.4\n"
     ]
    }
   ],
   "source": [
    "b = str(input(\"Ingrese una cadena de texto: \"))\n",
    "print(b)\n",
    "\n",
    "c = float(input(\"Ingrese un número: \"))\n",
    "print(c)"
   ]
  },
  {
   "cell_type": "markdown",
   "id": "ee9e1c62",
   "metadata": {},
   "source": [
    "En el caso de float, si el usuario ingresa un número entero, Python lo convertirá automáticamente a número decimal."
   ]
  },
  {
   "cell_type": "markdown",
   "id": "48237537",
   "metadata": {},
   "source": [
    "- **print():** La función `print()` es una función integrada de Python que se utiliza para mostrar información en pantalla. Es una de las funciones más usadas, ya que permite verificar valores de variables, mostrar resultados de cálculos o entregar mensajes al usuario durante la ejecución del programa."
   ]
  },
  {
   "cell_type": "code",
   "execution_count": 14,
   "id": "7c8ea6a6",
   "metadata": {},
   "outputs": [
    {
     "name": "stdout",
     "output_type": "stream",
     "text": [
      "Hola, mundo\n"
     ]
    }
   ],
   "source": [
    "print(\"Hola, mundo\")"
   ]
  },
  {
   "cell_type": "markdown",
   "id": "69a79e08",
   "metadata": {},
   "source": [
    "La función puede recibir uno o varios argumentos, separados por comas. Python imprimirá cada uno con un espacio entre ellos:"
   ]
  },
  {
   "cell_type": "code",
   "execution_count": 16,
   "id": "eb214594",
   "metadata": {},
   "outputs": [
    {
     "name": "stdout",
     "output_type": "stream",
     "text": [
      "La suma de 10 más 20 es 30\n"
     ]
    }
   ],
   "source": [
    "x = 10\n",
    "y = 20\n",
    "print(\"La suma de\", x, \"más\", y, \"es\", x + y)\n"
   ]
  },
  {
   "cell_type": "markdown",
   "id": "1779ee17",
   "metadata": {},
   "source": [
    "También es posible modificar el separador entre los elementos con el parámetro `sep`, y el final de la línea con `end`:"
   ]
  },
  {
   "cell_type": "code",
   "execution_count": 17,
   "id": "0628189a",
   "metadata": {},
   "outputs": [
    {
     "name": "stdout",
     "output_type": "stream",
     "text": [
      "Python - R - SQL\n",
      "Primera línea ... continúa en la misma línea\n"
     ]
    }
   ],
   "source": [
    "print(\"Python\", \"R\", \"SQL\", sep=\" - \")\n",
    "print(\"Primera línea\", end=\" ... \")\n",
    "print(\"continúa en la misma línea\")"
   ]
  },
  {
   "cell_type": "markdown",
   "id": "1e836c9d",
   "metadata": {},
   "source": [
    "Por último, `print()` acepta caracteres especiales como `\\n` (salto de línea) o `\\t` (tabulación):"
   ]
  },
  {
   "cell_type": "code",
   "execution_count": 18,
   "id": "8705d892",
   "metadata": {},
   "outputs": [
    {
     "name": "stdout",
     "output_type": "stream",
     "text": [
      "Primera línea\n",
      "Segunda línea\t(con tabulación)\n"
     ]
    }
   ],
   "source": [
    "print(\"Primera línea\\nSegunda línea\\t(con tabulación)\")"
   ]
  },
  {
   "cell_type": "markdown",
   "id": "5767b42c",
   "metadata": {},
   "source": [
    "### **Formatos de salida en Python**"
   ]
  },
  {
   "cell_type": "markdown",
   "id": "937a1318",
   "metadata": {},
   "source": [
    "Además de mostrar valores directamente, Python permite dar formato a la salida para que los resultados se vean de manera más clara y controlada. Existen tres formas principales de hacerlo: *concatenación*, método *format()*, y *f-strings* (cadenas con formato).\n",
    "\n",
    "1. **Concatenación con comas o `+`:** Usando comas, Python inserta un espacio automático:\n"
   ]
  },
  {
   "cell_type": "code",
   "execution_count": 20,
   "id": "fb9593ee",
   "metadata": {},
   "outputs": [
    {
     "name": "stdout",
     "output_type": "stream",
     "text": [
      "Nombre: Carlos Edad: 50\n"
     ]
    }
   ],
   "source": [
    "nombre = \"Carlos\"\n",
    "edad = 50\n",
    "print(\"Nombre:\", nombre, \"Edad:\", edad)\n"
   ]
  },
  {
   "cell_type": "markdown",
   "id": "c70998a8",
   "metadata": {},
   "source": [
    "Usando el operador `+` hay que convertir manualmente los números a texto:"
   ]
  },
  {
   "cell_type": "code",
   "execution_count": 21,
   "id": "7a2619c6",
   "metadata": {},
   "outputs": [
    {
     "name": "stdout",
     "output_type": "stream",
     "text": [
      "Nombre: Carlos Edad: 50\n"
     ]
    }
   ],
   "source": [
    "print(\"Nombre: \" + nombre + \" Edad: \" + str(edad))"
   ]
  },
  {
   "cell_type": "markdown",
   "id": "2315049f",
   "metadata": {},
   "source": [
    "2. **Método `format()`:** Permite insertar valores dentro de una cadena en posiciones marcadas por llaves `{}`."
   ]
  },
  {
   "cell_type": "code",
   "execution_count": 22,
   "id": "5719b101",
   "metadata": {},
   "outputs": [
    {
     "name": "stdout",
     "output_type": "stream",
     "text": [
      "La estudiante Ana obtuvo una nota de 4.75\n"
     ]
    }
   ],
   "source": [
    "nombre = \"Ana\"\n",
    "nota = 4.75\n",
    "print(\"La estudiante {} obtuvo una nota de {}\".format(nombre, nota))\n"
   ]
  },
  {
   "cell_type": "markdown",
   "id": "12ac07ef",
   "metadata": {},
   "source": [
    "También se pueden numerar o nombrar los marcadores:"
   ]
  },
  {
   "cell_type": "code",
   "execution_count": 23,
   "id": "84590f39",
   "metadata": {},
   "outputs": [
    {
     "name": "stdout",
     "output_type": "stream",
     "text": [
      "Nombre: Ana, Nota: 4.75\n",
      "Nombre: Ana, Nota: 4.75\n"
     ]
    }
   ],
   "source": [
    "print(\"Nombre: {0}, Nota: {1}\".format(nombre, nota))\n",
    "print(\"Nombre: {n}, Nota: {c}\".format(n=nombre, c=nota))\n"
   ]
  },
  {
   "cell_type": "markdown",
   "id": "4fbb190b",
   "metadata": {},
   "source": [
    "3. **`f–strings`:** Es la forma más moderna y legible. Se coloca una `f` antes de la cadena y las variables o expresiones se incluyen entre llaves `{}`."
   ]
  },
  {
   "cell_type": "code",
   "execution_count": 24,
   "id": "5fa2f39c",
   "metadata": {},
   "outputs": [
    {
     "name": "stdout",
     "output_type": "stream",
     "text": [
      "El estudiante Luis tiene un promedio de 4.1234\n"
     ]
    }
   ],
   "source": [
    "nombre = \"Luis\"\n",
    "promedio = 4.1234\n",
    "print(f\"El estudiante {nombre} tiene un promedio de {promedio}\")\n"
   ]
  },
  {
   "cell_type": "markdown",
   "id": "8acc4fcc",
   "metadata": {},
   "source": [
    "4. **Formatos más comunes:** Los formatos permiten controlar cómo se muestran números, decimales o texto. Se usan dentro de las llaves `{}` en `format()` o `f-strings`:\n",
    "\n",
    "- **Número de decimales (`.nf`)**"
   ]
  },
  {
   "cell_type": "code",
   "execution_count": 26,
   "id": "874ac933",
   "metadata": {},
   "outputs": [
    {
     "name": "stdout",
     "output_type": "stream",
     "text": [
      "Valor de pi: 3.1416\n"
     ]
    }
   ],
   "source": [
    "pi = 3.1415926535\n",
    "print(f\"Valor de pi: {pi:.4f}\")\n"
   ]
  },
  {
   "cell_type": "markdown",
   "id": "44ef0743",
   "metadata": {},
   "source": [
    "- **Ancho de campo (`:m.nf`):** `m` indica el ancho total, `n` el número de decimales."
   ]
  },
  {
   "cell_type": "code",
   "execution_count": 32,
   "id": "bc769752",
   "metadata": {},
   "outputs": [
    {
     "name": "stdout",
     "output_type": "stream",
     "text": [
      " 1234.37\n"
     ]
    }
   ],
   "source": [
    "x = 1234.3658\n",
    "print(f\"{x:8.2f}\")\n"
   ]
  },
  {
   "cell_type": "markdown",
   "id": "61b7a041",
   "metadata": {},
   "source": [
    "- **Alineación (`<`, `>`, `^`)**"
   ]
  },
  {
   "cell_type": "code",
   "execution_count": 27,
   "id": "3b699bfc",
   "metadata": {},
   "outputs": [
    {
     "name": "stdout",
     "output_type": "stream",
     "text": [
      "Python    \n",
      "    Python\n",
      "  Python  \n"
     ]
    }
   ],
   "source": [
    "print(f\"{'Python':<10}\")  # alineado a la izquierda\n",
    "print(f\"{'Python':>10}\")  # alineado a la derecha\n",
    "print(f\"{'Python':^10}\")  # centrado\n"
   ]
  },
  {
   "cell_type": "markdown",
   "id": "c4c6b95e",
   "metadata": {},
   "source": [
    "- **Números enteros con relleno (`0m`)**"
   ]
  },
  {
   "cell_type": "code",
   "execution_count": 33,
   "id": "04e9199d",
   "metadata": {},
   "outputs": [
    {
     "name": "stdout",
     "output_type": "stream",
     "text": [
      "00042\n"
     ]
    }
   ],
   "source": [
    "num = 42\n",
    "print(f\"{num:05d}\")\n"
   ]
  },
  {
   "cell_type": "markdown",
   "id": "384286bf",
   "metadata": {},
   "source": [
    "- **Porcentajes (`:.nf%`)**"
   ]
  },
  {
   "cell_type": "code",
   "execution_count": 34,
   "id": "f64ca238",
   "metadata": {},
   "outputs": [
    {
     "name": "stdout",
     "output_type": "stream",
     "text": [
      "Tasa de éxito: 85.3%\n"
     ]
    }
   ],
   "source": [
    "tasa = 0.8532\n",
    "print(f\"Tasa de éxito: {tasa:.1%}\")\n"
   ]
  },
  {
   "cell_type": "markdown",
   "id": "ee45d93f",
   "metadata": {},
   "source": [
    "## **Colecciones en Python: Tuplas, Listas y Diccionarios**"
   ]
  },
  {
   "cell_type": "markdown",
   "id": "6f835dd0",
   "metadata": {},
   "source": [
    "En proyectos de **Big Data** y **Business Intelligence (BI)** no basta con manejar variables individuales: los datos siempre vienen en forma de colecciones. Python ofrece estructuras versátiles para organizarlos, manipularlos y transformarlos. Las tres colecciones fundamentales son: *listas*, *tuplas* y *diccionarios*."
   ]
  },
  {
   "cell_type": "markdown",
   "id": "86b52ce2",
   "metadata": {},
   "source": [
    "### **Tuplas:** "
   ]
  },
  {
   "cell_type": "markdown",
   "id": "6d0ef793",
   "metadata": {},
   "source": [
    "Es una colección ordenada e inmutable. Se definen con paréntesis () y pueden contener cualquier tipo de dato, incluso mezclados (números, cadenas, listas, otras tuplas). La inmutabilidad garantiza que los datos no se alteren después de ser creados.  \n",
    "\n",
    "  - Son ideales para datos que no deben cambiar, como coordenadas geográficas, configuraciones o claves compuestas (ej. (año, mes)).   \n",
    "  - Son más ligeras que las listas, lo que implica mejor rendimiento en operaciones masivas. \n",
    "  - Pueden actuar como claves en diccionarios (cosa que no es posible con listas, por ser mutables).\n"
   ]
  },
  {
   "cell_type": "code",
   "execution_count": 37,
   "id": "aa2c0e8d",
   "metadata": {},
   "outputs": [
    {
     "name": "stdout",
     "output_type": "stream",
     "text": [
      "6.25\n",
      "1250000\n"
     ]
    }
   ],
   "source": [
    "coordenada = (6.25, -75.56)  \n",
    "print(coordenada[0])       # 6.25\n",
    "# coordenada[0] = 7.0      # descomente esta línea y aparecerá un mensaje de error: no se puede modificar\n",
    "\n",
    "periodo = (2025, \"Q1\")     # tupla como clave\n",
    "ventas = {(2025, \"Q1\"): 1250000, (2025, \"Q2\"): 1500000}\n",
    "print(ventas[periodo])     # 1250000\n"
   ]
  },
  {
   "cell_type": "markdown",
   "id": "dfd402e7",
   "metadata": {},
   "source": [
    "### **Listas**"
   ]
  },
  {
   "cell_type": "markdown",
   "id": "1f14bb3a",
   "metadata": {},
   "source": [
    "Es una colección ordenada y mutable. Se definen con corchetes `[]`. Permiten modificar, agregar o eliminar elementos en cualquier momento. \n",
    "- Soportan duplicados y pueden contener cualquier tipo de objeto. Son las colecciones más flexibles y usadas en Python. \n",
    "- Sirven para manejar registros temporales antes de guardarlos en bases de datos. \n",
    "- Facilitan el procesamiento iterativo con ciclos y condicionales, clave para limpiar y transformar datos. \n",
    "- Son fundamentales para implementar estructuras más complejas (colas, pilas, matrices).\n",
    "\n",
    "**Operaciones comunes**\n"
   ]
  },
  {
   "cell_type": "code",
   "execution_count": 43,
   "id": "78fde006",
   "metadata": {},
   "outputs": [
    {
     "name": "stdout",
     "output_type": "stream",
     "text": [
      "[150, 200, 175, 300]\n",
      "[150, 200, 175, 300, 250]\n",
      "[150, 180, 200, 175, 300, 250]\n",
      "[150, 180, 175, 300, 250]\n",
      "[150, 175, 180, 250, 300]\n",
      "[300, 250, 180, 175, 150]\n",
      "5\n"
     ]
    }
   ],
   "source": [
    "ventas = [150, 200, 175, 300]\n",
    "print(ventas)\n",
    "\n",
    "ventas.append(250)     # agregar al final\n",
    "print(ventas)\n",
    "\n",
    "ventas.insert(1, 180)  # insertar en posición específica\n",
    "print(ventas)\n",
    "\n",
    "ventas.remove(200)     # eliminar un valor\n",
    "print(ventas)\n",
    "\n",
    "ventas.sort()          # ordenar ascendente\n",
    "print(ventas)\n",
    "\n",
    "ventas.reverse()       # invertir el orden\n",
    "print(ventas)\n",
    "\n",
    "print(len(ventas))     # tamaño de la lista\n"
   ]
  },
  {
   "cell_type": "markdown",
   "id": "069c35e3",
   "metadata": {},
   "source": [
    "### **Diccionarios**"
   ]
  },
  {
   "cell_type": "markdown",
   "id": "2f1da644",
   "metadata": {},
   "source": [
    "Es una colección de pares clave–valor. Se definen con llaves `{}`. Las claves deben ser únicas e inmutables (cadenas, números, tuplas). Los valores pueden ser de cualquier tipo.\n",
    "- Permiten acceso directo y semántico a la información (no por posición, sino por clave). \n",
    "- Son ideales para representar registros estructurados como un cliente, producto o transacción. \n",
    "- Se usan en operaciones de agregación y mapeo, muy comunes en ETL (Extract, Transform, Load). \n",
    "- Son la base de estructuras más avanzadas como JSON, muy usado en APIs y bases NoSQL.\n",
    "\n",
    "**Operaciones comunes**\n",
    "\n"
   ]
  },
  {
   "cell_type": "code",
   "execution_count": null,
   "id": "a04ffcb5",
   "metadata": {},
   "outputs": [
    {
     "name": "stdout",
     "output_type": "stream",
     "text": [
      "Ana\n",
      "dict_keys(['id', 'nombre', 'compra', 'email'])\n",
      "dict_values([101, 'Ana', 300000, 'ana@mail.com'])\n",
      "dict_items([('id', 101), ('nombre', 'Ana'), ('compra', 300000), ('email', 'ana@mail.com')])\n"
     ]
    }
   ],
   "source": [
    "cliente = {\"id\": 101, \"nombre\": \"Ana\", \"ciudad\": \"Medellín\", \"compra\": 250000}\n",
    "\n",
    "print(cliente[\"nombre\"])          # acceder a valor\n",
    "cliente[\"compra\"] += 50000        # actualizar\n",
    "cliente[\"email\"] = \"ana@mail.com\" # agregar\n",
    "del cliente[\"ciudad\"]             # eliminar\n",
    "\n",
    "print(cliente.keys())             # todas las claves\n",
    "print(cliente.values())           # todos los valores\n",
    "print(cliente.items())            # pares clave-valor\n"
   ]
  },
  {
   "cell_type": "markdown",
   "id": "3bf58037",
   "metadata": {},
   "source": [
    "## **Estructuras tipo bloque en Python**"
   ]
  },
  {
   "cell_type": "markdown",
   "id": "066e6e84",
   "metadata": {},
   "source": [
    "En Python, una **estructura tipo bloque** es un conjunto de instrucciones agrupadas bajo una misma unidad lógica, delimitada por reglas sintácticas precisas. Todo bloque se define a partir de una **palabra clave inicial** que indica su naturaleza (`def`, `if`, `for`, `while`, `try`, entre otras), seguida de los elementos propios de dicha construcción (por ejemplo, el nombre y los parámetros en una función, la condición en un `if`, el rango en un `for`). Esta cabecera debe cerrarse obligatoriamente con el símbolo `:`.\n",
    "\n",
    "Las instrucciones que forman parte del bloque se escriben en las líneas posteriores con un **nivel de indentación uniforme**, que establece el ámbito del bloque y lo diferencia de otros niveles del programa. De este modo, la sintaxis de un bloque en Python puede representarse de manera general como:\n",
    "\n",
    "```\n",
    "palabra_clave cabecera:\n",
    "    instrucciones_del_bloque\n",
    "```\n",
    "\n",
    "- Una estructura de control de flujo, es un bloque de código que permite agrupar instrucciones de manera controlada.\n",
    "\n",
    "  * Estructura de control condicionales\n",
    "\n",
    "  * Estructura de control iterativas\n",
    "\n",
    "\n",
    "Este esquema asegura la legibilidad y coherencia del código, y se aplica de manera uniforme a todas las estructuras de control, definición y manejo de excepciones en el lenguaje.\n"
   ]
  },
  {
   "cell_type": "markdown",
   "id": "d3cd55c2",
   "metadata": {},
   "source": [
    "## **Estructuras de control de flujo**"
   ]
  },
  {
   "cell_type": "markdown",
   "id": "5b893749",
   "metadata": {},
   "source": [
    "En programación, no basta con ejecutar instrucciones de manera secuencial. Los programas deben ser capaces de tomar decisiones y repetir acciones de acuerdo con las necesidades de los datos. Este comportamiento se logra mediante las estructuras de control de flujo.\n",
    "En el contexto de Big Data e Inteligencia de Negocios (BI), su importancia es central:  \n",
    "\n",
    "- **Condicionales (if, elif, else)** permiten decidir qué hacer con cada registro: filtrar datos inválidos, clasificar clientes, aplicar reglas de negocio.  \n",
    "\n",
    "- **Ciclos (for, while)** permiten recorrer grandes volúmenes de información y aplicar operaciones repetitivas: calcular totales, procesar archivos línea por línea, automatizar reportes.  \n",
    "\n",
    "Sin control de flujo, un programa solo seguiría una lista rígida de instrucciones; con condicionales y ciclos, el programa puede adaptarse a los datos y automatizar procesos masivos\n"
   ]
  },
  {
   "cell_type": "markdown",
   "id": "018da349",
   "metadata": {},
   "source": [
    "### **Condicionales**"
   ]
  },
  {
   "cell_type": "markdown",
   "id": "ad157d9c",
   "metadata": {},
   "source": [
    "- **`if` simple:** Ejecuta un bloque de código solo si la condición es verdadera\n",
    "\n",
    "````python\n",
    "if condicion:\n",
    "    # bloque si la condición se cumple\n"
   ]
  },
  {
   "cell_type": "code",
   "execution_count": null,
   "id": "20653e4e",
   "metadata": {},
   "outputs": [
    {
     "name": "stdout",
     "output_type": "stream",
     "text": [
      "Eres mayor de edad\n"
     ]
    }
   ],
   "source": [
    "edad = 20\n",
    "if edad >= 18: # condición\n",
    "    print(\"Eres mayor de edad\")"
   ]
  },
  {
   "cell_type": "markdown",
   "id": "c2e1da4d",
   "metadata": {},
   "source": [
    "- **`if – else`:** Permite elegir entre dos caminos: uno si la condición es verdadera, otro si es falsa.\n",
    "```python\n",
    "if condicion:\n",
    "    # bloque si verdadero\n",
    "else:\n",
    "    # bloque si falso\n"
   ]
  },
  {
   "cell_type": "code",
   "execution_count": null,
   "id": "2774e9e6",
   "metadata": {},
   "outputs": [
    {
     "name": "stdout",
     "output_type": "stream",
     "text": [
      "Aprobaste\n"
     ]
    }
   ],
   "source": [
    "nota = 65\n",
    "if nota >= 60:\n",
    "    print(\"Aprobaste\") # si la condición es verdadera\n",
    "else:\n",
    "    print(\"Reprobaste\") # si la condición es falsa  \n"
   ]
  },
  {
   "cell_type": "markdown",
   "id": "3a040508",
   "metadata": {},
   "source": [
    "- **`if – elif – else`:** Permite encadenar múltiples condiciones. Se evalúan en orden, y se ejecuta el primer bloque cuya condición sea verdadera.  \n",
    "\n",
    "```python\n",
    "if condicion_1:\n",
    "    # bloque si condicion_1\n",
    "elif condicion_2:\n",
    "    # bloque si condicion_2\n",
    "elif condicion_3:\n",
    "    # bloque si condicion_3\n",
    "else:\n",
    "    # bloque si ninguna condición se cumple\n"
   ]
  },
  {
   "cell_type": "code",
   "execution_count": 53,
   "id": "f5f03d6e",
   "metadata": {},
   "outputs": [
    {
     "name": "stdout",
     "output_type": "stream",
     "text": [
      "Hace calor\n"
     ]
    }
   ],
   "source": [
    "temperatura = 30\n",
    "if temperatura < 10: # condición\n",
    "    print(\"Hace frío\")\n",
    "elif temperatura < 25: # condición\n",
    "    print(\"El clima es templado\")\n",
    "else: # condición\n",
    "    print(\"Hace calor\")\n"
   ]
  },
  {
   "cell_type": "markdown",
   "id": "460e41fb",
   "metadata": {},
   "source": [
    "#### **Tipos de condiciones**"
   ]
  },
  {
   "cell_type": "markdown",
   "id": "e98f3c5e",
   "metadata": {},
   "source": [
    "- **Comparación numérica:** `==`, `!=`, `<`, `<=`, `>`, `>=`.  \n",
    "- **Lógicas:** `and`, `or`, `not` para combinar condiciones.  \n",
    "- **De pertenencia:** `in`, `not in` para comprobar si un valor está dentro de una colección.  \n",
    "- **De identidad:** `is`, `is not` para comparar referencias a objetos.  \n",
    "- **Veracidad implícita:** valores como `0`, `\"\"`, `[]`, `{}`, `None` se consideran `False` en un condicional."
   ]
  },
  {
   "cell_type": "code",
   "execution_count": null,
   "id": "aa06ac47",
   "metadata": {},
   "outputs": [
    {
     "name": "stdout",
     "output_type": "stream",
     "text": [
      "x es igual a 5\n"
     ]
    }
   ],
   "source": [
    "# Comparación numérica\n",
    "x = 5\n",
    "if x == 5: # condición\n",
    "    print(\"x es igual a 5\")\n"
   ]
  },
  {
   "cell_type": "code",
   "execution_count": 55,
   "id": "189f8748",
   "metadata": {},
   "outputs": [
    {
     "name": "stdout",
     "output_type": "stream",
     "text": [
      "Puedes conducir\n"
     ]
    }
   ],
   "source": [
    "# Lógicas\n",
    "edad = 25\n",
    "tiene_licencia = True\n",
    "if edad >= 18 and tiene_licencia:\n",
    "    print(\"Puedes conducir\")\n"
   ]
  },
  {
   "cell_type": "code",
   "execution_count": 56,
   "id": "0ee3d966",
   "metadata": {},
   "outputs": [
    {
     "name": "stdout",
     "output_type": "stream",
     "text": [
      "Fruta disponible\n"
     ]
    }
   ],
   "source": [
    "# Pertenencia\n",
    "fruta = \"manzana\"\n",
    "if fruta in [\"manzana\", \"pera\", \"plátano\"]:\n",
    "    print(\"Fruta disponible\")\n"
   ]
  },
  {
   "cell_type": "code",
   "execution_count": 57,
   "id": "52e17b32",
   "metadata": {},
   "outputs": [
    {
     "name": "stdout",
     "output_type": "stream",
     "text": [
      "x no tiene valor asignado\n"
     ]
    }
   ],
   "source": [
    "# de identidad\n",
    "x = None\n",
    "if x is None:\n",
    "    print(\"x no tiene valor asignado\")\n"
   ]
  },
  {
   "cell_type": "code",
   "execution_count": 58,
   "id": "7dfa3513",
   "metadata": {},
   "outputs": [
    {
     "name": "stdout",
     "output_type": "stream",
     "text": [
      "La lista está vacía\n"
     ]
    }
   ],
   "source": [
    "# veracidad implícita\n",
    "lista = []\n",
    "if not lista:\n",
    "    print(\"La lista está vacía\")\n"
   ]
  },
  {
   "cell_type": "markdown",
   "id": "d9b0ea4e",
   "metadata": {},
   "source": [
    "#### **Buenas prácticas**"
   ]
  },
  {
   "cell_type": "markdown",
   "id": "59e4a9f9",
   "metadata": {},
   "source": [
    "- **Condiciones claras y legibles:** evita expresiones demasiado largas o anidadas.  \n",
    "- **Orden lógico:** coloca primero los casos más específicos o probables.  \n",
    "- **Uso correcto de `elif`:** en lugar de anidar `if` dentro de otro `if`, encadena con `elif`.  \n",
    "- **`else` solo cuando sea necesario:** evita usarlo si no hay un caso “general” válido.  \n",
    "- **Variables intermedias:** para mejorar legibilidad, asigna la condición a una variable booleana con nombre descriptivo.\n"
   ]
  },
  {
   "cell_type": "code",
   "execution_count": 62,
   "id": "3cd25872",
   "metadata": {},
   "outputs": [
    {
     "name": "stdout",
     "output_type": "stream",
     "text": [
      "Acceso permitido\n"
     ]
    }
   ],
   "source": [
    "# Uso de variables intermedias\n",
    "edad = 19\n",
    "es_mayor = edad >= 18  # variable booleana descriptiva\n",
    "if es_mayor:\n",
    "    print(\"Acceso permitido\")\n",
    "else:\n",
    "    print(\"Acceso denegado\")\n"
   ]
  },
  {
   "cell_type": "code",
   "execution_count": 63,
   "id": "21cb28ef",
   "metadata": {},
   "outputs": [
    {
     "name": "stdout",
     "output_type": "stream",
     "text": [
      "Puedes conducir\n"
     ]
    }
   ],
   "source": [
    "# evitar anidamientos innecesarios\n",
    "if edad >= 18:\n",
    "    if tiene_licencia:\n",
    "        print(\"Puedes conducir\")\n"
   ]
  },
  {
   "cell_type": "code",
   "execution_count": 64,
   "id": "b3522dc7",
   "metadata": {},
   "outputs": [
    {
     "name": "stdout",
     "output_type": "stream",
     "text": [
      "Puedes conducir\n"
     ]
    }
   ],
   "source": [
    "# mejor\n",
    "if edad >= 18 and tiene_licencia:\n",
    "    print(\"Puedes conducir\")\n"
   ]
  },
  {
   "cell_type": "markdown",
   "id": "ac2f8653",
   "metadata": {},
   "source": [
    "#### **Errores comunes**"
   ]
  },
  {
   "cell_type": "markdown",
   "id": "65720c19",
   "metadata": {},
   "source": [
    "- Usar `=` (asignación) en lugar de `==` (igualdad) en condiciones.  \n",
    "- Olvidar los dos puntos (`:`) al final de la línea de un `if`.  \n",
    "- Indentación incorrecta (Python exige sangría consistente).  \n",
    "- Ramas redundantes o condiciones que nunca se cumplen por el orden en que están escritas.  \n",
    "- Usar `== None` en vez de `is None`.\n"
   ]
  },
  {
   "cell_type": "markdown",
   "id": "f2d84a2f",
   "metadata": {},
   "source": [
    "### **Ciclos for y while**"
   ]
  },
  {
   "cell_type": "markdown",
   "id": "6c199473",
   "metadata": {},
   "source": [
    "#### **Introducción**"
   ]
  },
  {
   "cell_type": "markdown",
   "id": "52fe39b9",
   "metadata": {},
   "source": [
    "Un ciclo es una construcción que permite repetir un bloque de código varias veces, pero no se trata solo de “repetición”: en Python, los ciclos están estrechamente relacionados con el concepto de iteración, es decir, recorrer secuencias de datos (listas, tuplas, diccionarios, cadenas, rangos, etc.).  \n",
    "\n",
    "A diferencia de otros lenguajes que dependen más de contadores explícitos, en Python los ciclos están diseñados para ser expresivos, legibles y eficientes al trabajar con datos."
   ]
  },
  {
   "cell_type": "markdown",
   "id": "490febc3",
   "metadata": {},
   "source": [
    "#### **Ciclo for**"
   ]
  },
  {
   "cell_type": "markdown",
   "id": "3af9373d",
   "metadata": {},
   "source": [
    "- **Idea general:** En Python, for itera directamente sobre los elementos de un objeto iterable (colección, cadena, rango, generador, etc.). No es un ciclo “numérico” como en C o Java, sino un ciclo basado en iteradores. Su sintaxis se puede resumir como:  \n",
    "\n",
    "```python\n",
    "for variable in iterable:\n",
    "    # bloque de instrucciones"
   ]
  },
  {
   "cell_type": "code",
   "execution_count": 1,
   "id": "d19cf6c3",
   "metadata": {},
   "outputs": [
    {
     "name": "stdout",
     "output_type": "stream",
     "text": [
      "Número: 0\n",
      "Número: 1\n",
      "Número: 2\n"
     ]
    }
   ],
   "source": [
    "for numero in range(3):\n",
    "    print(\"Número:\", numero)\n"
   ]
  },
  {
   "cell_type": "markdown",
   "id": "ce66a402",
   "metadata": {},
   "source": [
    "- **Iteración sobre colecciones**  \n",
    "  - **Listas y tuplas:** recorre sus elementos en orden.  \n",
    "  - **Diccionarios:**  \n",
    "    - `for clave in diccionario` → claves.  \n",
    "    - `for valor in diccionario.values()` → valores.  \n",
    "    - `for clave, valor in diccionario.items()`→ pares clave–valor.  \n",
    "  - **Cadenas:** recorre cada carácter."
   ]
  },
  {
   "cell_type": "code",
   "execution_count": null,
   "id": "e1c862cd",
   "metadata": {},
   "outputs": [
    {
     "name": "stdout",
     "output_type": "stream",
     "text": [
      "manzana\n",
      "pera\n",
      "uva\n"
     ]
    }
   ],
   "source": [
    "# sobre listas y tuplas\n",
    "frutas = [\"manzana\", \"pera\", \"uva\"]\n",
    "for fruta in frutas:\n",
    "    print(fruta)\n"
   ]
  },
  {
   "cell_type": "code",
   "execution_count": 3,
   "id": "67c2adfb",
   "metadata": {},
   "outputs": [
    {
     "name": "stdout",
     "output_type": "stream",
     "text": [
      "Ana\n",
      "Luis\n",
      "Marta\n"
     ]
    }
   ],
   "source": [
    "# sobre diccionarios - claves\n",
    "edades = {\"Ana\": 20, \"Luis\": 25, \"Marta\": 22}\n",
    "for persona in edades:\n",
    "    print(persona)   # imprime la clave\n"
   ]
  },
  {
   "cell_type": "code",
   "execution_count": 4,
   "id": "5b9070d5",
   "metadata": {},
   "outputs": [
    {
     "name": "stdout",
     "output_type": "stream",
     "text": [
      "20\n",
      "25\n",
      "22\n"
     ]
    }
   ],
   "source": [
    "# sobre diccionarios - valores\n",
    "for edad in edades.values():\n",
    "    print(edad)   # imprime el valor\n"
   ]
  },
  {
   "cell_type": "code",
   "execution_count": 5,
   "id": "0363749b",
   "metadata": {},
   "outputs": [
    {
     "name": "stdout",
     "output_type": "stream",
     "text": [
      "Ana tiene 20 años\n",
      "Luis tiene 25 años\n",
      "Marta tiene 22 años\n"
     ]
    }
   ],
   "source": [
    "# sobre diccionarios - claves y valores\n",
    "for persona, edad in edades.items():\n",
    "    print(persona, \"tiene\", edad, \"años\")\n"
   ]
  },
  {
   "cell_type": "code",
   "execution_count": 6,
   "id": "63a34e58",
   "metadata": {},
   "outputs": [
    {
     "name": "stdout",
     "output_type": "stream",
     "text": [
      "P\n",
      "y\n",
      "t\n",
      "h\n",
      "o\n",
      "n\n"
     ]
    }
   ],
   "source": [
    "# \n",
    "for letra in \"Python\":\n",
    "    print(letra)\n"
   ]
  },
  {
   "cell_type": "markdown",
   "id": "e3369c03",
   "metadata": {},
   "source": [
    "- **`enumerate()`:** Permite acceder tanto al índice como al valor en cada iteración:  \n",
    "\n",
    "```python\n",
    "for i, valor in enumerate(lista):\n",
    "    ..."
   ]
  },
  {
   "cell_type": "code",
   "execution_count": 7,
   "id": "4e91dcf7",
   "metadata": {},
   "outputs": [
    {
     "name": "stdout",
     "output_type": "stream",
     "text": [
      "Índice: 0 Color: rojo\n",
      "Índice: 1 Color: verde\n",
      "Índice: 2 Color: azul\n"
     ]
    }
   ],
   "source": [
    "# con índice -  enumerate()\n",
    "colores = [\"rojo\", \"verde\", \"azul\"]\n",
    "for i, color in enumerate(colores):\n",
    "    print(\"Índice:\", i, \"Color:\", color)\n"
   ]
  },
  {
   "cell_type": "markdown",
   "id": "afa49d95",
   "metadata": {},
   "source": [
    "- **`zip()`:** Permite recorrer varias colecciones en paralelo:  \n",
    "\n",
    "```python\n",
    "for nombre, nota in zip(nombres, notas):\n",
    "    ...\n"
   ]
  },
  {
   "cell_type": "code",
   "execution_count": 8,
   "id": "9ea7ff4a",
   "metadata": {},
   "outputs": [
    {
     "name": "stdout",
     "output_type": "stream",
     "text": [
      "Ana sacó 4.5\n",
      "Luis sacó 3.8\n",
      "Marta sacó 4.2\n"
     ]
    }
   ],
   "source": [
    "# con múltiples listas - zip()\n",
    "nombres = [\"Ana\", \"Luis\", \"Marta\"]\n",
    "notas = [4.5, 3.8, 4.2]\n",
    "\n",
    "for nombre, nota in zip(nombres, notas):\n",
    "    print(nombre, \"sacó\", nota)\n"
   ]
  },
  {
   "cell_type": "markdown",
   "id": "e7c0c122",
   "metadata": {},
   "source": [
    "#### **El ciclo while**"
   ]
  },
  {
   "cell_type": "markdown",
   "id": "0caee6bf",
   "metadata": {},
   "source": [
    "- **Idea general:** Ejecuta instrucciones mientras una condición sea verdadera.  \n",
    "\n",
    "```python\n",
    "while condicion:\n",
    "    # bloque\n",
    "```\n",
    "\n",
    "- **Características:**  \n",
    "  - Es más flexible, pero más propenso a errores de lógica (ciclos infinitos).  \n",
    "  - Útil cuando el número de repeticiones no está definido de antemano.\n",
    "\n",
    "**Ejemplo típico:** esperar hasta que una variable tome cierto valor\n"
   ]
  },
  {
   "cell_type": "code",
   "execution_count": 9,
   "id": "337707e8",
   "metadata": {},
   "outputs": [
    {
     "name": "stdout",
     "output_type": "stream",
     "text": [
      "Contador: 0\n",
      "Contador: 1\n",
      "Contador: 2\n"
     ]
    }
   ],
   "source": [
    "# idea general ciclo while\n",
    "contador = 0\n",
    "while contador < 3:\n",
    "    print(\"Contador:\", contador)\n",
    "    contador += 1\n"
   ]
  },
  {
   "cell_type": "code",
   "execution_count": 10,
   "id": "589efdf0",
   "metadata": {},
   "outputs": [
    {
     "name": "stdout",
     "output_type": "stream",
     "text": [
      "Programa finalizado\n"
     ]
    }
   ],
   "source": [
    "# Esperando un valor\n",
    "respuesta = \"\"\n",
    "while respuesta != \"salir\":\n",
    "    respuesta = input(\"Escribe 'salir' para terminar: \")\n",
    "print(\"Programa finalizado\")\n"
   ]
  },
  {
   "cell_type": "code",
   "execution_count": 11,
   "id": "df2cb60d",
   "metadata": {},
   "outputs": [
    {
     "name": "stdout",
     "output_type": "stream",
     "text": [
      "Ciclo en ejecución\n"
     ]
    }
   ],
   "source": [
    "# Uso con condición booleana\n",
    "activo = True\n",
    "while activo:\n",
    "    print(\"Ciclo en ejecución\")\n",
    "    activo = False   # si no cambiamos el valor, sería infinito\n"
   ]
  },
  {
   "cell_type": "code",
   "execution_count": null,
   "id": "5deeee12",
   "metadata": {},
   "outputs": [],
   "source": [
    "# ciclo infinito (cuidado!)\n",
    "x = 0\n",
    "while x < 5:\n",
    "    print(x)\n",
    "    # Falta incrementar x → ciclo infinito\n"
   ]
  },
  {
   "cell_type": "code",
   "execution_count": null,
   "id": "56bb2261",
   "metadata": {},
   "outputs": [],
   "source": [
    "# mejor\n",
    "x = 0\n",
    "while x < 5:\n",
    "    print(x)\n",
    "    x += 1\n"
   ]
  },
  {
   "cell_type": "code",
   "execution_count": 12,
   "id": "23508bd9",
   "metadata": {},
   "outputs": [
    {
     "name": "stdout",
     "output_type": "stream",
     "text": [
      "Número: 1\n",
      "Número: 2\n",
      "Número: 4\n",
      "Número: 5\n"
     ]
    }
   ],
   "source": [
    "# uso con break y continue\n",
    "numero = 0\n",
    "while True:   # ciclo infinito controlado con break\n",
    "    numero += 1\n",
    "    if numero == 3:\n",
    "        continue   # salta esta iteración\n",
    "    if numero > 5:\n",
    "        break      # detiene el ciclo\n",
    "    print(\"Número:\", numero)\n"
   ]
  },
  {
   "cell_type": "markdown",
   "id": "cfc82e06",
   "metadata": {},
   "source": [
    "#### **La función `range()`**"
   ]
  },
  {
   "cell_type": "markdown",
   "id": "6ab8ce5c",
   "metadata": {},
   "source": [
    "Genera una secuencia de enteros inmutable que se usa comúnmente para controlar repeticiones. Es un objeto iterable, no una lista en memoria (es más eficiente). Su sintaxis es:\n",
    "```python\n",
    "range(inicio, fin, paso)\n",
    "```\n",
    "\n",
    "- **`inicio`:** valor inicial (por defecto 0).  \n",
    "- **`fin`:** límite superior (no incluido).  \n",
    "- **`paso`:** incremento o decremento (por defecto 1).  \n"
   ]
  },
  {
   "cell_type": "code",
   "execution_count": 9,
   "id": "99ebced4",
   "metadata": {},
   "outputs": [
    {
     "data": {
      "text/plain": [
       "range(10, 0, -2)"
      ]
     },
     "execution_count": 9,
     "metadata": {},
     "output_type": "execute_result"
    }
   ],
   "source": [
    "range(5)         # 0, 1, 2, 3, 4\n",
    "range(2, 6)      # 2, 3, 4, 5\n",
    "range(10, 0, -2) # 10, 8, 6, 4, 2\n"
   ]
  },
  {
   "cell_type": "markdown",
   "id": "d07e53ad",
   "metadata": {},
   "source": [
    "`range()` produce un objeto iterable, pero se puede convertir en lista para visualizarlo."
   ]
  },
  {
   "cell_type": "code",
   "execution_count": 10,
   "id": "565bdbc5",
   "metadata": {},
   "outputs": [
    {
     "name": "stdout",
     "output_type": "stream",
     "text": [
      "[0, 1, 2, 3, 4]\n",
      "[2, 3, 4, 5]\n",
      "[10, 8, 6, 4, 2]\n"
     ]
    }
   ],
   "source": [
    "a = list(range(5))         # [0, 1, 2, 3, 4]\n",
    "print(a)\n",
    "\n",
    "b = list(range(2, 6))      # [2, 3, 4, 5]\n",
    "print(b)\n",
    "\n",
    "c = list(range(10, 0, -2)) # [10, 8 , 6, 4, 2]\n",
    "print(c)"
   ]
  },
  {
   "cell_type": "markdown",
   "id": "f18b50d7",
   "metadata": {},
   "source": [
    "- **Importancia en ciclos**\n",
    "  - Se usa cuando necesitamos controlar índices en listas.\n",
    "  - Permite definir ciclos ascendentes, descendentes o con saltos.\n",
    "  - Es muy útil para simular bucles tradicionales como en C/Java.\n",
    "\n",
    "```python\n",
    "for i in range(len(lista)):\n",
    "    print(i, lista[i])\n"
   ]
  },
  {
   "cell_type": "code",
   "execution_count": 3,
   "id": "6228c14d",
   "metadata": {},
   "outputs": [
    {
     "name": "stdout",
     "output_type": "stream",
     "text": [
      "0\n",
      "1\n",
      "2\n",
      "3\n",
      "4\n"
     ]
    }
   ],
   "source": [
    "for i in range(5): # itera sobre 0, 1, 2, 3, 4\n",
    "    print(i)\n"
   ]
  },
  {
   "cell_type": "code",
   "execution_count": 8,
   "id": "9b643da4",
   "metadata": {},
   "outputs": [
    {
     "name": "stdout",
     "output_type": "stream",
     "text": [
      "10\n",
      "8\n",
      "6\n",
      "4\n",
      "2\n"
     ]
    }
   ],
   "source": [
    "for i in range(10, 0, -2): # itera sobre 10, 8, 6, 4, 2\n",
    "    print(i)\n"
   ]
  },
  {
   "cell_type": "markdown",
   "id": "d97f375d",
   "metadata": {},
   "source": [
    "#### **Instrucciones de control dentro de ciclos**"
   ]
  },
  {
   "cell_type": "markdown",
   "id": "94eca9cc",
   "metadata": {},
   "source": [
    "- **break:** interrumpe el ciclo inmediatamente.  \n",
    "- **continue:** salta a la siguiente iteración.  \n",
    "- **pass:** no hace nada (placeholder sintáctico).  \n"
   ]
  },
  {
   "cell_type": "code",
   "execution_count": 11,
   "id": "96120f32",
   "metadata": {},
   "outputs": [
    {
     "name": "stdout",
     "output_type": "stream",
     "text": [
      "0\n",
      "1\n",
      "2\n",
      "3\n",
      "4\n",
      "6\n",
      "7\n"
     ]
    }
   ],
   "source": [
    "for x in range(10):\n",
    "    if x == 5:\n",
    "        continue  # omite el 5\n",
    "    if x == 8:\n",
    "        break     # termina el ciclo en 8\n",
    "    print(x)"
   ]
  },
  {
   "cell_type": "markdown",
   "id": "4236379f",
   "metadata": {},
   "source": [
    "### **Ciclos anidados**"
   ]
  },
  {
   "cell_type": "markdown",
   "id": "1414a514",
   "metadata": {},
   "source": [
    "- Un ciclo dentro de otro permite recorrer estructuras multidimensionales (matrices, listas de listas).  \n",
    "- Aumentan la complejidad algorítmica ($O\\left(n^2\\right)$ o más).  \n",
    "- Deben usarse con cuidado para no afectar el rendimiento en grandes volúmenes de datos.\n"
   ]
  },
  {
   "cell_type": "markdown",
   "id": "66031b0b",
   "metadata": {},
   "source": [
    "#### **Iteración implícita en Python**"
   ]
  },
  {
   "cell_type": "markdown",
   "id": "3ce3ce45",
   "metadata": {},
   "source": [
    "Python ofrece construcciones que internamente usan ciclos:\n",
    "\n",
    "- **Comprensiones de listas (*list comprehension*):** es una forma **concisa y elegante** de crear listas a partir de un iterable (como otra lista, un rango o una cadena), aplicando una expresión y opcionalmente condiciones, todo en una sola línea.\n",
    "\n",
    "  - Sustituye ciclos `for` simples + `append()`.  \n",
    "  - Hace el código **más corto y legible**.  \n",
    "\n",
    "La estructura general es:\n",
    "\n",
    "```python\n",
    "lista = [expresión for elemento in iterable if condición]\n",
    "```\n"
   ]
  },
  {
   "cell_type": "code",
   "execution_count": 16,
   "id": "4d33b1dd",
   "metadata": {},
   "outputs": [
    {
     "name": "stdout",
     "output_type": "stream",
     "text": [
      "[0, 1, 4, 9, 16, 25, 36, 49, 64, 81]\n"
     ]
    }
   ],
   "source": [
    "# lista de cuadrados\n",
    "cuadrados = [x**2 for x in range(10)]\n",
    "print(cuadrados)  # [0, 1, 4, 9, 16, 25, 36, 49, 64, 81]"
   ]
  },
  {
   "cell_type": "code",
   "execution_count": 15,
   "id": "ebaac322",
   "metadata": {},
   "outputs": [
    {
     "name": "stdout",
     "output_type": "stream",
     "text": [
      "[0, 2, 4, 6, 8]\n"
     ]
    }
   ],
   "source": [
    "# Filtrar con condición\n",
    "pares = [x for x in range(10) if x % 2 == 0]\n",
    "print(pares)   # [0, 2, 4, 6, 8]"
   ]
  },
  {
   "cell_type": "code",
   "execution_count": 17,
   "id": "31c9032d",
   "metadata": {},
   "outputs": [
    {
     "name": "stdout",
     "output_type": "stream",
     "text": [
      "['P', 'Y', 'T', 'H', 'O', 'N']\n"
     ]
    }
   ],
   "source": [
    "# Transformar cadenas\n",
    "mayusculas = [letra.upper() for letra in \"python\"]\n",
    "print(mayusculas)   # ['P', 'Y', 'T', 'H', 'O', 'N']\n"
   ]
  },
  {
   "cell_type": "markdown",
   "id": "4e0adcf1",
   "metadata": {},
   "source": [
    "#### **Buenas prácticas en ciclos**"
   ]
  },
  {
   "cell_type": "markdown",
   "id": "967156d3",
   "metadata": {},
   "source": [
    "- Usar for para recorrer colecciones; `while` solo cuando sea necesario.  \n",
    "- Preferir `enumerate()` y `zip()` en lugar de manejar contadores manuales.  \n",
    "- Evitar modificar una lista mientras se recorre directamente con `for`.  \n",
    "- Controlar los ciclos `while` para prevenir bucles infinitos.  \n",
    "- Mantener el cuerpo del ciclo corto y comprensible.  \n",
    "- Aprovechar `range()` en lugar de construir listas manualmente de números.  \n",
    "- Usar en lo posible funciones agregadas: `sum()`, `min()`, `max()`, `sorted()`. Estas abstraen los ciclos y hacen el código más conciso y eficiente  \n"
   ]
  },
  {
   "cell_type": "markdown",
   "id": "66d5ea02",
   "metadata": {},
   "source": [
    "#### **Errores comunes en ciclos**"
   ]
  },
  {
   "cell_type": "markdown",
   "id": "e9f1f925",
   "metadata": {},
   "source": [
    "- Confundir `range(n)` con `range(1, n)`.  \n",
    "- Esperar que `range()` incluya el límite superior (en realidad es excluyente, llega hasta `n-1`).  \n",
    "- Olvidar actualizar la variable en un `while`, causando ciclos infinitos.  \n",
    "- Indentación incorrecta → instrucciones que deberían estar dentro del ciclo terminan fuera.  "
   ]
  },
  {
   "cell_type": "markdown",
   "id": "3b29f12e",
   "metadata": {},
   "source": [
    "## **Funciones en Python**"
   ]
  },
  {
   "cell_type": "markdown",
   "id": "470e1630",
   "metadata": {},
   "source": [
    "### **¿Qué es una función?**"
   ]
  },
  {
   "cell_type": "markdown",
   "id": "4a815c7e",
   "metadata": {},
   "source": [
    "Una función es un bloque de código reutilizable que ejecuta una tarea específica. En lugar de repetir instrucciones una y otra vez, agrupamos esas instrucciones en una función que puede llamarse cuantas veces sea necesario.  \n",
    "\n",
    "En el contexto de Big Data / BI, las funciones nos permiten:  \n",
    "- Crear rutinas para limpiar y transformar datos.  \n",
    "- Encapsular cálculos frecuentes (promedios, tasas, índices).  \n",
    "- Estandarizar reportes y métricas.\n"
   ]
  },
  {
   "cell_type": "markdown",
   "id": "88332bff",
   "metadata": {},
   "source": [
    "### **Funciones como herramienta de organización**"
   ]
  },
  {
   "cell_type": "markdown",
   "id": "0563af2c",
   "metadata": {},
   "source": [
    "Las funciones hacen que el código sea:  \n",
    "- **Modular:** se divide en partes más pequeñas y manejables.  \n",
    "- **Reutilizable:** se puede invocar varias veces en distintos contextos.  \n",
    "- **Legible:** el código refleja la lógica del negocio (ej. `calcular_margen()`, `limpiar_datos()`).\n"
   ]
  },
  {
   "cell_type": "markdown",
   "id": "64f12682",
   "metadata": {},
   "source": [
    "### **Buenas prácticas**"
   ]
  },
  {
   "cell_type": "markdown",
   "id": "fb9c690e",
   "metadata": {},
   "source": [
    "- Usar nombres descriptivos.  \n",
    "- Añadir docstrings para documentar la función.  \n",
    "- Mantener cada función con una única responsabilidad.  \n",
    "- Evitar dependencias globales: pasar siempre parámetros.  \n"
   ]
  },
  {
   "cell_type": "markdown",
   "id": "c9f1fccd",
   "metadata": {},
   "source": [
    "### **Definición y sintaxis**"
   ]
  },
  {
   "cell_type": "markdown",
   "id": "c9cd78f4",
   "metadata": {},
   "source": [
    "En Python, las funciones se definen con la palabra clave def:  \n",
    "\n",
    "```python\n",
    "def nombre_funcion(parametros):\n",
    "    \"\"\"Docstring opcional: explica qué hace la función\"\"\"\n",
    "    # instrucciones\n",
    "    return resultado\n",
    "```"
   ]
  },
  {
   "cell_type": "markdown",
   "id": "f17bf1ec",
   "metadata": {},
   "source": [
    "- `nombre_funcion`: identificador de la función.\n",
    "- `parametros`: valores que recibe.\n",
    "- `return`: valor que devuelve (opcional).\n"
   ]
  },
  {
   "cell_type": "code",
   "execution_count": 45,
   "id": "c862c3bd",
   "metadata": {},
   "outputs": [
    {
     "name": "stdout",
     "output_type": "stream",
     "text": [
      "4.166666666666667\n"
     ]
    }
   ],
   "source": [
    "def calcular_promedio(notas):\n",
    "    total = sum(notas)\n",
    "    promedio = total / len(notas)\n",
    "    return promedio\n",
    "\n",
    "valores = [3.5, 4.2, 4.8]\n",
    "print(calcular_promedio(valores))   # 4.166...\n",
    "\n"
   ]
  },
  {
   "cell_type": "markdown",
   "id": "e2c2dcff",
   "metadata": {},
   "source": [
    "### **Parámetros y argumentos**"
   ]
  },
  {
   "cell_type": "markdown",
   "id": "da4f9258",
   "metadata": {},
   "source": [
    "- **Obligatorios:** deben pasarse siempre."
   ]
  },
  {
   "cell_type": "code",
   "execution_count": null,
   "id": "cf770462",
   "metadata": {},
   "outputs": [
    {
     "name": "stdout",
     "output_type": "stream",
     "text": [
      "Hola, Ana\n"
     ]
    }
   ],
   "source": [
    "def saludar(nombre):\n",
    "    return f\"Hola, {nombre}\"\n",
    "\n",
    "print(saludar(\"Ana\")) # se pasa el argumento \"Ana\" a la función que es recibida por el parámetro nombre\n"
   ]
  },
  {
   "cell_type": "markdown",
   "id": "48c8b125",
   "metadata": {},
   "source": [
    "- **Con valores por defecto:** si no se especifica, usan un valor predefinido."
   ]
  },
  {
   "cell_type": "code",
   "execution_count": null,
   "id": "0ea40ffa",
   "metadata": {},
   "outputs": [
    {
     "name": "stdout",
     "output_type": "stream",
     "text": [
      "Hola, Usuario\n"
     ]
    }
   ],
   "source": [
    "def saludar(nombre=\"Usuario\"):\n",
    "    return f\"Hola, {nombre}\"\n",
    "\n",
    "print(saludar())  # El llamado a la función sin argumentos usa el valor por defecto\n"
   ]
  },
  {
   "cell_type": "markdown",
   "id": "b54dba32",
   "metadata": {},
   "source": [
    "- **Número variable de argumentos:**"
   ]
  },
  {
   "cell_type": "code",
   "execution_count": null,
   "id": "6836abab",
   "metadata": {},
   "outputs": [
    {
     "name": "stdout",
     "output_type": "stream",
     "text": [
      "30\n"
     ]
    }
   ],
   "source": [
    "def sumar(*numeros):\n",
    "    return sum(numeros)\n",
    "\n",
    "print(sumar(10, 20))  # la cantidad de argumentos puede variar sin necesidad de definir múltiples parámetros\n",
    "#print(sumar(5, 15, 25, 35))  # 80\n",
    "#print(sumar(10, 20, 30))  # 60"
   ]
  },
  {
   "cell_type": "markdown",
   "id": "97ce574e",
   "metadata": {},
   "source": [
    "## **Módulos en Python**"
   ]
  },
  {
   "cell_type": "markdown",
   "id": "84af8d5b",
   "metadata": {},
   "source": [
    "### **Introducción**"
   ]
  },
  {
   "cell_type": "markdown",
   "id": "80a561bc",
   "metadata": {},
   "source": [
    "En Python, un módulo es un archivo con extensión .py que contiene definiciones de funciones, clases o variables que pueden ser utilizadas en otros programas. El uso de módulos es esencial porque permite organizar el código en bloques reutilizables y facilita la colaboración en proyectos grandes.  \n",
    "\n",
    "Cuando hablamos de módulos, en realidad hablamos de dos cosas:  \n",
    "\n",
    "1. Biblioteca estándar de Python (módulos que ya vienen incluidos: math, os, json, etc.).  \n",
    "2. Módulos propios creados por el usuario para organizar mejor su proyecto.  \n",
    "\n"
   ]
  },
  {
   "cell_type": "markdown",
   "id": "cf3243c4",
   "metadata": {},
   "source": [
    "### **¿Cómo se importa un módulo?**"
   ]
  },
  {
   "cell_type": "markdown",
   "id": "dfaf5588",
   "metadata": {},
   "source": [
    "\n",
    "La palabra clave central es `import`. Al usarla, le decimos a Python que cargue el código del módulo y lo deje disponible para su uso.\n"
   ]
  },
  {
   "cell_type": "code",
   "execution_count": 18,
   "id": "6b3e6b5b",
   "metadata": {},
   "outputs": [
    {
     "name": "stdout",
     "output_type": "stream",
     "text": [
      "4.0\n",
      "3.141592653589793\n"
     ]
    }
   ],
   "source": [
    "import math\n",
    "\n",
    "print(math.sqrt(16))  # 4.0\n",
    "print(math.pi)        # 3.141592653589793\n"
   ]
  },
  {
   "cell_type": "markdown",
   "id": "1da637da",
   "metadata": {},
   "source": [
    "En este ejemplo, `math` es el nombre del módulo. Para usar sus funciones o variables, debemos anteponer el nombre del módulo seguido del punto, `math.`, y luego la función que se va a usar.\n"
   ]
  },
  {
   "cell_type": "markdown",
   "id": "1c0c35b9",
   "metadata": {},
   "source": [
    "### **Alias: renombrar un módulo**"
   ]
  },
  {
   "cell_type": "markdown",
   "id": "1a8f81b7",
   "metadata": {},
   "source": [
    "En Python, los módulos pueden tener nombres largos o poco prácticos de escribir repetidamente. Para simplificar su uso, se emplea la palabra clave `as`, que permite asignar un **alias** o nombre corto al módulo. Este alias no modifica el módulo original, solo facilita su referencia dentro del programa.\n",
    "\n",
    "```python\n",
    "import numpy as np\n",
    "import pandas as pd\n",
    "import matplotlib.pyplot as plt\n",
    "```\n",
    "\n",
    "Es una práctica común en la comunidad Python utilizar alias estandarizados para ciertos módulos ampliamente reconocidos. Por ejemplo, `np` se usa casi siempre para **NumPy** (*Numerical Python*), `pd` para **pandas** (al cual dedicaremos una sección completa más adelante) y `plt` para **matplotlib.pyplot**, un submódulo de la librería de visualización `matplotlib`. De este modo, en lugar de invocar funciones con el nombre completo del módulo —que puede resultar extenso— se emplea un alias corto y fácil de recordar.\n"
   ]
  },
  {
   "cell_type": "code",
   "execution_count": 1,
   "id": "4b645bb4",
   "metadata": {},
   "outputs": [
    {
     "name": "stdout",
     "output_type": "stream",
     "text": [
      "   Número  Cuadrado\n",
      "0       1         1\n",
      "1       2         4\n",
      "2       3         9\n",
      "3       4        16\n",
      "4       5        25\n"
     ]
    },
    {
     "data": {
      "image/png": "[encoded data removed]",
      "text/plain": [
       "<Figure size 640x480 with 1 Axes>"
      ]
     },
     "metadata": {},
     "output_type": "display_data"
    }
   ],
   "source": [
    "import numpy as np\n",
    "import pandas as pd\n",
    "import matplotlib.pyplot as plt\n",
    "\n",
    "# Crear un arreglo de números con NumPy\n",
    "datos = np.array([1, 2, 3, 4, 5])\n",
    "cuadrados = datos ** 2\n",
    "\n",
    "# Pasar los datos a un DataFrame de pandas\n",
    "df = pd.DataFrame({\"Número\": datos, \"Cuadrado\": cuadrados})\n",
    "\n",
    "print(df)\n",
    "\n",
    "# Graficar con matplotlib\n",
    "plt.plot(df[\"Número\"], df[\"Cuadrado\"], marker=\"o\")\n",
    "plt.title(\"Números y sus cuadrados\")\n",
    "plt.xlabel(\"Número\")\n",
    "plt.ylabel(\"Cuadrado\")\n",
    "plt.show()\n"
   ]
  },
  {
   "cell_type": "markdown",
   "id": "56de187b",
   "metadata": {},
   "source": [
    "### **Importar partes específicas con from**"
   ]
  },
  {
   "cell_type": "markdown",
   "id": "3228779c",
   "metadata": {},
   "source": [
    "Otra opción es importar solo lo que necesitamos, en lugar de todo el módulo. Esto se hace con la instrucción `from … import …`"
   ]
  },
  {
   "cell_type": "code",
   "execution_count": 2,
   "id": "5c9150a3",
   "metadata": {},
   "outputs": [
    {
     "name": "stdout",
     "output_type": "stream",
     "text": [
      "5.0\n",
      "3.141592653589793\n"
     ]
    }
   ],
   "source": [
    "from math import sqrt, pi\n",
    "\n",
    "print(sqrt(25))  # 5.0\n",
    "print(pi)        # 3.141592653589793\n"
   ]
  },
  {
   "cell_type": "markdown",
   "id": "3fc10ee3",
   "metadata": {},
   "source": [
    "En este caso:  \n",
    "- No necesitamos escribir `math.sqrt`, basta con `sqrt`.  \n",
    "- Puede ser más cómodo, pero a veces menos claro porque no queda explícito de qué módulo viene cada función.  \n",
    "\n",
    "\n",
    "> En proyectos grandes, usar import (más explícito) o import as (con alias).   \n",
    "\n",
    "> `from … import …` es útil si se usan funciones específicas muy a menudo."
   ]
  },
  {
   "cell_type": "markdown",
   "id": "a85aaef2",
   "metadata": {},
   "source": [
    "### **Creación de un módulo propio**"
   ]
  },
  {
   "cell_type": "markdown",
   "id": "c68fa4ba",
   "metadata": {},
   "source": [
    "\n",
    "Un módulo es solo un archivo con extensión `.py`. que contiene funciones de Python. Supongamos un archivo llamado `utilidades.py` y que contiene las siguientes funciones:\n",
    "\n",
    "```python\n",
    "def promedio(lista):\n",
    "    return sum(lista) / len(lista)\n",
    "\n",
    "def maximo(lista):\n",
    "    return max(lista)\n",
    "```\n",
    "\n",
    "En otro archivo o notebook, se importa el módulo que contiene dichas funciones:\n",
    "\n",
    "```python\n",
    "import utilidades\n",
    "\n",
    "print(utilidades.promedio([10, 20, 30]))  # 20.0\n",
    "print(utilidades.maximo([10, 20, 30]))    # 30\n",
    "```"
   ]
  },
  {
   "cell_type": "code",
   "execution_count": 4,
   "id": "e6586132",
   "metadata": {},
   "outputs": [
    {
     "name": "stdout",
     "output_type": "stream",
     "text": [
      "20.0\n",
      "30\n"
     ]
    }
   ],
   "source": [
    "import utilidades as util\n",
    "\n",
    "print(util.promedio([10, 20, 30]))  # 20.0\n",
    "print(util.maximo([10, 20, 30]))    # 30"
   ]
  },
  {
   "cell_type": "markdown",
   "id": "0467808d",
   "metadata": {},
   "source": [
    "Para facilitar el desarrollo del curso, tanto el archivo que contiene las funciones (`utilidades.py`) como el archivo principal desde el cual se importará el módulo estarán ubicados en el mismo directorio."
   ]
  }
 ],
 "metadata": {
  "kernelspec": {
   "display_name": "Python 3",
   "language": "python",
   "name": "python3"
  },
  "language_info": {
   "codemirror_mode": {
    "name": "ipython",
    "version": 3
   },
   "file_extension": ".py",
   "mimetype": "text/x-python",
   "name": "python",
   "nbconvert_exporter": "python",
   "pygments_lexer": "ipython3",
   "version": "3.11.0"
  }
 },
 "nbformat": 4,
 "nbformat_minor": 5
}
