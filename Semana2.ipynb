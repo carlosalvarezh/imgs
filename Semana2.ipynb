{
 "cells": [
  {
   "cell_type": "markdown",
   "id": "26be0d7d",
   "metadata": {},
   "source": [
    "<h1 align=\"center\"><b>CORPORACIÓN UNIVERSITARIA ADVENTISTA</b></h1>\n",
    "<h1 align=\"center\"><b>FACULTAD DE INGENIERÍA</b></h1>\n",
    "<h1 align=\"center\"><b>ESPECIALIZACIÓN EN ANALÍTICA DE DATOS Y BIG DATA</b></h1>\n",
    "<h2 align=\"center\"><b>CURSO:</b></h1>\n",
    "<h2 align=\"center\"><b>LENGUAJES DE PROGRAMACIÓN PARA INTELIGENCIA DE NEGOCIOS</b></h1>\n",
    "<h2 align=\"center\"><b>Tema 1 - Introducción y Fundamentos de Programación para Big Data con Python</b></h1>\n",
    "<h3 align=\"center\">2025</h1>\n",
    "<h3 align=\"center\">MEDELLÍN - COLOMBIA </h1>"
   ]
  },
  {
   "cell_type": "markdown",
   "id": "a443a634",
   "metadata": {},
   "source": [
    "*** \n",
    "|[![Outlook](https://img.shields.io/badge/Gmail-D14836??style=plastic&logo=microsoft-outlook&logoColor=white)](mailto:docente.calvarez@unac.edu.co)||[![Open In Colab](https://colab.research.google.com/assets/colab-badge.svg)](https://colab.research.google.com/github/carlosalvarezh/imgs/blob/main/Semana2.ipynb)\n",
    "|-:|:-|--:|\n",
    "|[![LinkedIn](https://img.shields.io/badge/linkedin-%230077B5.svg?style=plastic&logo=linkedin&logoColor=white)](https://www.linkedin.com/in/carlosalvarez5/)|[![@alvarezhenao](https://img.shields.io/twitter/url/https/twitter.com/alvarezhenao.svg?style=social&label=Follow%20%40alvarezhenao)](https://twitter.com/alvarezhenao)|[![@carlosalvarezh](https://img.shields.io/badge/github-%23121011.svg?style=plastic&logo=github&logoColor=white)](https://github.com/carlosalvarezh)|  \n",
    "***\n",
    "\n",
    "<table>\n",
    " <tr align=left><td><img align=left src=\"https://github.com/carlosalvarezh/imgs/blob/main/CCLogoColorPop1.gif?raw=true\" width=\"55\">\n",
    " <td>Text provided under a Creative Commons Attribution license, CC BY-NC 4.0</td>\n",
    " <td>All code is made available under the FSF-approved MIT license.(c) Corporación Universitaria Adventista de Colombia</td>\n",
    "</table>\n",
    "\n",
    "***"
   ]
  },
  {
   "cell_type": "markdown",
   "id": "42976ece",
   "metadata": {},
   "source": [
    "# **Semana 2 – Pandas para Manipulación y Limpieza de Datos (BI)**"
   ]
  },
  {
   "cell_type": "markdown",
   "id": "1fe5a17d",
   "metadata": {},
   "source": [
    "<div align=\"center\">\n",
    "  <img src=\"https://github.com/carlosalvarezh/imgs/blob/main/Pandas.png?raw=true\" width=\"350\">\n",
    "</div>"
   ]
  },
  {
   "cell_type": "markdown",
   "id": "fa18eb03",
   "metadata": {},
   "source": [
    "## **Introducción**"
   ]
  },
  {
   "cell_type": "markdown",
   "id": "99793e44",
   "metadata": {},
   "source": [
    "Pandas es la biblioteca estándar en Python para trabajar con datos tabulares. Proporciona estructuras (DataFrame, Series) y un conjunto coherente de operaciones vectorizadas para leer, inspeccionar, integrar, depurar, transformar, validar y exportar datos. En el contexto de BI, su aporte principal es: reproducibilidad (código en lugar de operaciones manuales), trazabilidad (cada transformación queda explícita) y eficiencia (procesa millones de filas con operaciones de alto nivel). Lo que sigue es un compendio de funciones y patrones que cubren lo indispensable para ejecutar el ciclo de limpieza presentado."
   ]
  },
  {
   "cell_type": "markdown",
   "id": "c248ee17",
   "metadata": {},
   "source": [
    "## **Estructuras de datos en Pandas**"
   ]
  },
  {
   "cell_type": "markdown",
   "id": "e712316c",
   "metadata": {},
   "source": [
    "Pandas ofrece varias estructuras de datos que nos resultarán de mucha utilidad y que vamos a ir viendo poco a poco. Todas las posibles estructuras de datos que ofrece a día de hoy son:  \n",
    "- **Series:** Son arreglos unidimensionales con indexación, similares a los diccionarios. Pueden generarse a partir de diccionarios o de listas.  \n",
    "\n",
    "- **DataFrame:** Son arreglos bidimensionales, similares a las tablas de bases de datos relacionales como SQL.  \n",
    "\n",
    "- **Panel, Panel4D y PanelND:** permiten trabajar con más de dos dimensiones.   \n"
   ]
  },
  {
   "cell_type": "markdown",
   "id": "3dc002be",
   "metadata": {},
   "source": [
    "## **Importación de Pandas**"
   ]
  },
  {
   "cell_type": "markdown",
   "id": "4c5cfa9d",
   "metadata": {},
   "source": [
    "Para importar el módulo Pandas y todas las funciones que incluye, basta con indicar la siguiente línea de código al comienzo del archivo:"
   ]
  },
  {
   "cell_type": "code",
   "execution_count": 1,
   "id": "31a4af42",
   "metadata": {},
   "outputs": [],
   "source": [
    "import pandas as pd"
   ]
  },
  {
   "cell_type": "markdown",
   "id": "1ea80340",
   "metadata": {},
   "source": [
    "## **Pandas Series**"
   ]
  },
  {
   "cell_type": "markdown",
   "id": "ed5b88fe",
   "metadata": {},
   "source": [
    "### **Introducción**"
   ]
  },
  {
   "cell_type": "markdown",
   "id": "b0f721aa",
   "metadata": {},
   "source": [
    "Una Series es un arreglo unidimensional etiquetado. Cada valor tiene un índice (etiqueta). A diferencia de un ndarray de NumPy, una Series mantiene alineación por índice y ofrece un rico conjunto de métodos para análisis de datos.\n"
   ]
  },
  {
   "cell_type": "code",
   "execution_count": 2,
   "id": "ef9a2113",
   "metadata": {},
   "outputs": [],
   "source": [
    "s = pd.Series([10, 20, 30], index=[\"A\", \"B\", \"C\"], name=\"ventas\")"
   ]
  },
  {
   "cell_type": "markdown",
   "id": "97375b5b",
   "metadata": {},
   "source": [
    "Claves:\n",
    "- **values:** datos (NumPy u objeto).  \n",
    "- **index:** etiquetas.  \n",
    "- **dtype:** tipo (int, float, bool, datetime64, category, object, etc.).  \n",
    "- **name:** etiqueta de la serie (útil al convertir a DataFrame o exportar).  \n"
   ]
  },
  {
   "cell_type": "markdown",
   "id": "122dd7ce",
   "metadata": {},
   "source": [
    "### **Creación y tipos de datos:**"
   ]
  },
  {
   "cell_type": "markdown",
   "id": "142a6048",
   "metadata": {},
   "source": [
    "Las Series se pueden crear desde listas, diccionarios, rangos de fechas o valores categóricos. Pandas reconoce automáticamente el tipo de dato (`int`, `float`, `object`, `datetime`, `category`) y ajusta las operaciones en consecuencia."
   ]
  },
  {
   "cell_type": "code",
   "execution_count": 4,
   "id": "b18b3024",
   "metadata": {},
   "outputs": [
    {
     "data": {
      "application/vnd.microsoft.datawrangler.viewer.v0+json": {
       "columns": [
        {
         "name": "index",
         "rawType": "int64",
         "type": "integer"
        },
        {
         "name": "0",
         "rawType": "int64",
         "type": "integer"
        }
       ],
       "ref": "bb045e40-80f8-401b-b841-c86fad0bf04c",
       "rows": [
        [
         "0",
         "1"
        ],
        [
         "1",
         "2"
        ],
        [
         "2",
         "3"
        ]
       ],
       "shape": {
        "columns": 1,
        "rows": 3
       }
      },
      "text/plain": [
       "0    1\n",
       "1    2\n",
       "2    3\n",
       "dtype: int64"
      ]
     },
     "execution_count": 4,
     "metadata": {},
     "output_type": "execute_result"
    }
   ],
   "source": [
    "pd.Series([1, 2, 3])                       # desde lista"
   ]
  },
  {
   "cell_type": "code",
   "execution_count": 5,
   "id": "92c49887",
   "metadata": {},
   "outputs": [
    {
     "data": {
      "application/vnd.microsoft.datawrangler.viewer.v0+json": {
       "columns": [
        {
         "name": "index",
         "rawType": "object",
         "type": "string"
        },
        {
         "name": "0",
         "rawType": "int64",
         "type": "integer"
        }
       ],
       "ref": "9e57b95b-3d42-4fb4-bdb0-cb046a1f2c7a",
       "rows": [
        [
         "online",
         "5200"
        ],
        [
         "tienda",
         "4800"
        ]
       ],
       "shape": {
        "columns": 1,
        "rows": 2
       }
      },
      "text/plain": [
       "online    5200\n",
       "tienda    4800\n",
       "dtype: int64"
      ]
     },
     "execution_count": 5,
     "metadata": {},
     "output_type": "execute_result"
    }
   ],
   "source": [
    "pd.Series({\"online\":5200, \"tienda\":4800}) # desde diccionario"
   ]
  },
  {
   "cell_type": "code",
   "execution_count": null,
   "id": "57e9e838",
   "metadata": {},
   "outputs": [
    {
     "data": {
      "application/vnd.microsoft.datawrangler.viewer.v0+json": {
       "columns": [
        {
         "name": "index",
         "rawType": "int64",
         "type": "integer"
        },
        {
         "name": "0",
         "rawType": "datetime64[ns]",
         "type": "datetime"
        }
       ],
       "ref": "4e6250e8-c40d-4c11-8b45-9f71c44f5504",
       "rows": [
        [
         "0",
         "2025-01-01 00:00:00"
        ],
        [
         "1",
         "2025-01-02 00:00:00"
        ],
        [
         "2",
         "2025-01-03 00:00:00"
        ]
       ],
       "shape": {
        "columns": 1,
        "rows": 3
       }
      },
      "text/plain": [
       "0   2025-01-01\n",
       "1   2025-01-02\n",
       "2   2025-01-03\n",
       "dtype: datetime64[ns]"
      ]
     },
     "execution_count": 3,
     "metadata": {},
     "output_type": "execute_result"
    }
   ],
   "source": [
    "pd.Series(pd.date_range(\"2025-01-01\", periods=3)) # fechas"
   ]
  },
  {
   "cell_type": "markdown",
   "id": "e4756938",
   "metadata": {},
   "source": [
    "### **Indexación y slicing**"
   ]
  },
  {
   "cell_type": "markdown",
   "id": "57b435f4",
   "metadata": {},
   "source": [
    "Cada valor en la Series está asociado a un índice (etiqueta). Podemos acceder a los elementos por posición o por nombre. Permite trabajar con datos como si fueran tablas: accedemos a lo que queremos usando índices claros, no solo posiciones numéricas."
   ]
  },
  {
   "cell_type": "code",
   "execution_count": 6,
   "id": "69081f5d",
   "metadata": {},
   "outputs": [
    {
     "name": "stdout",
     "output_type": "stream",
     "text": [
      "b    200\n",
      "c    300\n",
      "d    400\n",
      "dtype: int64\n",
      "b    200\n",
      "c    300\n",
      "dtype: int64\n"
     ]
    }
   ],
   "source": [
    "s = pd.Series([100,200,300,400], index=[\"a\",\"b\",\"c\",\"d\"])\n",
    "print(s.loc[\"b\":\"d\"])   # por etiqueta (incluye 'd')\n",
    "print(s.iloc[1:3])      # por posición (excluye el final)\n"
   ]
  },
  {
   "cell_type": "markdown",
   "id": "8e561c5c",
   "metadata": {},
   "source": [
    "### **Filtros y condiciones**"
   ]
  },
  {
   "cell_type": "markdown",
   "id": "2689d721",
   "metadata": {},
   "source": [
    "Podemos seleccionar subconjuntos de datos mediante condiciones lógicas. Facilita aplicar reglas de negocio: identificar clientes activos, ventas mayores a cierto umbral, etc."
   ]
  },
  {
   "cell_type": "code",
   "execution_count": 7,
   "id": "74ec8486",
   "metadata": {},
   "outputs": [
    {
     "name": "stdout",
     "output_type": "stream",
     "text": [
      "2    25\n",
      "4    12\n",
      "Name: unidades, dtype: int64\n",
      "0     0\n",
      "1     0\n",
      "2    25\n",
      "3     0\n",
      "4    12\n",
      "Name: unidades, dtype: int64\n"
     ]
    }
   ],
   "source": [
    "s = pd.Series([10, 0, 25, 8, 12], name=\"unidades\")\n",
    "print(s[s > 10])         # filtrar valores mayores a 10\n",
    "print(s.where(s > 10, 0)) # reemplazar no válidos por 0\n"
   ]
  },
  {
   "cell_type": "markdown",
   "id": "46bf57bb",
   "metadata": {},
   "source": [
    "### **Manejo de valores faltantes**"
   ]
  },
  {
   "cell_type": "markdown",
   "id": "fe566c01",
   "metadata": {},
   "source": [
    "En análisis de datos, los valores faltantes son comunes. Pandas los representa como `NaN`. Esto permite detectarlos, eliminarlos o imputarlos sin perder la estructura del conjunto."
   ]
  },
  {
   "cell_type": "code",
   "execution_count": 8,
   "id": "d34cc0fa",
   "metadata": {},
   "outputs": [
    {
     "name": "stdout",
     "output_type": "stream",
     "text": [
      "0    False\n",
      "1     True\n",
      "2    False\n",
      "dtype: bool\n",
      "0    10.0\n",
      "1     0.0\n",
      "2    30.0\n",
      "dtype: float64\n",
      "0    10.0\n",
      "2    30.0\n",
      "dtype: float64\n"
     ]
    }
   ],
   "source": [
    "s = pd.Series([10, None, 30])\n",
    "print(s.isna())       # detectar\n",
    "print(s.fillna(0))    # reemplazar\n",
    "print(s.dropna())     # eliminar\n"
   ]
  },
  {
   "cell_type": "markdown",
   "id": "5833be24",
   "metadata": {},
   "source": [
    "### **Métodos estadísticos y de exploración**"
   ]
  },
  {
   "cell_type": "markdown",
   "id": "1e08fe37",
   "metadata": {},
   "source": [
    "Las `Series` incluyen métodos integrados para describir los datos de forma rápida. Ahorran tiempo en el análisis preliminar y facilitan la exploración inicial."
   ]
  },
  {
   "cell_type": "code",
   "execution_count": 9,
   "id": "108e3950",
   "metadata": {},
   "outputs": [
    {
     "name": "stdout",
     "output_type": "stream",
     "text": [
      "count     5.000000\n",
      "mean     28.000000\n",
      "std      16.431677\n",
      "min      10.000000\n",
      "25%      20.000000\n",
      "50%      20.000000\n",
      "75%      40.000000\n",
      "max      50.000000\n",
      "dtype: float64\n",
      "20    2\n",
      "10    1\n",
      "40    1\n",
      "50    1\n",
      "Name: count, dtype: int64\n",
      "4\n"
     ]
    }
   ],
   "source": [
    "s = pd.Series([10, 20, 20, 40, 50])\n",
    "print(s.describe())        # resumen estadístico\n",
    "print(s.value_counts())    # frecuencias\n",
    "print(s.nunique())         # número de valores únicos\n"
   ]
  },
  {
   "cell_type": "markdown",
   "id": "f2a12054",
   "metadata": {},
   "source": [
    "### **Transformaciones y mapeo**"
   ]
  },
  {
   "cell_type": "markdown",
   "id": "07b7d207",
   "metadata": {},
   "source": [
    "Podemos aplicar funciones sobre los elementos de una Series. Se emplean para limpiar o transformar variables, como normalizar categorías o crear nuevas codificaciones."
   ]
  },
  {
   "cell_type": "code",
   "execution_count": 10,
   "id": "09060792",
   "metadata": {},
   "outputs": [
    {
     "name": "stdout",
     "output_type": "stream",
     "text": [
      "0    Alpha\n",
      "1     Beta\n",
      "2    Alpha\n",
      "3      NaN\n",
      "dtype: object\n",
      "0        A\n",
      "1        B\n",
      "2        A\n",
      "3    Gamma\n",
      "dtype: object\n"
     ]
    }
   ],
   "source": [
    "s = pd.Series([\"A\", \"B\", \"A\", \"C\"])\n",
    "print(s.map({\"A\":\"Alpha\", \"B\":\"Beta\"}))\n",
    "print(s.replace({\"C\":\"Gamma\"}))\n"
   ]
  },
  {
   "cell_type": "markdown",
   "id": "89048060",
   "metadata": {},
   "source": [
    "### **Accesores especiales (.str, .dt, .cat)**"
   ]
  },
  {
   "cell_type": "markdown",
   "id": "dfc89478",
   "metadata": {},
   "source": [
    "Pandas proporciona accesores para trabajar con tipos de datos específicos.\n",
    "- **Texto (`.str`):** limpieza de strings.  \n",
    "- **Fechas (`.dt`):** extraer componentes de fechas.  \n",
    "- **Categóricos (`.cat`):** manipular categorías.  \n",
    "\n",
    "Estos accesores permiten transformar datos textuales o temporales de forma vectorizada."
   ]
  },
  {
   "cell_type": "code",
   "execution_count": null,
   "id": "8b7c120a",
   "metadata": {},
   "outputs": [
    {
     "name": "stdout",
     "output_type": "stream",
     "text": [
      "0      Ana\n",
      "1     Luis\n",
      "2    Sofia\n",
      "dtype: object\n",
      "0    2025\n",
      "1    2025\n",
      "2    2025\n",
      "dtype: int32\n"
     ]
    }
   ],
   "source": [
    "nombres = pd.Series([\"  ana  \", \"LUIS\", \"sofia\"])\n",
    "print(nombres.str.strip().str.title()) # limpiar y formatear\n",
    "\n",
    "fechas = pd.Series(pd.date_range(\"2025-01-01\", periods=3))\n",
    "print(fechas.dt.year) # extraer el año\n"
   ]
  },
  {
   "cell_type": "markdown",
   "id": "2a9cd9f4",
   "metadata": {},
   "source": [
    "### **Reindexación y ordenamiento**"
   ]
  },
  {
   "cell_type": "markdown",
   "id": "cc166e29",
   "metadata": {},
   "source": [
    "Podemos reordenar, añadir índices o cambiar el orden de los datos. En datos empresariales no siempre todos los índices existen; la reindexación permite homogenizar conjuntos."
   ]
  },
  {
   "cell_type": "code",
   "execution_count": 12,
   "id": "f9d896e2",
   "metadata": {},
   "outputs": [
    {
     "name": "stdout",
     "output_type": "stream",
     "text": [
      "A    10\n",
      "B     0\n",
      "C    30\n",
      "dtype: int64\n"
     ]
    }
   ],
   "source": [
    "s = pd.Series({\"A\":10, \"C\":30})\n",
    "print(s.reindex([\"A\",\"B\",\"C\"], fill_value=0)) # reindexar con relleno\n"
   ]
  },
  {
   "cell_type": "markdown",
   "id": "2588de3a",
   "metadata": {},
   "source": [
    "### **Lectura de datos desde archivos**"
   ]
  },
  {
   "cell_type": "markdown",
   "id": "a53a8961",
   "metadata": {},
   "source": [
    "Una de las mayores fortalezas de Pandas es la facilidad para cargar datos reales desde múltiples formatos. El trabajo en analítica siempre comienza con datos en archivos (CSV, Excel, SQL, JSON)."
   ]
  },
  {
   "cell_type": "code",
   "execution_count": 14,
   "id": "c369c855",
   "metadata": {},
   "outputs": [
    {
     "name": "stdout",
     "output_type": "stream",
     "text": [
      "0     454\n",
      "1     261\n",
      "2     125\n",
      "3     200\n",
      "4     368\n",
      "     ... \n",
      "95    181\n",
      "96    420\n",
      "97    317\n",
      "98    282\n",
      "99    492\n",
      "Name: ventas, Length: 100, dtype: int64\n"
     ]
    }
   ],
   "source": [
    "# CSV\n",
    "s = pd.read_csv(\"ventas.csv\", usecols=[\"ventas\"])[\"ventas\"]\n",
    "print(s)\n"
   ]
  },
  {
   "cell_type": "code",
   "execution_count": 15,
   "id": "c1a766b2",
   "metadata": {},
   "outputs": [
    {
     "ename": "ImportError",
     "evalue": "Missing optional dependency 'openpyxl'.  Use pip or conda to install openpyxl.",
     "output_type": "error",
     "traceback": [
      "\u001b[31m---------------------------------------------------------------------------\u001b[39m",
      "\u001b[31mModuleNotFoundError\u001b[39m                       Traceback (most recent call last)",
      "\u001b[36mFile \u001b[39m\u001b[32m~\\AppData\\Roaming\\Python\\Python311\\site-packages\\pandas\\compat\\_optional.py:135\u001b[39m, in \u001b[36mimport_optional_dependency\u001b[39m\u001b[34m(name, extra, errors, min_version)\u001b[39m\n\u001b[32m    134\u001b[39m \u001b[38;5;28;01mtry\u001b[39;00m:\n\u001b[32m--> \u001b[39m\u001b[32m135\u001b[39m     module = \u001b[43mimportlib\u001b[49m\u001b[43m.\u001b[49m\u001b[43mimport_module\u001b[49m\u001b[43m(\u001b[49m\u001b[43mname\u001b[49m\u001b[43m)\u001b[49m\n\u001b[32m    136\u001b[39m \u001b[38;5;28;01mexcept\u001b[39;00m \u001b[38;5;167;01mImportError\u001b[39;00m:\n",
      "\u001b[36mFile \u001b[39m\u001b[32mc:\\Program Files\\Python311\\Lib\\importlib\\__init__.py:126\u001b[39m, in \u001b[36mimport_module\u001b[39m\u001b[34m(name, package)\u001b[39m\n\u001b[32m    125\u001b[39m         level += \u001b[32m1\u001b[39m\n\u001b[32m--> \u001b[39m\u001b[32m126\u001b[39m \u001b[38;5;28;01mreturn\u001b[39;00m \u001b[43m_bootstrap\u001b[49m\u001b[43m.\u001b[49m\u001b[43m_gcd_import\u001b[49m\u001b[43m(\u001b[49m\u001b[43mname\u001b[49m\u001b[43m[\u001b[49m\u001b[43mlevel\u001b[49m\u001b[43m:\u001b[49m\u001b[43m]\u001b[49m\u001b[43m,\u001b[49m\u001b[43m \u001b[49m\u001b[43mpackage\u001b[49m\u001b[43m,\u001b[49m\u001b[43m \u001b[49m\u001b[43mlevel\u001b[49m\u001b[43m)\u001b[49m\n",
      "\u001b[36mFile \u001b[39m\u001b[32m<frozen importlib._bootstrap>:1206\u001b[39m, in \u001b[36m_gcd_import\u001b[39m\u001b[34m(name, package, level)\u001b[39m\n",
      "\u001b[36mFile \u001b[39m\u001b[32m<frozen importlib._bootstrap>:1178\u001b[39m, in \u001b[36m_find_and_load\u001b[39m\u001b[34m(name, import_)\u001b[39m\n",
      "\u001b[36mFile \u001b[39m\u001b[32m<frozen importlib._bootstrap>:1142\u001b[39m, in \u001b[36m_find_and_load_unlocked\u001b[39m\u001b[34m(name, import_)\u001b[39m\n",
      "\u001b[31mModuleNotFoundError\u001b[39m: No module named 'openpyxl'",
      "\nDuring handling of the above exception, another exception occurred:\n",
      "\u001b[31mImportError\u001b[39m                               Traceback (most recent call last)",
      "\u001b[36mCell\u001b[39m\u001b[36m \u001b[39m\u001b[32mIn[15]\u001b[39m\u001b[32m, line 2\u001b[39m\n\u001b[32m      1\u001b[39m \u001b[38;5;66;03m# Excel\u001b[39;00m\n\u001b[32m----> \u001b[39m\u001b[32m2\u001b[39m s=\u001b[43mpd\u001b[49m\u001b[43m.\u001b[49m\u001b[43mread_excel\u001b[49m\u001b[43m(\u001b[49m\u001b[33;43m\"\u001b[39;49m\u001b[33;43mventas.xlsx\u001b[39;49m\u001b[33;43m\"\u001b[39;49m\u001b[43m,\u001b[49m\u001b[43msheet_name\u001b[49m\u001b[43m=\u001b[49m\u001b[33;43m\"\u001b[39;49m\u001b[33;43mHoja1\u001b[39;49m\u001b[33;43m\"\u001b[39;49m\u001b[43m)\u001b[49m[\u001b[33m\"\u001b[39m\u001b[33mventas\u001b[39m\u001b[33m\"\u001b[39m]\n\u001b[32m      3\u001b[39m \u001b[38;5;28mprint\u001b[39m(s)\n",
      "\u001b[36mFile \u001b[39m\u001b[32m~\\AppData\\Roaming\\Python\\Python311\\site-packages\\pandas\\io\\excel\\_base.py:495\u001b[39m, in \u001b[36mread_excel\u001b[39m\u001b[34m(io, sheet_name, header, names, index_col, usecols, dtype, engine, converters, true_values, false_values, skiprows, nrows, na_values, keep_default_na, na_filter, verbose, parse_dates, date_parser, date_format, thousands, decimal, comment, skipfooter, storage_options, dtype_backend, engine_kwargs)\u001b[39m\n\u001b[32m    493\u001b[39m \u001b[38;5;28;01mif\u001b[39;00m \u001b[38;5;129;01mnot\u001b[39;00m \u001b[38;5;28misinstance\u001b[39m(io, ExcelFile):\n\u001b[32m    494\u001b[39m     should_close = \u001b[38;5;28;01mTrue\u001b[39;00m\n\u001b[32m--> \u001b[39m\u001b[32m495\u001b[39m     io = \u001b[43mExcelFile\u001b[49m\u001b[43m(\u001b[49m\n\u001b[32m    496\u001b[39m \u001b[43m        \u001b[49m\u001b[43mio\u001b[49m\u001b[43m,\u001b[49m\n\u001b[32m    497\u001b[39m \u001b[43m        \u001b[49m\u001b[43mstorage_options\u001b[49m\u001b[43m=\u001b[49m\u001b[43mstorage_options\u001b[49m\u001b[43m,\u001b[49m\n\u001b[32m    498\u001b[39m \u001b[43m        \u001b[49m\u001b[43mengine\u001b[49m\u001b[43m=\u001b[49m\u001b[43mengine\u001b[49m\u001b[43m,\u001b[49m\n\u001b[32m    499\u001b[39m \u001b[43m        \u001b[49m\u001b[43mengine_kwargs\u001b[49m\u001b[43m=\u001b[49m\u001b[43mengine_kwargs\u001b[49m\u001b[43m,\u001b[49m\n\u001b[32m    500\u001b[39m \u001b[43m    \u001b[49m\u001b[43m)\u001b[49m\n\u001b[32m    501\u001b[39m \u001b[38;5;28;01melif\u001b[39;00m engine \u001b[38;5;129;01mand\u001b[39;00m engine != io.engine:\n\u001b[32m    502\u001b[39m     \u001b[38;5;28;01mraise\u001b[39;00m \u001b[38;5;167;01mValueError\u001b[39;00m(\n\u001b[32m    503\u001b[39m         \u001b[33m\"\u001b[39m\u001b[33mEngine should not be specified when passing \u001b[39m\u001b[33m\"\u001b[39m\n\u001b[32m    504\u001b[39m         \u001b[33m\"\u001b[39m\u001b[33man ExcelFile - ExcelFile already has the engine set\u001b[39m\u001b[33m\"\u001b[39m\n\u001b[32m    505\u001b[39m     )\n",
      "\u001b[36mFile \u001b[39m\u001b[32m~\\AppData\\Roaming\\Python\\Python311\\site-packages\\pandas\\io\\excel\\_base.py:1567\u001b[39m, in \u001b[36mExcelFile.__init__\u001b[39m\u001b[34m(self, path_or_buffer, engine, storage_options, engine_kwargs)\u001b[39m\n\u001b[32m   1564\u001b[39m \u001b[38;5;28mself\u001b[39m.engine = engine\n\u001b[32m   1565\u001b[39m \u001b[38;5;28mself\u001b[39m.storage_options = storage_options\n\u001b[32m-> \u001b[39m\u001b[32m1567\u001b[39m \u001b[38;5;28mself\u001b[39m._reader = \u001b[38;5;28;43mself\u001b[39;49m\u001b[43m.\u001b[49m\u001b[43m_engines\u001b[49m\u001b[43m[\u001b[49m\u001b[43mengine\u001b[49m\u001b[43m]\u001b[49m\u001b[43m(\u001b[49m\n\u001b[32m   1568\u001b[39m \u001b[43m    \u001b[49m\u001b[38;5;28;43mself\u001b[39;49m\u001b[43m.\u001b[49m\u001b[43m_io\u001b[49m\u001b[43m,\u001b[49m\n\u001b[32m   1569\u001b[39m \u001b[43m    \u001b[49m\u001b[43mstorage_options\u001b[49m\u001b[43m=\u001b[49m\u001b[43mstorage_options\u001b[49m\u001b[43m,\u001b[49m\n\u001b[32m   1570\u001b[39m \u001b[43m    \u001b[49m\u001b[43mengine_kwargs\u001b[49m\u001b[43m=\u001b[49m\u001b[43mengine_kwargs\u001b[49m\u001b[43m,\u001b[49m\n\u001b[32m   1571\u001b[39m \u001b[43m\u001b[49m\u001b[43m)\u001b[49m\n",
      "\u001b[36mFile \u001b[39m\u001b[32m~\\AppData\\Roaming\\Python\\Python311\\site-packages\\pandas\\io\\excel\\_openpyxl.py:552\u001b[39m, in \u001b[36mOpenpyxlReader.__init__\u001b[39m\u001b[34m(self, filepath_or_buffer, storage_options, engine_kwargs)\u001b[39m\n\u001b[32m    534\u001b[39m \u001b[38;5;129m@doc\u001b[39m(storage_options=_shared_docs[\u001b[33m\"\u001b[39m\u001b[33mstorage_options\u001b[39m\u001b[33m\"\u001b[39m])\n\u001b[32m    535\u001b[39m \u001b[38;5;28;01mdef\u001b[39;00m\u001b[38;5;250m \u001b[39m\u001b[34m__init__\u001b[39m(\n\u001b[32m    536\u001b[39m     \u001b[38;5;28mself\u001b[39m,\n\u001b[32m   (...)\u001b[39m\u001b[32m    539\u001b[39m     engine_kwargs: \u001b[38;5;28mdict\u001b[39m | \u001b[38;5;28;01mNone\u001b[39;00m = \u001b[38;5;28;01mNone\u001b[39;00m,\n\u001b[32m    540\u001b[39m ) -> \u001b[38;5;28;01mNone\u001b[39;00m:\n\u001b[32m    541\u001b[39m \u001b[38;5;250m    \u001b[39m\u001b[33;03m\"\"\"\u001b[39;00m\n\u001b[32m    542\u001b[39m \u001b[33;03m    Reader using openpyxl engine.\u001b[39;00m\n\u001b[32m    543\u001b[39m \n\u001b[32m   (...)\u001b[39m\u001b[32m    550\u001b[39m \u001b[33;03m        Arbitrary keyword arguments passed to excel engine.\u001b[39;00m\n\u001b[32m    551\u001b[39m \u001b[33;03m    \"\"\"\u001b[39;00m\n\u001b[32m--> \u001b[39m\u001b[32m552\u001b[39m     \u001b[43mimport_optional_dependency\u001b[49m\u001b[43m(\u001b[49m\u001b[33;43m\"\u001b[39;49m\u001b[33;43mopenpyxl\u001b[39;49m\u001b[33;43m\"\u001b[39;49m\u001b[43m)\u001b[49m\n\u001b[32m    553\u001b[39m     \u001b[38;5;28msuper\u001b[39m().\u001b[34m__init__\u001b[39m(\n\u001b[32m    554\u001b[39m         filepath_or_buffer,\n\u001b[32m    555\u001b[39m         storage_options=storage_options,\n\u001b[32m    556\u001b[39m         engine_kwargs=engine_kwargs,\n\u001b[32m    557\u001b[39m     )\n",
      "\u001b[36mFile \u001b[39m\u001b[32m~\\AppData\\Roaming\\Python\\Python311\\site-packages\\pandas\\compat\\_optional.py:138\u001b[39m, in \u001b[36mimport_optional_dependency\u001b[39m\u001b[34m(name, extra, errors, min_version)\u001b[39m\n\u001b[32m    136\u001b[39m \u001b[38;5;28;01mexcept\u001b[39;00m \u001b[38;5;167;01mImportError\u001b[39;00m:\n\u001b[32m    137\u001b[39m     \u001b[38;5;28;01mif\u001b[39;00m errors == \u001b[33m\"\u001b[39m\u001b[33mraise\u001b[39m\u001b[33m\"\u001b[39m:\n\u001b[32m--> \u001b[39m\u001b[32m138\u001b[39m         \u001b[38;5;28;01mraise\u001b[39;00m \u001b[38;5;167;01mImportError\u001b[39;00m(msg)\n\u001b[32m    139\u001b[39m     \u001b[38;5;28;01mreturn\u001b[39;00m \u001b[38;5;28;01mNone\u001b[39;00m\n\u001b[32m    141\u001b[39m \u001b[38;5;66;03m# Handle submodules: if we have submodule, grab parent module from sys.modules\u001b[39;00m\n",
      "\u001b[31mImportError\u001b[39m: Missing optional dependency 'openpyxl'.  Use pip or conda to install openpyxl."
     ]
    }
   ],
   "source": [
    "# Excel\n",
    "s=pd.read_excel(\"ventas.xlsx\",sheet_name=\"Hoja1\")[\"ventas\"]\n",
    "print(s)"
   ]
  },
  {
   "cell_type": "code",
   "execution_count": null,
   "id": "772be53f",
   "metadata": {},
   "outputs": [],
   "source": [
    "%pip install openpyxl # instalación de dependencia para Excel"
   ]
  },
  {
   "cell_type": "code",
   "execution_count": 16,
   "id": "93187c10",
   "metadata": {},
   "outputs": [
    {
     "name": "stdout",
     "output_type": "stream",
     "text": [
      "0     454\n",
      "1     261\n",
      "2     125\n",
      "3     200\n",
      "4     368\n",
      "     ... \n",
      "95    181\n",
      "96    420\n",
      "97    317\n",
      "98    282\n",
      "99    492\n",
      "Name: ventas, Length: 100, dtype: int64\n"
     ]
    }
   ],
   "source": [
    "# JSON\n",
    "s = pd.read_json(\"ventas.json\")[\"ventas\"]\n",
    "print(s)"
   ]
  },
  {
   "cell_type": "markdown",
   "id": "81c61e04",
   "metadata": {},
   "source": [
    "De esta manera, una columna de cualquier archivo puede convertirse en una Series directamente."
   ]
  },
  {
   "cell_type": "markdown",
   "id": "9565d41f",
   "metadata": {},
   "source": [
    "## **Pandas DataFrame**"
   ]
  },
  {
   "cell_type": "markdown",
   "id": "46c239c5",
   "metadata": {},
   "source": [
    "### **Definición**"
   ]
  },
  {
   "cell_type": "markdown",
   "id": "369c199f",
   "metadata": {},
   "source": [
    "Un DataFrame es la estructura principal de Pandas: una tabla bidimensional con filas y columnas.\n",
    "- Cada columna es una Series.  \n",
    "- Cada fila tiene un índice único.  \n",
    "- Los nombres de las columnas son etiquetas que permiten acceder fácilmente a los datos.  \n",
    "\n",
    "Representa datos de manera muy similar a una hoja de Excel o una tabla en SQL, pero con toda la potencia de Python para análisis, limpieza y transformación."
   ]
  },
  {
   "cell_type": "code",
   "execution_count": 17,
   "id": "03c4aad2",
   "metadata": {},
   "outputs": [
    {
     "name": "stdout",
     "output_type": "stream",
     "text": [
      "  producto  ventas  precio\n",
      "0        A     100      20\n",
      "1        B     150      15\n",
      "2        C     200      10\n"
     ]
    }
   ],
   "source": [
    "df = pd.DataFrame({\"producto\": [\"A\", \"B\", \"C\"],\"ventas\": [100, 150, 200],\"precio\": [20, 15, 10]})\n",
    "print(df)"
   ]
  },
  {
   "cell_type": "markdown",
   "id": "5dbae98b",
   "metadata": {},
   "source": [
    "### **Creación de DataFrames**"
   ]
  },
  {
   "cell_type": "markdown",
   "id": "93a109c5",
   "metadata": {},
   "source": [
    " Los DataFrames pueden crearse desde múltiples fuentes:   \n",
    "- Diccionarios de listas o arrays (estructura más común).  \n",
    "- Diccionarios de diccionarios.  \n",
    "- Listas de diccionarios.  \n",
    "- Lectura de archivos (CSV, Excel, JSON, SQL)."
   ]
  },
  {
   "cell_type": "code",
   "execution_count": 19,
   "id": "5bbfe40a",
   "metadata": {},
   "outputs": [
    {
     "name": "stdout",
     "output_type": "stream",
     "text": [
      "  producto  ventas\n",
      "0        A     100\n",
      "1        B     200\n",
      "2        C     300\n"
     ]
    }
   ],
   "source": [
    "# Diccionario de listas\n",
    "df=pd.DataFrame({\"producto\": [\"A\", \"B\", \"C\"], \"ventas\":[100, 200, 300]})\n",
    "print(df)"
   ]
  },
  {
   "cell_type": "code",
   "execution_count": 20,
   "id": "ec0861be",
   "metadata": {},
   "outputs": [
    {
     "name": "stdout",
     "output_type": "stream",
     "text": [
      "  producto  ventas\n",
      "0        A     100\n",
      "1        B     200\n"
     ]
    }
   ],
   "source": [
    "# Lista de diccionarios\n",
    "df2=pd.DataFrame([{\"producto\":\"A\",\"ventas\":100}, {\"producto\":\"B\", \"ventas\":200}])\n",
    "print(df2)"
   ]
  },
  {
   "cell_type": "markdown",
   "id": "fbaccc3c",
   "metadata": {},
   "source": [
    "### **Lectura y escritura (I/O)**"
   ]
  },
  {
   "cell_type": "markdown",
   "id": "2526f3e8",
   "metadata": {},
   "source": [
    " Una de las funciones más potentes de Pandas es trabajar con datos en múltiples formatos. La lectura de archivos es igual que en la anterior sección cuando se explicó `Series`, pero ahora los archivos contienen varias columnas"
   ]
  },
  {
   "cell_type": "code",
   "execution_count": 53,
   "id": "f405c47e",
   "metadata": {},
   "outputs": [
    {
     "name": "stdout",
     "output_type": "stream",
     "text": [
      "    ventas  precios\n",
      "0      105      282\n",
      "1      244      127\n",
      "2      311      265\n",
      "3      443      102\n",
      "4      342      208\n",
      "..     ...      ...\n",
      "95     395      288\n",
      "96     307      253\n",
      "97     329      132\n",
      "98     168      195\n",
      "99     189      126\n",
      "\n",
      "[100 rows x 2 columns]\n"
     ]
    }
   ],
   "source": [
    "# CSV\n",
    "df = pd.read_csv(\"ventas_df.csv\")\n",
    "print(df)"
   ]
  },
  {
   "cell_type": "code",
   "execution_count": 22,
   "id": "e0bfa716",
   "metadata": {},
   "outputs": [
    {
     "ename": "ImportError",
     "evalue": "Missing optional dependency 'openpyxl'.  Use pip or conda to install openpyxl.",
     "output_type": "error",
     "traceback": [
      "\u001b[31m---------------------------------------------------------------------------\u001b[39m",
      "\u001b[31mModuleNotFoundError\u001b[39m                       Traceback (most recent call last)",
      "\u001b[36mFile \u001b[39m\u001b[32m~\\AppData\\Roaming\\Python\\Python311\\site-packages\\pandas\\compat\\_optional.py:135\u001b[39m, in \u001b[36mimport_optional_dependency\u001b[39m\u001b[34m(name, extra, errors, min_version)\u001b[39m\n\u001b[32m    134\u001b[39m \u001b[38;5;28;01mtry\u001b[39;00m:\n\u001b[32m--> \u001b[39m\u001b[32m135\u001b[39m     module = \u001b[43mimportlib\u001b[49m\u001b[43m.\u001b[49m\u001b[43mimport_module\u001b[49m\u001b[43m(\u001b[49m\u001b[43mname\u001b[49m\u001b[43m)\u001b[49m\n\u001b[32m    136\u001b[39m \u001b[38;5;28;01mexcept\u001b[39;00m \u001b[38;5;167;01mImportError\u001b[39;00m:\n",
      "\u001b[36mFile \u001b[39m\u001b[32mc:\\Program Files\\Python311\\Lib\\importlib\\__init__.py:126\u001b[39m, in \u001b[36mimport_module\u001b[39m\u001b[34m(name, package)\u001b[39m\n\u001b[32m    125\u001b[39m         level += \u001b[32m1\u001b[39m\n\u001b[32m--> \u001b[39m\u001b[32m126\u001b[39m \u001b[38;5;28;01mreturn\u001b[39;00m \u001b[43m_bootstrap\u001b[49m\u001b[43m.\u001b[49m\u001b[43m_gcd_import\u001b[49m\u001b[43m(\u001b[49m\u001b[43mname\u001b[49m\u001b[43m[\u001b[49m\u001b[43mlevel\u001b[49m\u001b[43m:\u001b[49m\u001b[43m]\u001b[49m\u001b[43m,\u001b[49m\u001b[43m \u001b[49m\u001b[43mpackage\u001b[49m\u001b[43m,\u001b[49m\u001b[43m \u001b[49m\u001b[43mlevel\u001b[49m\u001b[43m)\u001b[49m\n",
      "\u001b[36mFile \u001b[39m\u001b[32m<frozen importlib._bootstrap>:1206\u001b[39m, in \u001b[36m_gcd_import\u001b[39m\u001b[34m(name, package, level)\u001b[39m\n",
      "\u001b[36mFile \u001b[39m\u001b[32m<frozen importlib._bootstrap>:1178\u001b[39m, in \u001b[36m_find_and_load\u001b[39m\u001b[34m(name, import_)\u001b[39m\n",
      "\u001b[36mFile \u001b[39m\u001b[32m<frozen importlib._bootstrap>:1142\u001b[39m, in \u001b[36m_find_and_load_unlocked\u001b[39m\u001b[34m(name, import_)\u001b[39m\n",
      "\u001b[31mModuleNotFoundError\u001b[39m: No module named 'openpyxl'",
      "\nDuring handling of the above exception, another exception occurred:\n",
      "\u001b[31mImportError\u001b[39m                               Traceback (most recent call last)",
      "\u001b[36mCell\u001b[39m\u001b[36m \u001b[39m\u001b[32mIn[22]\u001b[39m\u001b[32m, line 2\u001b[39m\n\u001b[32m      1\u001b[39m \u001b[38;5;66;03m# Excel\u001b[39;00m\n\u001b[32m----> \u001b[39m\u001b[32m2\u001b[39m df = \u001b[43mpd\u001b[49m\u001b[43m.\u001b[49m\u001b[43mread_excel\u001b[49m\u001b[43m(\u001b[49m\u001b[33;43m\"\u001b[39;49m\u001b[33;43mventas_df.xlsx\u001b[39;49m\u001b[33;43m\"\u001b[39;49m\u001b[43m,\u001b[49m\u001b[43m \u001b[49m\u001b[43msheet_name\u001b[49m\u001b[43m=\u001b[49m\u001b[33;43m\"\u001b[39;49m\u001b[33;43mHoja1\u001b[39;49m\u001b[33;43m\"\u001b[39;49m\u001b[43m)\u001b[49m\n\u001b[32m      3\u001b[39m \u001b[38;5;28mprint\u001b[39m(df)\n",
      "\u001b[36mFile \u001b[39m\u001b[32m~\\AppData\\Roaming\\Python\\Python311\\site-packages\\pandas\\io\\excel\\_base.py:495\u001b[39m, in \u001b[36mread_excel\u001b[39m\u001b[34m(io, sheet_name, header, names, index_col, usecols, dtype, engine, converters, true_values, false_values, skiprows, nrows, na_values, keep_default_na, na_filter, verbose, parse_dates, date_parser, date_format, thousands, decimal, comment, skipfooter, storage_options, dtype_backend, engine_kwargs)\u001b[39m\n\u001b[32m    493\u001b[39m \u001b[38;5;28;01mif\u001b[39;00m \u001b[38;5;129;01mnot\u001b[39;00m \u001b[38;5;28misinstance\u001b[39m(io, ExcelFile):\n\u001b[32m    494\u001b[39m     should_close = \u001b[38;5;28;01mTrue\u001b[39;00m\n\u001b[32m--> \u001b[39m\u001b[32m495\u001b[39m     io = \u001b[43mExcelFile\u001b[49m\u001b[43m(\u001b[49m\n\u001b[32m    496\u001b[39m \u001b[43m        \u001b[49m\u001b[43mio\u001b[49m\u001b[43m,\u001b[49m\n\u001b[32m    497\u001b[39m \u001b[43m        \u001b[49m\u001b[43mstorage_options\u001b[49m\u001b[43m=\u001b[49m\u001b[43mstorage_options\u001b[49m\u001b[43m,\u001b[49m\n\u001b[32m    498\u001b[39m \u001b[43m        \u001b[49m\u001b[43mengine\u001b[49m\u001b[43m=\u001b[49m\u001b[43mengine\u001b[49m\u001b[43m,\u001b[49m\n\u001b[32m    499\u001b[39m \u001b[43m        \u001b[49m\u001b[43mengine_kwargs\u001b[49m\u001b[43m=\u001b[49m\u001b[43mengine_kwargs\u001b[49m\u001b[43m,\u001b[49m\n\u001b[32m    500\u001b[39m \u001b[43m    \u001b[49m\u001b[43m)\u001b[49m\n\u001b[32m    501\u001b[39m \u001b[38;5;28;01melif\u001b[39;00m engine \u001b[38;5;129;01mand\u001b[39;00m engine != io.engine:\n\u001b[32m    502\u001b[39m     \u001b[38;5;28;01mraise\u001b[39;00m \u001b[38;5;167;01mValueError\u001b[39;00m(\n\u001b[32m    503\u001b[39m         \u001b[33m\"\u001b[39m\u001b[33mEngine should not be specified when passing \u001b[39m\u001b[33m\"\u001b[39m\n\u001b[32m    504\u001b[39m         \u001b[33m\"\u001b[39m\u001b[33man ExcelFile - ExcelFile already has the engine set\u001b[39m\u001b[33m\"\u001b[39m\n\u001b[32m    505\u001b[39m     )\n",
      "\u001b[36mFile \u001b[39m\u001b[32m~\\AppData\\Roaming\\Python\\Python311\\site-packages\\pandas\\io\\excel\\_base.py:1567\u001b[39m, in \u001b[36mExcelFile.__init__\u001b[39m\u001b[34m(self, path_or_buffer, engine, storage_options, engine_kwargs)\u001b[39m\n\u001b[32m   1564\u001b[39m \u001b[38;5;28mself\u001b[39m.engine = engine\n\u001b[32m   1565\u001b[39m \u001b[38;5;28mself\u001b[39m.storage_options = storage_options\n\u001b[32m-> \u001b[39m\u001b[32m1567\u001b[39m \u001b[38;5;28mself\u001b[39m._reader = \u001b[38;5;28;43mself\u001b[39;49m\u001b[43m.\u001b[49m\u001b[43m_engines\u001b[49m\u001b[43m[\u001b[49m\u001b[43mengine\u001b[49m\u001b[43m]\u001b[49m\u001b[43m(\u001b[49m\n\u001b[32m   1568\u001b[39m \u001b[43m    \u001b[49m\u001b[38;5;28;43mself\u001b[39;49m\u001b[43m.\u001b[49m\u001b[43m_io\u001b[49m\u001b[43m,\u001b[49m\n\u001b[32m   1569\u001b[39m \u001b[43m    \u001b[49m\u001b[43mstorage_options\u001b[49m\u001b[43m=\u001b[49m\u001b[43mstorage_options\u001b[49m\u001b[43m,\u001b[49m\n\u001b[32m   1570\u001b[39m \u001b[43m    \u001b[49m\u001b[43mengine_kwargs\u001b[49m\u001b[43m=\u001b[49m\u001b[43mengine_kwargs\u001b[49m\u001b[43m,\u001b[49m\n\u001b[32m   1571\u001b[39m \u001b[43m\u001b[49m\u001b[43m)\u001b[49m\n",
      "\u001b[36mFile \u001b[39m\u001b[32m~\\AppData\\Roaming\\Python\\Python311\\site-packages\\pandas\\io\\excel\\_openpyxl.py:552\u001b[39m, in \u001b[36mOpenpyxlReader.__init__\u001b[39m\u001b[34m(self, filepath_or_buffer, storage_options, engine_kwargs)\u001b[39m\n\u001b[32m    534\u001b[39m \u001b[38;5;129m@doc\u001b[39m(storage_options=_shared_docs[\u001b[33m\"\u001b[39m\u001b[33mstorage_options\u001b[39m\u001b[33m\"\u001b[39m])\n\u001b[32m    535\u001b[39m \u001b[38;5;28;01mdef\u001b[39;00m\u001b[38;5;250m \u001b[39m\u001b[34m__init__\u001b[39m(\n\u001b[32m    536\u001b[39m     \u001b[38;5;28mself\u001b[39m,\n\u001b[32m   (...)\u001b[39m\u001b[32m    539\u001b[39m     engine_kwargs: \u001b[38;5;28mdict\u001b[39m | \u001b[38;5;28;01mNone\u001b[39;00m = \u001b[38;5;28;01mNone\u001b[39;00m,\n\u001b[32m    540\u001b[39m ) -> \u001b[38;5;28;01mNone\u001b[39;00m:\n\u001b[32m    541\u001b[39m \u001b[38;5;250m    \u001b[39m\u001b[33;03m\"\"\"\u001b[39;00m\n\u001b[32m    542\u001b[39m \u001b[33;03m    Reader using openpyxl engine.\u001b[39;00m\n\u001b[32m    543\u001b[39m \n\u001b[32m   (...)\u001b[39m\u001b[32m    550\u001b[39m \u001b[33;03m        Arbitrary keyword arguments passed to excel engine.\u001b[39;00m\n\u001b[32m    551\u001b[39m \u001b[33;03m    \"\"\"\u001b[39;00m\n\u001b[32m--> \u001b[39m\u001b[32m552\u001b[39m     \u001b[43mimport_optional_dependency\u001b[49m\u001b[43m(\u001b[49m\u001b[33;43m\"\u001b[39;49m\u001b[33;43mopenpyxl\u001b[39;49m\u001b[33;43m\"\u001b[39;49m\u001b[43m)\u001b[49m\n\u001b[32m    553\u001b[39m     \u001b[38;5;28msuper\u001b[39m().\u001b[34m__init__\u001b[39m(\n\u001b[32m    554\u001b[39m         filepath_or_buffer,\n\u001b[32m    555\u001b[39m         storage_options=storage_options,\n\u001b[32m    556\u001b[39m         engine_kwargs=engine_kwargs,\n\u001b[32m    557\u001b[39m     )\n",
      "\u001b[36mFile \u001b[39m\u001b[32m~\\AppData\\Roaming\\Python\\Python311\\site-packages\\pandas\\compat\\_optional.py:138\u001b[39m, in \u001b[36mimport_optional_dependency\u001b[39m\u001b[34m(name, extra, errors, min_version)\u001b[39m\n\u001b[32m    136\u001b[39m \u001b[38;5;28;01mexcept\u001b[39;00m \u001b[38;5;167;01mImportError\u001b[39;00m:\n\u001b[32m    137\u001b[39m     \u001b[38;5;28;01mif\u001b[39;00m errors == \u001b[33m\"\u001b[39m\u001b[33mraise\u001b[39m\u001b[33m\"\u001b[39m:\n\u001b[32m--> \u001b[39m\u001b[32m138\u001b[39m         \u001b[38;5;28;01mraise\u001b[39;00m \u001b[38;5;167;01mImportError\u001b[39;00m(msg)\n\u001b[32m    139\u001b[39m     \u001b[38;5;28;01mreturn\u001b[39;00m \u001b[38;5;28;01mNone\u001b[39;00m\n\u001b[32m    141\u001b[39m \u001b[38;5;66;03m# Handle submodules: if we have submodule, grab parent module from sys.modules\u001b[39;00m\n",
      "\u001b[31mImportError\u001b[39m: Missing optional dependency 'openpyxl'.  Use pip or conda to install openpyxl."
     ]
    }
   ],
   "source": [
    "# Excel\n",
    "df = pd.read_excel(\"ventas_df.xlsx\", sheet_name=\"Hoja1\")\n",
    "print(df)"
   ]
  },
  {
   "cell_type": "code",
   "execution_count": 54,
   "id": "5dcdeefd",
   "metadata": {},
   "outputs": [
    {
     "name": "stdout",
     "output_type": "stream",
     "text": [
      "    ventas  precios\n",
      "0      105      282\n",
      "1      244      127\n",
      "2      311      265\n",
      "3      443      102\n",
      "4      342      208\n",
      "..     ...      ...\n",
      "95     395      288\n",
      "96     307      253\n",
      "97     329      132\n",
      "98     168      195\n",
      "99     189      126\n",
      "\n",
      "[100 rows x 2 columns]\n"
     ]
    }
   ],
   "source": [
    "# JSON\n",
    "df = pd.read_json(\"ventas_df.json\")\n",
    "print(df)"
   ]
  },
  {
   "cell_type": "code",
   "execution_count": 55,
   "id": "494aba8d",
   "metadata": {},
   "outputs": [],
   "source": [
    "# Escribir\n",
    "df.to_csv(\"salida.csv\", index=False)\n",
    "#df.to_excel(\"salida.xlsx\", index=False)"
   ]
  },
  {
   "cell_type": "markdown",
   "id": "0d8460e4",
   "metadata": {},
   "source": [
    "### **Exploración inicial y metadatos**"
   ]
  },
  {
   "cell_type": "markdown",
   "id": "bddb5882",
   "metadata": {},
   "source": [
    "Al cargar datos, lo primero es explorar y describir el DataFrame. Esto permite tener un panorama rápido de la calidad y estructura de los datos leídos."
   ]
  },
  {
   "cell_type": "code",
   "execution_count": 56,
   "id": "6aa75633",
   "metadata": {},
   "outputs": [
    {
     "data": {
      "application/vnd.microsoft.datawrangler.viewer.v0+json": {
       "columns": [
        {
         "name": "index",
         "rawType": "int64",
         "type": "integer"
        },
        {
         "name": "ventas",
         "rawType": "int64",
         "type": "integer"
        },
        {
         "name": "precios",
         "rawType": "int64",
         "type": "integer"
        }
       ],
       "ref": "4c8183bc-d450-4231-9986-aeba6524d625",
       "rows": [
        [
         "0",
         "105",
         "282"
        ],
        [
         "1",
         "244",
         "127"
        ],
        [
         "2",
         "311",
         "265"
        ],
        [
         "3",
         "443",
         "102"
        ],
        [
         "4",
         "342",
         "208"
        ],
        [
         "5",
         "312",
         "246"
        ],
        [
         "6",
         "284",
         "218"
        ],
        [
         "7",
         "175",
         "140"
        ],
        [
         "8",
         "340",
         "213"
        ],
        [
         "9",
         "317",
         "250"
        ]
       ],
       "shape": {
        "columns": 2,
        "rows": 10
       }
      },
      "text/html": [
       "<div>\n",
       "<style scoped>\n",
       "    .dataframe tbody tr th:only-of-type {\n",
       "        vertical-align: middle;\n",
       "    }\n",
       "\n",
       "    .dataframe tbody tr th {\n",
       "        vertical-align: top;\n",
       "    }\n",
       "\n",
       "    .dataframe thead th {\n",
       "        text-align: right;\n",
       "    }\n",
       "</style>\n",
       "<table border=\"1\" class=\"dataframe\">\n",
       "  <thead>\n",
       "    <tr style=\"text-align: right;\">\n",
       "      <th></th>\n",
       "      <th>ventas</th>\n",
       "      <th>precios</th>\n",
       "    </tr>\n",
       "  </thead>\n",
       "  <tbody>\n",
       "    <tr>\n",
       "      <th>0</th>\n",
       "      <td>105</td>\n",
       "      <td>282</td>\n",
       "    </tr>\n",
       "    <tr>\n",
       "      <th>1</th>\n",
       "      <td>244</td>\n",
       "      <td>127</td>\n",
       "    </tr>\n",
       "    <tr>\n",
       "      <th>2</th>\n",
       "      <td>311</td>\n",
       "      <td>265</td>\n",
       "    </tr>\n",
       "    <tr>\n",
       "      <th>3</th>\n",
       "      <td>443</td>\n",
       "      <td>102</td>\n",
       "    </tr>\n",
       "    <tr>\n",
       "      <th>4</th>\n",
       "      <td>342</td>\n",
       "      <td>208</td>\n",
       "    </tr>\n",
       "    <tr>\n",
       "      <th>5</th>\n",
       "      <td>312</td>\n",
       "      <td>246</td>\n",
       "    </tr>\n",
       "    <tr>\n",
       "      <th>6</th>\n",
       "      <td>284</td>\n",
       "      <td>218</td>\n",
       "    </tr>\n",
       "    <tr>\n",
       "      <th>7</th>\n",
       "      <td>175</td>\n",
       "      <td>140</td>\n",
       "    </tr>\n",
       "    <tr>\n",
       "      <th>8</th>\n",
       "      <td>340</td>\n",
       "      <td>213</td>\n",
       "    </tr>\n",
       "    <tr>\n",
       "      <th>9</th>\n",
       "      <td>317</td>\n",
       "      <td>250</td>\n",
       "    </tr>\n",
       "  </tbody>\n",
       "</table>\n",
       "</div>"
      ],
      "text/plain": [
       "   ventas  precios\n",
       "0     105      282\n",
       "1     244      127\n",
       "2     311      265\n",
       "3     443      102\n",
       "4     342      208\n",
       "5     312      246\n",
       "6     284      218\n",
       "7     175      140\n",
       "8     340      213\n",
       "9     317      250"
      ]
     },
     "execution_count": 56,
     "metadata": {},
     "output_type": "execute_result"
    }
   ],
   "source": [
    "df.head(10)      # primeras n filas"
   ]
  },
  {
   "cell_type": "code",
   "execution_count": 57,
   "id": "de620b91",
   "metadata": {},
   "outputs": [
    {
     "data": {
      "application/vnd.microsoft.datawrangler.viewer.v0+json": {
       "columns": [
        {
         "name": "index",
         "rawType": "int64",
         "type": "integer"
        },
        {
         "name": "ventas",
         "rawType": "int64",
         "type": "integer"
        },
        {
         "name": "precios",
         "rawType": "int64",
         "type": "integer"
        }
       ],
       "ref": "87852c70-a88f-4165-933a-d9d47ff7a355",
       "rows": [
        [
         "90",
         "267",
         "147"
        ],
        [
         "91",
         "463",
         "126"
        ],
        [
         "92",
         "345",
         "132"
        ],
        [
         "93",
         "235",
         "204"
        ],
        [
         "94",
         "333",
         "209"
        ],
        [
         "95",
         "395",
         "288"
        ],
        [
         "96",
         "307",
         "253"
        ],
        [
         "97",
         "329",
         "132"
        ],
        [
         "98",
         "168",
         "195"
        ],
        [
         "99",
         "189",
         "126"
        ]
       ],
       "shape": {
        "columns": 2,
        "rows": 10
       }
      },
      "text/html": [
       "<div>\n",
       "<style scoped>\n",
       "    .dataframe tbody tr th:only-of-type {\n",
       "        vertical-align: middle;\n",
       "    }\n",
       "\n",
       "    .dataframe tbody tr th {\n",
       "        vertical-align: top;\n",
       "    }\n",
       "\n",
       "    .dataframe thead th {\n",
       "        text-align: right;\n",
       "    }\n",
       "</style>\n",
       "<table border=\"1\" class=\"dataframe\">\n",
       "  <thead>\n",
       "    <tr style=\"text-align: right;\">\n",
       "      <th></th>\n",
       "      <th>ventas</th>\n",
       "      <th>precios</th>\n",
       "    </tr>\n",
       "  </thead>\n",
       "  <tbody>\n",
       "    <tr>\n",
       "      <th>90</th>\n",
       "      <td>267</td>\n",
       "      <td>147</td>\n",
       "    </tr>\n",
       "    <tr>\n",
       "      <th>91</th>\n",
       "      <td>463</td>\n",
       "      <td>126</td>\n",
       "    </tr>\n",
       "    <tr>\n",
       "      <th>92</th>\n",
       "      <td>345</td>\n",
       "      <td>132</td>\n",
       "    </tr>\n",
       "    <tr>\n",
       "      <th>93</th>\n",
       "      <td>235</td>\n",
       "      <td>204</td>\n",
       "    </tr>\n",
       "    <tr>\n",
       "      <th>94</th>\n",
       "      <td>333</td>\n",
       "      <td>209</td>\n",
       "    </tr>\n",
       "    <tr>\n",
       "      <th>95</th>\n",
       "      <td>395</td>\n",
       "      <td>288</td>\n",
       "    </tr>\n",
       "    <tr>\n",
       "      <th>96</th>\n",
       "      <td>307</td>\n",
       "      <td>253</td>\n",
       "    </tr>\n",
       "    <tr>\n",
       "      <th>97</th>\n",
       "      <td>329</td>\n",
       "      <td>132</td>\n",
       "    </tr>\n",
       "    <tr>\n",
       "      <th>98</th>\n",
       "      <td>168</td>\n",
       "      <td>195</td>\n",
       "    </tr>\n",
       "    <tr>\n",
       "      <th>99</th>\n",
       "      <td>189</td>\n",
       "      <td>126</td>\n",
       "    </tr>\n",
       "  </tbody>\n",
       "</table>\n",
       "</div>"
      ],
      "text/plain": [
       "    ventas  precios\n",
       "90     267      147\n",
       "91     463      126\n",
       "92     345      132\n",
       "93     235      204\n",
       "94     333      209\n",
       "95     395      288\n",
       "96     307      253\n",
       "97     329      132\n",
       "98     168      195\n",
       "99     189      126"
      ]
     },
     "execution_count": 57,
     "metadata": {},
     "output_type": "execute_result"
    }
   ],
   "source": [
    "df.tail(10)      # últimas n filas"
   ]
  },
  {
   "cell_type": "code",
   "execution_count": 58,
   "id": "93d25cc4",
   "metadata": {},
   "outputs": [
    {
     "data": {
      "text/plain": [
       "(100, 2)"
      ]
     },
     "execution_count": 58,
     "metadata": {},
     "output_type": "execute_result"
    }
   ],
   "source": [
    "df.shape       # dimensiones (filas, columnas)"
   ]
  },
  {
   "cell_type": "code",
   "execution_count": 59,
   "id": "20421fec",
   "metadata": {},
   "outputs": [
    {
     "name": "stdout",
     "output_type": "stream",
     "text": [
      "<class 'pandas.core.frame.DataFrame'>\n",
      "RangeIndex: 100 entries, 0 to 99\n",
      "Data columns (total 2 columns):\n",
      " #   Column   Non-Null Count  Dtype\n",
      "---  ------   --------------  -----\n",
      " 0   ventas   100 non-null    int64\n",
      " 1   precios  100 non-null    int64\n",
      "dtypes: int64(2)\n",
      "memory usage: 1.7 KB\n"
     ]
    }
   ],
   "source": [
    "df.info()      # resumen de columnas, tipos y valores nulos"
   ]
  },
  {
   "cell_type": "code",
   "execution_count": 60,
   "id": "7d9f2ad6",
   "metadata": {},
   "outputs": [
    {
     "data": {
      "application/vnd.microsoft.datawrangler.viewer.v0+json": {
       "columns": [
        {
         "name": "index",
         "rawType": "object",
         "type": "string"
        },
        {
         "name": "ventas",
         "rawType": "float64",
         "type": "float"
        },
        {
         "name": "precios",
         "rawType": "float64",
         "type": "float"
        }
       ],
       "ref": "fd05ac35-9f65-4b11-9ee2-dd99e7259772",
       "rows": [
        [
         "count",
         "100.0",
         "100.0"
        ],
        [
         "mean",
         "298.9",
         "180.79"
        ],
        [
         "std",
         "108.55529708518385",
         "78.2345986392365"
        ],
        [
         "min",
         "102.0",
         "51.0"
        ],
        [
         "25%",
         "216.5",
         "117.0"
        ],
        [
         "50%",
         "312.0",
         "193.5"
        ],
        [
         "75%",
         "374.25",
         "253.5"
        ],
        [
         "max",
         "496.0",
         "299.0"
        ]
       ],
       "shape": {
        "columns": 2,
        "rows": 8
       }
      },
      "text/html": [
       "<div>\n",
       "<style scoped>\n",
       "    .dataframe tbody tr th:only-of-type {\n",
       "        vertical-align: middle;\n",
       "    }\n",
       "\n",
       "    .dataframe tbody tr th {\n",
       "        vertical-align: top;\n",
       "    }\n",
       "\n",
       "    .dataframe thead th {\n",
       "        text-align: right;\n",
       "    }\n",
       "</style>\n",
       "<table border=\"1\" class=\"dataframe\">\n",
       "  <thead>\n",
       "    <tr style=\"text-align: right;\">\n",
       "      <th></th>\n",
       "      <th>ventas</th>\n",
       "      <th>precios</th>\n",
       "    </tr>\n",
       "  </thead>\n",
       "  <tbody>\n",
       "    <tr>\n",
       "      <th>count</th>\n",
       "      <td>100.000000</td>\n",
       "      <td>100.000000</td>\n",
       "    </tr>\n",
       "    <tr>\n",
       "      <th>mean</th>\n",
       "      <td>298.900000</td>\n",
       "      <td>180.790000</td>\n",
       "    </tr>\n",
       "    <tr>\n",
       "      <th>std</th>\n",
       "      <td>108.555297</td>\n",
       "      <td>78.234599</td>\n",
       "    </tr>\n",
       "    <tr>\n",
       "      <th>min</th>\n",
       "      <td>102.000000</td>\n",
       "      <td>51.000000</td>\n",
       "    </tr>\n",
       "    <tr>\n",
       "      <th>25%</th>\n",
       "      <td>216.500000</td>\n",
       "      <td>117.000000</td>\n",
       "    </tr>\n",
       "    <tr>\n",
       "      <th>50%</th>\n",
       "      <td>312.000000</td>\n",
       "      <td>193.500000</td>\n",
       "    </tr>\n",
       "    <tr>\n",
       "      <th>75%</th>\n",
       "      <td>374.250000</td>\n",
       "      <td>253.500000</td>\n",
       "    </tr>\n",
       "    <tr>\n",
       "      <th>max</th>\n",
       "      <td>496.000000</td>\n",
       "      <td>299.000000</td>\n",
       "    </tr>\n",
       "  </tbody>\n",
       "</table>\n",
       "</div>"
      ],
      "text/plain": [
       "           ventas     precios\n",
       "count  100.000000  100.000000\n",
       "mean   298.900000  180.790000\n",
       "std    108.555297   78.234599\n",
       "min    102.000000   51.000000\n",
       "25%    216.500000  117.000000\n",
       "50%    312.000000  193.500000\n",
       "75%    374.250000  253.500000\n",
       "max    496.000000  299.000000"
      ]
     },
     "execution_count": 60,
     "metadata": {},
     "output_type": "execute_result"
    }
   ],
   "source": [
    "df.describe()  # estadísticas de columnas numéricas"
   ]
  },
  {
   "cell_type": "code",
   "execution_count": 61,
   "id": "23aec713",
   "metadata": {},
   "outputs": [
    {
     "data": {
      "text/plain": [
       "Index(['ventas', 'precios'], dtype='object')"
      ]
     },
     "execution_count": 61,
     "metadata": {},
     "output_type": "execute_result"
    }
   ],
   "source": [
    "df.columns     # nombres de columnas"
   ]
  },
  {
   "cell_type": "code",
   "execution_count": 62,
   "id": "d9a90b2e",
   "metadata": {},
   "outputs": [
    {
     "data": {
      "application/vnd.microsoft.datawrangler.viewer.v0+json": {
       "columns": [
        {
         "name": "index",
         "rawType": "object",
         "type": "string"
        },
        {
         "name": "0",
         "rawType": "object",
         "type": "unknown"
        }
       ],
       "ref": "ea27abc9-2bb0-4a9e-aa6b-4326f8986ebb",
       "rows": [
        [
         "ventas",
         "int64"
        ],
        [
         "precios",
         "int64"
        ]
       ],
       "shape": {
        "columns": 1,
        "rows": 2
       }
      },
      "text/plain": [
       "ventas     int64\n",
       "precios    int64\n",
       "dtype: object"
      ]
     },
     "execution_count": 62,
     "metadata": {},
     "output_type": "execute_result"
    }
   ],
   "source": [
    "df.dtypes      # tipos de datos de columnas"
   ]
  },
  {
   "cell_type": "markdown",
   "id": "fca2a7c0",
   "metadata": {},
   "source": [
    "### **Acceso a columnas y filas**"
   ]
  },
  {
   "cell_type": "markdown",
   "id": "40dc87a0",
   "metadata": {},
   "source": [
    " Nos permitirá extraer subconjuntos de datos para análisis puntual.  \n",
    "- **Columnas:** como atributos o usando corchetes.  \n",
    "- **Filas:** con `.loc` (por etiqueta) o `.iloc` (por posición)."
   ]
  },
  {
   "cell_type": "code",
   "execution_count": 63,
   "id": "19c5ed95",
   "metadata": {},
   "outputs": [
    {
     "data": {
      "application/vnd.microsoft.datawrangler.viewer.v0+json": {
       "columns": [
        {
         "name": "index",
         "rawType": "int64",
         "type": "integer"
        },
        {
         "name": "ventas",
         "rawType": "int64",
         "type": "integer"
        }
       ],
       "ref": "42676cf4-9fd9-4767-8921-a09165e73b22",
       "rows": [
        [
         "0",
         "105"
        ],
        [
         "1",
         "244"
        ],
        [
         "2",
         "311"
        ],
        [
         "3",
         "443"
        ],
        [
         "4",
         "342"
        ],
        [
         "5",
         "312"
        ],
        [
         "6",
         "284"
        ],
        [
         "7",
         "175"
        ],
        [
         "8",
         "340"
        ],
        [
         "9",
         "317"
        ],
        [
         "10",
         "158"
        ],
        [
         "11",
         "211"
        ],
        [
         "12",
         "234"
        ],
        [
         "13",
         "326"
        ],
        [
         "14",
         "371"
        ],
        [
         "15",
         "415"
        ],
        [
         "16",
         "299"
        ],
        [
         "17",
         "220"
        ],
        [
         "18",
         "404"
        ],
        [
         "19",
         "326"
        ],
        [
         "20",
         "488"
        ],
        [
         "21",
         "109"
        ],
        [
         "22",
         "367"
        ],
        [
         "23",
         "414"
        ],
        [
         "24",
         "349"
        ],
        [
         "25",
         "161"
        ],
        [
         "26",
         "254"
        ],
        [
         "27",
         "105"
        ],
        [
         "28",
         "359"
        ],
        [
         "29",
         "208"
        ],
        [
         "30",
         "248"
        ],
        [
         "31",
         "375"
        ],
        [
         "32",
         "105"
        ],
        [
         "33",
         "405"
        ],
        [
         "34",
         "409"
        ],
        [
         "35",
         "229"
        ],
        [
         "36",
         "318"
        ],
        [
         "37",
         "399"
        ],
        [
         "38",
         "181"
        ],
        [
         "39",
         "133"
        ],
        [
         "40",
         "383"
        ],
        [
         "41",
         "223"
        ],
        [
         "42",
         "302"
        ],
        [
         "43",
         "260"
        ],
        [
         "44",
         "286"
        ],
        [
         "45",
         "365"
        ],
        [
         "46",
         "376"
        ],
        [
         "47",
         "240"
        ],
        [
         "48",
         "357"
        ],
        [
         "49",
         "147"
        ]
       ],
       "shape": {
        "columns": 1,
        "rows": 100
       }
      },
      "text/plain": [
       "0     105\n",
       "1     244\n",
       "2     311\n",
       "3     443\n",
       "4     342\n",
       "     ... \n",
       "95    395\n",
       "96    307\n",
       "97    329\n",
       "98    168\n",
       "99    189\n",
       "Name: ventas, Length: 100, dtype: int64"
      ]
     },
     "execution_count": 63,
     "metadata": {},
     "output_type": "execute_result"
    }
   ],
   "source": [
    "df[\"ventas\"]        # columna\n"
   ]
  },
  {
   "cell_type": "code",
   "execution_count": 65,
   "id": "01ff40b5",
   "metadata": {},
   "outputs": [
    {
     "data": {
      "application/vnd.microsoft.datawrangler.viewer.v0+json": {
       "columns": [
        {
         "name": "index",
         "rawType": "int64",
         "type": "integer"
        },
        {
         "name": "precios",
         "rawType": "int64",
         "type": "integer"
        },
        {
         "name": "ventas",
         "rawType": "int64",
         "type": "integer"
        }
       ],
       "ref": "a5d22ac8-37df-4e76-a788-d3e3c1c11b24",
       "rows": [
        [
         "0",
         "282",
         "105"
        ],
        [
         "1",
         "127",
         "244"
        ],
        [
         "2",
         "265",
         "311"
        ],
        [
         "3",
         "102",
         "443"
        ],
        [
         "4",
         "208",
         "342"
        ],
        [
         "5",
         "246",
         "312"
        ],
        [
         "6",
         "218",
         "284"
        ],
        [
         "7",
         "140",
         "175"
        ],
        [
         "8",
         "213",
         "340"
        ],
        [
         "9",
         "250",
         "317"
        ],
        [
         "10",
         "265",
         "158"
        ],
        [
         "11",
         "290",
         "211"
        ],
        [
         "12",
         "167",
         "234"
        ],
        [
         "13",
         "294",
         "326"
        ],
        [
         "14",
         "240",
         "371"
        ],
        [
         "15",
         "205",
         "415"
        ],
        [
         "16",
         "244",
         "299"
        ],
        [
         "17",
         "102",
         "220"
        ],
        [
         "18",
         "67",
         "404"
        ],
        [
         "19",
         "289",
         "326"
        ],
        [
         "20",
         "137",
         "488"
        ],
        [
         "21",
         "105",
         "109"
        ],
        [
         "22",
         "60",
         "367"
        ],
        [
         "23",
         "79",
         "414"
        ],
        [
         "24",
         "168",
         "349"
        ],
        [
         "25",
         "256",
         "161"
        ],
        [
         "26",
         "267",
         "254"
        ],
        [
         "27",
         "80",
         "105"
        ],
        [
         "28",
         "131",
         "359"
        ],
        [
         "29",
         "96",
         "208"
        ],
        [
         "30",
         "163",
         "248"
        ],
        [
         "31",
         "66",
         "375"
        ],
        [
         "32",
         "208",
         "105"
        ],
        [
         "33",
         "299",
         "405"
        ],
        [
         "34",
         "134",
         "409"
        ],
        [
         "35",
         "85",
         "229"
        ],
        [
         "36",
         "270",
         "318"
        ],
        [
         "37",
         "58",
         "399"
        ],
        [
         "38",
         "87",
         "181"
        ],
        [
         "39",
         "214",
         "133"
        ],
        [
         "40",
         "296",
         "383"
        ],
        [
         "41",
         "75",
         "223"
        ],
        [
         "42",
         "122",
         "302"
        ],
        [
         "43",
         "204",
         "260"
        ],
        [
         "44",
         "277",
         "286"
        ],
        [
         "45",
         "184",
         "365"
        ],
        [
         "46",
         "280",
         "376"
        ],
        [
         "47",
         "54",
         "240"
        ],
        [
         "48",
         "119",
         "357"
        ],
        [
         "49",
         "139",
         "147"
        ]
       ],
       "shape": {
        "columns": 2,
        "rows": 100
       }
      },
      "text/html": [
       "<div>\n",
       "<style scoped>\n",
       "    .dataframe tbody tr th:only-of-type {\n",
       "        vertical-align: middle;\n",
       "    }\n",
       "\n",
       "    .dataframe tbody tr th {\n",
       "        vertical-align: top;\n",
       "    }\n",
       "\n",
       "    .dataframe thead th {\n",
       "        text-align: right;\n",
       "    }\n",
       "</style>\n",
       "<table border=\"1\" class=\"dataframe\">\n",
       "  <thead>\n",
       "    <tr style=\"text-align: right;\">\n",
       "      <th></th>\n",
       "      <th>precios</th>\n",
       "      <th>ventas</th>\n",
       "    </tr>\n",
       "  </thead>\n",
       "  <tbody>\n",
       "    <tr>\n",
       "      <th>0</th>\n",
       "      <td>282</td>\n",
       "      <td>105</td>\n",
       "    </tr>\n",
       "    <tr>\n",
       "      <th>1</th>\n",
       "      <td>127</td>\n",
       "      <td>244</td>\n",
       "    </tr>\n",
       "    <tr>\n",
       "      <th>2</th>\n",
       "      <td>265</td>\n",
       "      <td>311</td>\n",
       "    </tr>\n",
       "    <tr>\n",
       "      <th>3</th>\n",
       "      <td>102</td>\n",
       "      <td>443</td>\n",
       "    </tr>\n",
       "    <tr>\n",
       "      <th>4</th>\n",
       "      <td>208</td>\n",
       "      <td>342</td>\n",
       "    </tr>\n",
       "    <tr>\n",
       "      <th>...</th>\n",
       "      <td>...</td>\n",
       "      <td>...</td>\n",
       "    </tr>\n",
       "    <tr>\n",
       "      <th>95</th>\n",
       "      <td>288</td>\n",
       "      <td>395</td>\n",
       "    </tr>\n",
       "    <tr>\n",
       "      <th>96</th>\n",
       "      <td>253</td>\n",
       "      <td>307</td>\n",
       "    </tr>\n",
       "    <tr>\n",
       "      <th>97</th>\n",
       "      <td>132</td>\n",
       "      <td>329</td>\n",
       "    </tr>\n",
       "    <tr>\n",
       "      <th>98</th>\n",
       "      <td>195</td>\n",
       "      <td>168</td>\n",
       "    </tr>\n",
       "    <tr>\n",
       "      <th>99</th>\n",
       "      <td>126</td>\n",
       "      <td>189</td>\n",
       "    </tr>\n",
       "  </tbody>\n",
       "</table>\n",
       "<p>100 rows × 2 columns</p>\n",
       "</div>"
      ],
      "text/plain": [
       "    precios  ventas\n",
       "0       282     105\n",
       "1       127     244\n",
       "2       265     311\n",
       "3       102     443\n",
       "4       208     342\n",
       "..      ...     ...\n",
       "95      288     395\n",
       "96      253     307\n",
       "97      132     329\n",
       "98      195     168\n",
       "99      126     189\n",
       "\n",
       "[100 rows x 2 columns]"
      ]
     },
     "execution_count": 65,
     "metadata": {},
     "output_type": "execute_result"
    }
   ],
   "source": [
    "df[[\"precios\",\"ventas\"]]  # varias columnas\n"
   ]
  },
  {
   "cell_type": "code",
   "execution_count": 66,
   "id": "7d75afbc",
   "metadata": {},
   "outputs": [
    {
     "data": {
      "application/vnd.microsoft.datawrangler.viewer.v0+json": {
       "columns": [
        {
         "name": "index",
         "rawType": "object",
         "type": "string"
        },
        {
         "name": "0",
         "rawType": "int64",
         "type": "integer"
        }
       ],
       "ref": "6e312ba5-7d18-466d-a7dc-da756cc1064b",
       "rows": [
        [
         "ventas",
         "105"
        ],
        [
         "precios",
         "282"
        ]
       ],
       "shape": {
        "columns": 1,
        "rows": 2
       }
      },
      "text/plain": [
       "ventas     105\n",
       "precios    282\n",
       "Name: 0, dtype: int64"
      ]
     },
     "execution_count": 66,
     "metadata": {},
     "output_type": "execute_result"
    }
   ],
   "source": [
    "df.loc[0] # fila por etiqueta (en este caso, la primera fila de todas las columnas)"
   ]
  },
  {
   "cell_type": "code",
   "execution_count": 67,
   "id": "9ff062f5",
   "metadata": {},
   "outputs": [
    {
     "data": {
      "application/vnd.microsoft.datawrangler.viewer.v0+json": {
       "columns": [
        {
         "name": "index",
         "rawType": "object",
         "type": "string"
        },
        {
         "name": "0",
         "rawType": "int64",
         "type": "integer"
        }
       ],
       "ref": "82787792-652c-4aca-8781-6e84bb588729",
       "rows": [
        [
         "ventas",
         "105"
        ],
        [
         "precios",
         "282"
        ]
       ],
       "shape": {
        "columns": 1,
        "rows": 2
       }
      },
      "text/plain": [
       "ventas     105\n",
       "precios    282\n",
       "Name: 0, dtype: int64"
      ]
     },
     "execution_count": 67,
     "metadata": {},
     "output_type": "execute_result"
    }
   ],
   "source": [
    "df.iloc[0]          # fila por posición"
   ]
  },
  {
   "cell_type": "markdown",
   "id": "364fe3ea",
   "metadata": {},
   "source": [
    "### **Selección y filtrado**"
   ]
  },
  {
   "cell_type": "markdown",
   "id": "1096c969",
   "metadata": {},
   "source": [
    "Podemos aplicar condiciones lógicas para filtrar filas. Nos permite segmentar datos como si aplicáramos filtros en Excel o cláusulas `WHERE` en `SQL`."
   ]
  },
  {
   "cell_type": "code",
   "execution_count": 68,
   "id": "82f01296",
   "metadata": {},
   "outputs": [
    {
     "data": {
      "application/vnd.microsoft.datawrangler.viewer.v0+json": {
       "columns": [
        {
         "name": "index",
         "rawType": "int64",
         "type": "integer"
        },
        {
         "name": "ventas",
         "rawType": "int64",
         "type": "integer"
        },
        {
         "name": "precios",
         "rawType": "int64",
         "type": "integer"
        }
       ],
       "ref": "088f3226-9bd5-42ef-8487-e336730831c0",
       "rows": [
        [
         "2",
         "311",
         "265"
        ],
        [
         "3",
         "443",
         "102"
        ],
        [
         "4",
         "342",
         "208"
        ],
        [
         "5",
         "312",
         "246"
        ],
        [
         "8",
         "340",
         "213"
        ],
        [
         "9",
         "317",
         "250"
        ],
        [
         "13",
         "326",
         "294"
        ],
        [
         "14",
         "371",
         "240"
        ],
        [
         "15",
         "415",
         "205"
        ],
        [
         "18",
         "404",
         "67"
        ],
        [
         "19",
         "326",
         "289"
        ],
        [
         "20",
         "488",
         "137"
        ],
        [
         "22",
         "367",
         "60"
        ],
        [
         "23",
         "414",
         "79"
        ],
        [
         "24",
         "349",
         "168"
        ],
        [
         "28",
         "359",
         "131"
        ],
        [
         "31",
         "375",
         "66"
        ],
        [
         "33",
         "405",
         "299"
        ],
        [
         "34",
         "409",
         "134"
        ],
        [
         "36",
         "318",
         "270"
        ],
        [
         "37",
         "399",
         "58"
        ],
        [
         "40",
         "383",
         "296"
        ],
        [
         "42",
         "302",
         "122"
        ],
        [
         "45",
         "365",
         "184"
        ],
        [
         "46",
         "376",
         "280"
        ],
        [
         "48",
         "357",
         "119"
        ],
        [
         "53",
         "460",
         "51"
        ],
        [
         "54",
         "312",
         "259"
        ],
        [
         "55",
         "441",
         "244"
        ],
        [
         "56",
         "328",
         "126"
        ],
        [
         "57",
         "490",
         "58"
        ],
        [
         "60",
         "334",
         "190"
        ],
        [
         "61",
         "426",
         "135"
        ],
        [
         "62",
         "490",
         "63"
        ],
        [
         "63",
         "314",
         "216"
        ],
        [
         "66",
         "490",
         "265"
        ],
        [
         "70",
         "358",
         "240"
        ],
        [
         "71",
         "399",
         "133"
        ],
        [
         "72",
         "374",
         "202"
        ],
        [
         "73",
         "348",
         "79"
        ],
        [
         "77",
         "325",
         "288"
        ],
        [
         "79",
         "476",
         "63"
        ],
        [
         "80",
         "374",
         "291"
        ],
        [
         "81",
         "468",
         "255"
        ],
        [
         "84",
         "496",
         "208"
        ],
        [
         "85",
         "452",
         "292"
        ],
        [
         "88",
         "339",
         "295"
        ],
        [
         "89",
         "433",
         "83"
        ],
        [
         "91",
         "463",
         "126"
        ],
        [
         "92",
         "345",
         "132"
        ]
       ],
       "shape": {
        "columns": 2,
        "rows": 54
       }
      },
      "text/html": [
       "<div>\n",
       "<style scoped>\n",
       "    .dataframe tbody tr th:only-of-type {\n",
       "        vertical-align: middle;\n",
       "    }\n",
       "\n",
       "    .dataframe tbody tr th {\n",
       "        vertical-align: top;\n",
       "    }\n",
       "\n",
       "    .dataframe thead th {\n",
       "        text-align: right;\n",
       "    }\n",
       "</style>\n",
       "<table border=\"1\" class=\"dataframe\">\n",
       "  <thead>\n",
       "    <tr style=\"text-align: right;\">\n",
       "      <th></th>\n",
       "      <th>ventas</th>\n",
       "      <th>precios</th>\n",
       "    </tr>\n",
       "  </thead>\n",
       "  <tbody>\n",
       "    <tr>\n",
       "      <th>2</th>\n",
       "      <td>311</td>\n",
       "      <td>265</td>\n",
       "    </tr>\n",
       "    <tr>\n",
       "      <th>3</th>\n",
       "      <td>443</td>\n",
       "      <td>102</td>\n",
       "    </tr>\n",
       "    <tr>\n",
       "      <th>4</th>\n",
       "      <td>342</td>\n",
       "      <td>208</td>\n",
       "    </tr>\n",
       "    <tr>\n",
       "      <th>5</th>\n",
       "      <td>312</td>\n",
       "      <td>246</td>\n",
       "    </tr>\n",
       "    <tr>\n",
       "      <th>8</th>\n",
       "      <td>340</td>\n",
       "      <td>213</td>\n",
       "    </tr>\n",
       "    <tr>\n",
       "      <th>9</th>\n",
       "      <td>317</td>\n",
       "      <td>250</td>\n",
       "    </tr>\n",
       "    <tr>\n",
       "      <th>13</th>\n",
       "      <td>326</td>\n",
       "      <td>294</td>\n",
       "    </tr>\n",
       "    <tr>\n",
       "      <th>14</th>\n",
       "      <td>371</td>\n",
       "      <td>240</td>\n",
       "    </tr>\n",
       "    <tr>\n",
       "      <th>15</th>\n",
       "      <td>415</td>\n",
       "      <td>205</td>\n",
       "    </tr>\n",
       "    <tr>\n",
       "      <th>18</th>\n",
       "      <td>404</td>\n",
       "      <td>67</td>\n",
       "    </tr>\n",
       "    <tr>\n",
       "      <th>19</th>\n",
       "      <td>326</td>\n",
       "      <td>289</td>\n",
       "    </tr>\n",
       "    <tr>\n",
       "      <th>20</th>\n",
       "      <td>488</td>\n",
       "      <td>137</td>\n",
       "    </tr>\n",
       "    <tr>\n",
       "      <th>22</th>\n",
       "      <td>367</td>\n",
       "      <td>60</td>\n",
       "    </tr>\n",
       "    <tr>\n",
       "      <th>23</th>\n",
       "      <td>414</td>\n",
       "      <td>79</td>\n",
       "    </tr>\n",
       "    <tr>\n",
       "      <th>24</th>\n",
       "      <td>349</td>\n",
       "      <td>168</td>\n",
       "    </tr>\n",
       "    <tr>\n",
       "      <th>28</th>\n",
       "      <td>359</td>\n",
       "      <td>131</td>\n",
       "    </tr>\n",
       "    <tr>\n",
       "      <th>31</th>\n",
       "      <td>375</td>\n",
       "      <td>66</td>\n",
       "    </tr>\n",
       "    <tr>\n",
       "      <th>33</th>\n",
       "      <td>405</td>\n",
       "      <td>299</td>\n",
       "    </tr>\n",
       "    <tr>\n",
       "      <th>34</th>\n",
       "      <td>409</td>\n",
       "      <td>134</td>\n",
       "    </tr>\n",
       "    <tr>\n",
       "      <th>36</th>\n",
       "      <td>318</td>\n",
       "      <td>270</td>\n",
       "    </tr>\n",
       "    <tr>\n",
       "      <th>37</th>\n",
       "      <td>399</td>\n",
       "      <td>58</td>\n",
       "    </tr>\n",
       "    <tr>\n",
       "      <th>40</th>\n",
       "      <td>383</td>\n",
       "      <td>296</td>\n",
       "    </tr>\n",
       "    <tr>\n",
       "      <th>42</th>\n",
       "      <td>302</td>\n",
       "      <td>122</td>\n",
       "    </tr>\n",
       "    <tr>\n",
       "      <th>45</th>\n",
       "      <td>365</td>\n",
       "      <td>184</td>\n",
       "    </tr>\n",
       "    <tr>\n",
       "      <th>46</th>\n",
       "      <td>376</td>\n",
       "      <td>280</td>\n",
       "    </tr>\n",
       "    <tr>\n",
       "      <th>48</th>\n",
       "      <td>357</td>\n",
       "      <td>119</td>\n",
       "    </tr>\n",
       "    <tr>\n",
       "      <th>53</th>\n",
       "      <td>460</td>\n",
       "      <td>51</td>\n",
       "    </tr>\n",
       "    <tr>\n",
       "      <th>54</th>\n",
       "      <td>312</td>\n",
       "      <td>259</td>\n",
       "    </tr>\n",
       "    <tr>\n",
       "      <th>55</th>\n",
       "      <td>441</td>\n",
       "      <td>244</td>\n",
       "    </tr>\n",
       "    <tr>\n",
       "      <th>56</th>\n",
       "      <td>328</td>\n",
       "      <td>126</td>\n",
       "    </tr>\n",
       "    <tr>\n",
       "      <th>57</th>\n",
       "      <td>490</td>\n",
       "      <td>58</td>\n",
       "    </tr>\n",
       "    <tr>\n",
       "      <th>60</th>\n",
       "      <td>334</td>\n",
       "      <td>190</td>\n",
       "    </tr>\n",
       "    <tr>\n",
       "      <th>61</th>\n",
       "      <td>426</td>\n",
       "      <td>135</td>\n",
       "    </tr>\n",
       "    <tr>\n",
       "      <th>62</th>\n",
       "      <td>490</td>\n",
       "      <td>63</td>\n",
       "    </tr>\n",
       "    <tr>\n",
       "      <th>63</th>\n",
       "      <td>314</td>\n",
       "      <td>216</td>\n",
       "    </tr>\n",
       "    <tr>\n",
       "      <th>66</th>\n",
       "      <td>490</td>\n",
       "      <td>265</td>\n",
       "    </tr>\n",
       "    <tr>\n",
       "      <th>70</th>\n",
       "      <td>358</td>\n",
       "      <td>240</td>\n",
       "    </tr>\n",
       "    <tr>\n",
       "      <th>71</th>\n",
       "      <td>399</td>\n",
       "      <td>133</td>\n",
       "    </tr>\n",
       "    <tr>\n",
       "      <th>72</th>\n",
       "      <td>374</td>\n",
       "      <td>202</td>\n",
       "    </tr>\n",
       "    <tr>\n",
       "      <th>73</th>\n",
       "      <td>348</td>\n",
       "      <td>79</td>\n",
       "    </tr>\n",
       "    <tr>\n",
       "      <th>77</th>\n",
       "      <td>325</td>\n",
       "      <td>288</td>\n",
       "    </tr>\n",
       "    <tr>\n",
       "      <th>79</th>\n",
       "      <td>476</td>\n",
       "      <td>63</td>\n",
       "    </tr>\n",
       "    <tr>\n",
       "      <th>80</th>\n",
       "      <td>374</td>\n",
       "      <td>291</td>\n",
       "    </tr>\n",
       "    <tr>\n",
       "      <th>81</th>\n",
       "      <td>468</td>\n",
       "      <td>255</td>\n",
       "    </tr>\n",
       "    <tr>\n",
       "      <th>84</th>\n",
       "      <td>496</td>\n",
       "      <td>208</td>\n",
       "    </tr>\n",
       "    <tr>\n",
       "      <th>85</th>\n",
       "      <td>452</td>\n",
       "      <td>292</td>\n",
       "    </tr>\n",
       "    <tr>\n",
       "      <th>88</th>\n",
       "      <td>339</td>\n",
       "      <td>295</td>\n",
       "    </tr>\n",
       "    <tr>\n",
       "      <th>89</th>\n",
       "      <td>433</td>\n",
       "      <td>83</td>\n",
       "    </tr>\n",
       "    <tr>\n",
       "      <th>91</th>\n",
       "      <td>463</td>\n",
       "      <td>126</td>\n",
       "    </tr>\n",
       "    <tr>\n",
       "      <th>92</th>\n",
       "      <td>345</td>\n",
       "      <td>132</td>\n",
       "    </tr>\n",
       "    <tr>\n",
       "      <th>94</th>\n",
       "      <td>333</td>\n",
       "      <td>209</td>\n",
       "    </tr>\n",
       "    <tr>\n",
       "      <th>95</th>\n",
       "      <td>395</td>\n",
       "      <td>288</td>\n",
       "    </tr>\n",
       "    <tr>\n",
       "      <th>96</th>\n",
       "      <td>307</td>\n",
       "      <td>253</td>\n",
       "    </tr>\n",
       "    <tr>\n",
       "      <th>97</th>\n",
       "      <td>329</td>\n",
       "      <td>132</td>\n",
       "    </tr>\n",
       "  </tbody>\n",
       "</table>\n",
       "</div>"
      ],
      "text/plain": [
       "    ventas  precios\n",
       "2      311      265\n",
       "3      443      102\n",
       "4      342      208\n",
       "5      312      246\n",
       "8      340      213\n",
       "9      317      250\n",
       "13     326      294\n",
       "14     371      240\n",
       "15     415      205\n",
       "18     404       67\n",
       "19     326      289\n",
       "20     488      137\n",
       "22     367       60\n",
       "23     414       79\n",
       "24     349      168\n",
       "28     359      131\n",
       "31     375       66\n",
       "33     405      299\n",
       "34     409      134\n",
       "36     318      270\n",
       "37     399       58\n",
       "40     383      296\n",
       "42     302      122\n",
       "45     365      184\n",
       "46     376      280\n",
       "48     357      119\n",
       "53     460       51\n",
       "54     312      259\n",
       "55     441      244\n",
       "56     328      126\n",
       "57     490       58\n",
       "60     334      190\n",
       "61     426      135\n",
       "62     490       63\n",
       "63     314      216\n",
       "66     490      265\n",
       "70     358      240\n",
       "71     399      133\n",
       "72     374      202\n",
       "73     348       79\n",
       "77     325      288\n",
       "79     476       63\n",
       "80     374      291\n",
       "81     468      255\n",
       "84     496      208\n",
       "85     452      292\n",
       "88     339      295\n",
       "89     433       83\n",
       "91     463      126\n",
       "92     345      132\n",
       "94     333      209\n",
       "95     395      288\n",
       "96     307      253\n",
       "97     329      132"
      ]
     },
     "execution_count": 68,
     "metadata": {},
     "output_type": "execute_result"
    }
   ],
   "source": [
    "df[df[\"ventas\"] > 300]"
   ]
  },
  {
   "cell_type": "code",
   "execution_count": 69,
   "id": "d9788535",
   "metadata": {},
   "outputs": [
    {
     "data": {
      "application/vnd.microsoft.datawrangler.viewer.v0+json": {
       "columns": [
        {
         "name": "index",
         "rawType": "int64",
         "type": "integer"
        },
        {
         "name": "ventas",
         "rawType": "int64",
         "type": "integer"
        },
        {
         "name": "precios",
         "rawType": "int64",
         "type": "integer"
        }
       ],
       "ref": "7b32a4aa-402b-4d9a-a673-e7d2b4bd29cc",
       "rows": [
        [
         "18",
         "404",
         "67"
        ],
        [
         "23",
         "414",
         "79"
        ],
        [
         "53",
         "460",
         "51"
        ],
        [
         "57",
         "490",
         "58"
        ],
        [
         "62",
         "490",
         "63"
        ],
        [
         "79",
         "476",
         "63"
        ],
        [
         "89",
         "433",
         "83"
        ]
       ],
       "shape": {
        "columns": 2,
        "rows": 7
       }
      },
      "text/html": [
       "<div>\n",
       "<style scoped>\n",
       "    .dataframe tbody tr th:only-of-type {\n",
       "        vertical-align: middle;\n",
       "    }\n",
       "\n",
       "    .dataframe tbody tr th {\n",
       "        vertical-align: top;\n",
       "    }\n",
       "\n",
       "    .dataframe thead th {\n",
       "        text-align: right;\n",
       "    }\n",
       "</style>\n",
       "<table border=\"1\" class=\"dataframe\">\n",
       "  <thead>\n",
       "    <tr style=\"text-align: right;\">\n",
       "      <th></th>\n",
       "      <th>ventas</th>\n",
       "      <th>precios</th>\n",
       "    </tr>\n",
       "  </thead>\n",
       "  <tbody>\n",
       "    <tr>\n",
       "      <th>18</th>\n",
       "      <td>404</td>\n",
       "      <td>67</td>\n",
       "    </tr>\n",
       "    <tr>\n",
       "      <th>23</th>\n",
       "      <td>414</td>\n",
       "      <td>79</td>\n",
       "    </tr>\n",
       "    <tr>\n",
       "      <th>53</th>\n",
       "      <td>460</td>\n",
       "      <td>51</td>\n",
       "    </tr>\n",
       "    <tr>\n",
       "      <th>57</th>\n",
       "      <td>490</td>\n",
       "      <td>58</td>\n",
       "    </tr>\n",
       "    <tr>\n",
       "      <th>62</th>\n",
       "      <td>490</td>\n",
       "      <td>63</td>\n",
       "    </tr>\n",
       "    <tr>\n",
       "      <th>79</th>\n",
       "      <td>476</td>\n",
       "      <td>63</td>\n",
       "    </tr>\n",
       "    <tr>\n",
       "      <th>89</th>\n",
       "      <td>433</td>\n",
       "      <td>83</td>\n",
       "    </tr>\n",
       "  </tbody>\n",
       "</table>\n",
       "</div>"
      ],
      "text/plain": [
       "    ventas  precios\n",
       "18     404       67\n",
       "23     414       79\n",
       "53     460       51\n",
       "57     490       58\n",
       "62     490       63\n",
       "79     476       63\n",
       "89     433       83"
      ]
     },
     "execution_count": 69,
     "metadata": {},
     "output_type": "execute_result"
    }
   ],
   "source": [
    "df[(df[\"ventas\"] > 400) & (df[\"precios\"] < 100)]"
   ]
  },
  {
   "cell_type": "markdown",
   "id": "b7eb2cc9",
   "metadata": {},
   "source": [
    "### **Agregación y estadísticas**"
   ]
  },
  {
   "cell_type": "markdown",
   "id": "d82a0a08",
   "metadata": {},
   "source": [
    "Los DataFrames permiten resumir la información fácilmente. Calcular KPIs (ventas totales, promedio de precios, etc.)."
   ]
  },
  {
   "cell_type": "code",
   "execution_count": 70,
   "id": "fe126c37",
   "metadata": {},
   "outputs": [
    {
     "data": {
      "text/plain": [
       "np.int64(29890)"
      ]
     },
     "execution_count": 70,
     "metadata": {},
     "output_type": "execute_result"
    }
   ],
   "source": [
    "df[\"ventas\"].sum()       # suma total"
   ]
  },
  {
   "cell_type": "code",
   "execution_count": 71,
   "id": "837f7d9e",
   "metadata": {},
   "outputs": [
    {
     "data": {
      "application/vnd.microsoft.datawrangler.viewer.v0+json": {
       "columns": [
        {
         "name": "index",
         "rawType": "object",
         "type": "string"
        },
        {
         "name": "0",
         "rawType": "float64",
         "type": "float"
        }
       ],
       "ref": "d33bf797-defe-42e1-95b6-4479ff8c93ee",
       "rows": [
        [
         "ventas",
         "298.9"
        ],
        [
         "precios",
         "180.79"
        ]
       ],
       "shape": {
        "columns": 1,
        "rows": 2
       }
      },
      "text/plain": [
       "ventas     298.90\n",
       "precios    180.79\n",
       "dtype: float64"
      ]
     },
     "execution_count": 71,
     "metadata": {},
     "output_type": "execute_result"
    }
   ],
   "source": [
    "df.mean(numeric_only=True)   # promedio de columnas numéricas"
   ]
  },
  {
   "cell_type": "code",
   "execution_count": 73,
   "id": "aba8d641",
   "metadata": {},
   "outputs": [
    {
     "data": {
      "application/vnd.microsoft.datawrangler.viewer.v0+json": {
       "columns": [
        {
         "name": "index",
         "rawType": "object",
         "type": "string"
        },
        {
         "name": "0",
         "rawType": "float64",
         "type": "float"
        }
       ],
       "ref": "68277c92-f7e3-4d32-bf4b-820275686bb5",
       "rows": [
        [
         "ventas",
         "29890.0"
        ],
        [
         "precios",
         "180.79"
        ]
       ],
       "shape": {
        "columns": 1,
        "rows": 2
       }
      },
      "text/plain": [
       "ventas     29890.00\n",
       "precios      180.79\n",
       "dtype: float64"
      ]
     },
     "execution_count": 73,
     "metadata": {},
     "output_type": "execute_result"
    }
   ],
   "source": [
    "df.agg({\"ventas\":\"sum\", \"precios\":\"mean\"})  # múltiples métricas"
   ]
  },
  {
   "cell_type": "markdown",
   "id": "be1c20d0",
   "metadata": {},
   "source": [
    "### **Transformación de columnas**"
   ]
  },
  {
   "cell_type": "markdown",
   "id": "74eb09b0",
   "metadata": {},
   "source": [
    "Podemos crear o modificar columnas a partir de operaciones. Útil para generar nuevas variables de negocio (ingresos, margen, descuento)."
   ]
  },
  {
   "cell_type": "code",
   "execution_count": 76,
   "id": "9d0069e0",
   "metadata": {},
   "outputs": [
    {
     "name": "stdout",
     "output_type": "stream",
     "text": [
      "    ingresos\n",
      "0      29610\n",
      "1      30988\n",
      "2      82415\n",
      "3      45186\n",
      "4      71136\n",
      "..       ...\n",
      "95    113760\n",
      "96     77671\n",
      "97     43428\n",
      "98     32760\n",
      "99     23814\n",
      "\n",
      "[100 rows x 1 columns]\n"
     ]
    }
   ],
   "source": [
    "df[\"ingresos\"] = df[\"ventas\"] * df[\"precios\"]\n",
    "print(df[[\"ingresos\"]])"
   ]
  },
  {
   "cell_type": "markdown",
   "id": "93925693",
   "metadata": {},
   "source": [
    "### **Manejo de valores faltantes:**"
   ]
  },
  {
   "cell_type": "markdown",
   "id": "bb2e011a",
   "metadata": {},
   "source": [
    " Al igual que en Series, los DataFrames ofrecen herramientas para detectar y tratar valores nulos. Nos permite preparar conjuntos de datos (datasets) reales donde suelen existir datos incompletos."
   ]
  },
  {
   "cell_type": "code",
   "execution_count": 77,
   "id": "9c4460cf",
   "metadata": {},
   "outputs": [
    {
     "data": {
      "application/vnd.microsoft.datawrangler.viewer.v0+json": {
       "columns": [
        {
         "name": "index",
         "rawType": "int64",
         "type": "integer"
        },
        {
         "name": "ventas",
         "rawType": "bool",
         "type": "boolean"
        },
        {
         "name": "precios",
         "rawType": "bool",
         "type": "boolean"
        },
        {
         "name": "ingresos",
         "rawType": "bool",
         "type": "boolean"
        }
       ],
       "ref": "a8a6e598-fd3a-4cfc-aed0-38ea58d58967",
       "rows": [
        [
         "0",
         "False",
         "False",
         "False"
        ],
        [
         "1",
         "False",
         "False",
         "False"
        ],
        [
         "2",
         "False",
         "False",
         "False"
        ],
        [
         "3",
         "False",
         "False",
         "False"
        ],
        [
         "4",
         "False",
         "False",
         "False"
        ],
        [
         "5",
         "False",
         "False",
         "False"
        ],
        [
         "6",
         "False",
         "False",
         "False"
        ],
        [
         "7",
         "False",
         "False",
         "False"
        ],
        [
         "8",
         "False",
         "False",
         "False"
        ],
        [
         "9",
         "False",
         "False",
         "False"
        ],
        [
         "10",
         "False",
         "False",
         "False"
        ],
        [
         "11",
         "False",
         "False",
         "False"
        ],
        [
         "12",
         "False",
         "False",
         "False"
        ],
        [
         "13",
         "False",
         "False",
         "False"
        ],
        [
         "14",
         "False",
         "False",
         "False"
        ],
        [
         "15",
         "False",
         "False",
         "False"
        ],
        [
         "16",
         "False",
         "False",
         "False"
        ],
        [
         "17",
         "False",
         "False",
         "False"
        ],
        [
         "18",
         "False",
         "False",
         "False"
        ],
        [
         "19",
         "False",
         "False",
         "False"
        ],
        [
         "20",
         "False",
         "False",
         "False"
        ],
        [
         "21",
         "False",
         "False",
         "False"
        ],
        [
         "22",
         "False",
         "False",
         "False"
        ],
        [
         "23",
         "False",
         "False",
         "False"
        ],
        [
         "24",
         "False",
         "False",
         "False"
        ],
        [
         "25",
         "False",
         "False",
         "False"
        ],
        [
         "26",
         "False",
         "False",
         "False"
        ],
        [
         "27",
         "False",
         "False",
         "False"
        ],
        [
         "28",
         "False",
         "False",
         "False"
        ],
        [
         "29",
         "False",
         "False",
         "False"
        ],
        [
         "30",
         "False",
         "False",
         "False"
        ],
        [
         "31",
         "False",
         "False",
         "False"
        ],
        [
         "32",
         "False",
         "False",
         "False"
        ],
        [
         "33",
         "False",
         "False",
         "False"
        ],
        [
         "34",
         "False",
         "False",
         "False"
        ],
        [
         "35",
         "False",
         "False",
         "False"
        ],
        [
         "36",
         "False",
         "False",
         "False"
        ],
        [
         "37",
         "False",
         "False",
         "False"
        ],
        [
         "38",
         "False",
         "False",
         "False"
        ],
        [
         "39",
         "False",
         "False",
         "False"
        ],
        [
         "40",
         "False",
         "False",
         "False"
        ],
        [
         "41",
         "False",
         "False",
         "False"
        ],
        [
         "42",
         "False",
         "False",
         "False"
        ],
        [
         "43",
         "False",
         "False",
         "False"
        ],
        [
         "44",
         "False",
         "False",
         "False"
        ],
        [
         "45",
         "False",
         "False",
         "False"
        ],
        [
         "46",
         "False",
         "False",
         "False"
        ],
        [
         "47",
         "False",
         "False",
         "False"
        ],
        [
         "48",
         "False",
         "False",
         "False"
        ],
        [
         "49",
         "False",
         "False",
         "False"
        ]
       ],
       "shape": {
        "columns": 3,
        "rows": 100
       }
      },
      "text/html": [
       "<div>\n",
       "<style scoped>\n",
       "    .dataframe tbody tr th:only-of-type {\n",
       "        vertical-align: middle;\n",
       "    }\n",
       "\n",
       "    .dataframe tbody tr th {\n",
       "        vertical-align: top;\n",
       "    }\n",
       "\n",
       "    .dataframe thead th {\n",
       "        text-align: right;\n",
       "    }\n",
       "</style>\n",
       "<table border=\"1\" class=\"dataframe\">\n",
       "  <thead>\n",
       "    <tr style=\"text-align: right;\">\n",
       "      <th></th>\n",
       "      <th>ventas</th>\n",
       "      <th>precios</th>\n",
       "      <th>ingresos</th>\n",
       "    </tr>\n",
       "  </thead>\n",
       "  <tbody>\n",
       "    <tr>\n",
       "      <th>0</th>\n",
       "      <td>False</td>\n",
       "      <td>False</td>\n",
       "      <td>False</td>\n",
       "    </tr>\n",
       "    <tr>\n",
       "      <th>1</th>\n",
       "      <td>False</td>\n",
       "      <td>False</td>\n",
       "      <td>False</td>\n",
       "    </tr>\n",
       "    <tr>\n",
       "      <th>2</th>\n",
       "      <td>False</td>\n",
       "      <td>False</td>\n",
       "      <td>False</td>\n",
       "    </tr>\n",
       "    <tr>\n",
       "      <th>3</th>\n",
       "      <td>False</td>\n",
       "      <td>False</td>\n",
       "      <td>False</td>\n",
       "    </tr>\n",
       "    <tr>\n",
       "      <th>4</th>\n",
       "      <td>False</td>\n",
       "      <td>False</td>\n",
       "      <td>False</td>\n",
       "    </tr>\n",
       "    <tr>\n",
       "      <th>...</th>\n",
       "      <td>...</td>\n",
       "      <td>...</td>\n",
       "      <td>...</td>\n",
       "    </tr>\n",
       "    <tr>\n",
       "      <th>95</th>\n",
       "      <td>False</td>\n",
       "      <td>False</td>\n",
       "      <td>False</td>\n",
       "    </tr>\n",
       "    <tr>\n",
       "      <th>96</th>\n",
       "      <td>False</td>\n",
       "      <td>False</td>\n",
       "      <td>False</td>\n",
       "    </tr>\n",
       "    <tr>\n",
       "      <th>97</th>\n",
       "      <td>False</td>\n",
       "      <td>False</td>\n",
       "      <td>False</td>\n",
       "    </tr>\n",
       "    <tr>\n",
       "      <th>98</th>\n",
       "      <td>False</td>\n",
       "      <td>False</td>\n",
       "      <td>False</td>\n",
       "    </tr>\n",
       "    <tr>\n",
       "      <th>99</th>\n",
       "      <td>False</td>\n",
       "      <td>False</td>\n",
       "      <td>False</td>\n",
       "    </tr>\n",
       "  </tbody>\n",
       "</table>\n",
       "<p>100 rows × 3 columns</p>\n",
       "</div>"
      ],
      "text/plain": [
       "    ventas  precios  ingresos\n",
       "0    False    False     False\n",
       "1    False    False     False\n",
       "2    False    False     False\n",
       "3    False    False     False\n",
       "4    False    False     False\n",
       "..     ...      ...       ...\n",
       "95   False    False     False\n",
       "96   False    False     False\n",
       "97   False    False     False\n",
       "98   False    False     False\n",
       "99   False    False     False\n",
       "\n",
       "[100 rows x 3 columns]"
      ]
     },
     "execution_count": 77,
     "metadata": {},
     "output_type": "execute_result"
    }
   ],
   "source": [
    "df.isna()           # detecta valores nulos"
   ]
  },
  {
   "cell_type": "code",
   "execution_count": 78,
   "id": "9b424072",
   "metadata": {},
   "outputs": [
    {
     "data": {
      "application/vnd.microsoft.datawrangler.viewer.v0+json": {
       "columns": [
        {
         "name": "index",
         "rawType": "int64",
         "type": "integer"
        },
        {
         "name": "ventas",
         "rawType": "int64",
         "type": "integer"
        },
        {
         "name": "precios",
         "rawType": "int64",
         "type": "integer"
        },
        {
         "name": "ingresos",
         "rawType": "int64",
         "type": "integer"
        }
       ],
       "ref": "55dd1b13-9190-474d-8a0f-3ab9c5d94f1b",
       "rows": [
        [
         "0",
         "105",
         "282",
         "29610"
        ],
        [
         "1",
         "244",
         "127",
         "30988"
        ],
        [
         "2",
         "311",
         "265",
         "82415"
        ],
        [
         "3",
         "443",
         "102",
         "45186"
        ],
        [
         "4",
         "342",
         "208",
         "71136"
        ],
        [
         "5",
         "312",
         "246",
         "76752"
        ],
        [
         "6",
         "284",
         "218",
         "61912"
        ],
        [
         "7",
         "175",
         "140",
         "24500"
        ],
        [
         "8",
         "340",
         "213",
         "72420"
        ],
        [
         "9",
         "317",
         "250",
         "79250"
        ],
        [
         "10",
         "158",
         "265",
         "41870"
        ],
        [
         "11",
         "211",
         "290",
         "61190"
        ],
        [
         "12",
         "234",
         "167",
         "39078"
        ],
        [
         "13",
         "326",
         "294",
         "95844"
        ],
        [
         "14",
         "371",
         "240",
         "89040"
        ],
        [
         "15",
         "415",
         "205",
         "85075"
        ],
        [
         "16",
         "299",
         "244",
         "72956"
        ],
        [
         "17",
         "220",
         "102",
         "22440"
        ],
        [
         "18",
         "404",
         "67",
         "27068"
        ],
        [
         "19",
         "326",
         "289",
         "94214"
        ],
        [
         "20",
         "488",
         "137",
         "66856"
        ],
        [
         "21",
         "109",
         "105",
         "11445"
        ],
        [
         "22",
         "367",
         "60",
         "22020"
        ],
        [
         "23",
         "414",
         "79",
         "32706"
        ],
        [
         "24",
         "349",
         "168",
         "58632"
        ],
        [
         "25",
         "161",
         "256",
         "41216"
        ],
        [
         "26",
         "254",
         "267",
         "67818"
        ],
        [
         "27",
         "105",
         "80",
         "8400"
        ],
        [
         "28",
         "359",
         "131",
         "47029"
        ],
        [
         "29",
         "208",
         "96",
         "19968"
        ],
        [
         "30",
         "248",
         "163",
         "40424"
        ],
        [
         "31",
         "375",
         "66",
         "24750"
        ],
        [
         "32",
         "105",
         "208",
         "21840"
        ],
        [
         "33",
         "405",
         "299",
         "121095"
        ],
        [
         "34",
         "409",
         "134",
         "54806"
        ],
        [
         "35",
         "229",
         "85",
         "19465"
        ],
        [
         "36",
         "318",
         "270",
         "85860"
        ],
        [
         "37",
         "399",
         "58",
         "23142"
        ],
        [
         "38",
         "181",
         "87",
         "15747"
        ],
        [
         "39",
         "133",
         "214",
         "28462"
        ],
        [
         "40",
         "383",
         "296",
         "113368"
        ],
        [
         "41",
         "223",
         "75",
         "16725"
        ],
        [
         "42",
         "302",
         "122",
         "36844"
        ],
        [
         "43",
         "260",
         "204",
         "53040"
        ],
        [
         "44",
         "286",
         "277",
         "79222"
        ],
        [
         "45",
         "365",
         "184",
         "67160"
        ],
        [
         "46",
         "376",
         "280",
         "105280"
        ],
        [
         "47",
         "240",
         "54",
         "12960"
        ],
        [
         "48",
         "357",
         "119",
         "42483"
        ],
        [
         "49",
         "147",
         "139",
         "20433"
        ]
       ],
       "shape": {
        "columns": 3,
        "rows": 100
       }
      },
      "text/html": [
       "<div>\n",
       "<style scoped>\n",
       "    .dataframe tbody tr th:only-of-type {\n",
       "        vertical-align: middle;\n",
       "    }\n",
       "\n",
       "    .dataframe tbody tr th {\n",
       "        vertical-align: top;\n",
       "    }\n",
       "\n",
       "    .dataframe thead th {\n",
       "        text-align: right;\n",
       "    }\n",
       "</style>\n",
       "<table border=\"1\" class=\"dataframe\">\n",
       "  <thead>\n",
       "    <tr style=\"text-align: right;\">\n",
       "      <th></th>\n",
       "      <th>ventas</th>\n",
       "      <th>precios</th>\n",
       "      <th>ingresos</th>\n",
       "    </tr>\n",
       "  </thead>\n",
       "  <tbody>\n",
       "    <tr>\n",
       "      <th>0</th>\n",
       "      <td>105</td>\n",
       "      <td>282</td>\n",
       "      <td>29610</td>\n",
       "    </tr>\n",
       "    <tr>\n",
       "      <th>1</th>\n",
       "      <td>244</td>\n",
       "      <td>127</td>\n",
       "      <td>30988</td>\n",
       "    </tr>\n",
       "    <tr>\n",
       "      <th>2</th>\n",
       "      <td>311</td>\n",
       "      <td>265</td>\n",
       "      <td>82415</td>\n",
       "    </tr>\n",
       "    <tr>\n",
       "      <th>3</th>\n",
       "      <td>443</td>\n",
       "      <td>102</td>\n",
       "      <td>45186</td>\n",
       "    </tr>\n",
       "    <tr>\n",
       "      <th>4</th>\n",
       "      <td>342</td>\n",
       "      <td>208</td>\n",
       "      <td>71136</td>\n",
       "    </tr>\n",
       "    <tr>\n",
       "      <th>...</th>\n",
       "      <td>...</td>\n",
       "      <td>...</td>\n",
       "      <td>...</td>\n",
       "    </tr>\n",
       "    <tr>\n",
       "      <th>95</th>\n",
       "      <td>395</td>\n",
       "      <td>288</td>\n",
       "      <td>113760</td>\n",
       "    </tr>\n",
       "    <tr>\n",
       "      <th>96</th>\n",
       "      <td>307</td>\n",
       "      <td>253</td>\n",
       "      <td>77671</td>\n",
       "    </tr>\n",
       "    <tr>\n",
       "      <th>97</th>\n",
       "      <td>329</td>\n",
       "      <td>132</td>\n",
       "      <td>43428</td>\n",
       "    </tr>\n",
       "    <tr>\n",
       "      <th>98</th>\n",
       "      <td>168</td>\n",
       "      <td>195</td>\n",
       "      <td>32760</td>\n",
       "    </tr>\n",
       "    <tr>\n",
       "      <th>99</th>\n",
       "      <td>189</td>\n",
       "      <td>126</td>\n",
       "      <td>23814</td>\n",
       "    </tr>\n",
       "  </tbody>\n",
       "</table>\n",
       "<p>100 rows × 3 columns</p>\n",
       "</div>"
      ],
      "text/plain": [
       "    ventas  precios  ingresos\n",
       "0      105      282     29610\n",
       "1      244      127     30988\n",
       "2      311      265     82415\n",
       "3      443      102     45186\n",
       "4      342      208     71136\n",
       "..     ...      ...       ...\n",
       "95     395      288    113760\n",
       "96     307      253     77671\n",
       "97     329      132     43428\n",
       "98     168      195     32760\n",
       "99     189      126     23814\n",
       "\n",
       "[100 rows x 3 columns]"
      ]
     },
     "execution_count": 78,
     "metadata": {},
     "output_type": "execute_result"
    }
   ],
   "source": [
    "df.fillna(0)        # reemplaza nulos por 0"
   ]
  },
  {
   "cell_type": "code",
   "execution_count": 79,
   "id": "36030260",
   "metadata": {},
   "outputs": [
    {
     "data": {
      "application/vnd.microsoft.datawrangler.viewer.v0+json": {
       "columns": [
        {
         "name": "index",
         "rawType": "int64",
         "type": "integer"
        },
        {
         "name": "ventas",
         "rawType": "int64",
         "type": "integer"
        },
        {
         "name": "precios",
         "rawType": "int64",
         "type": "integer"
        },
        {
         "name": "ingresos",
         "rawType": "int64",
         "type": "integer"
        }
       ],
       "ref": "017a46e7-3656-46dc-8e11-72941cc41d46",
       "rows": [
        [
         "0",
         "105",
         "282",
         "29610"
        ],
        [
         "1",
         "244",
         "127",
         "30988"
        ],
        [
         "2",
         "311",
         "265",
         "82415"
        ],
        [
         "3",
         "443",
         "102",
         "45186"
        ],
        [
         "4",
         "342",
         "208",
         "71136"
        ],
        [
         "5",
         "312",
         "246",
         "76752"
        ],
        [
         "6",
         "284",
         "218",
         "61912"
        ],
        [
         "7",
         "175",
         "140",
         "24500"
        ],
        [
         "8",
         "340",
         "213",
         "72420"
        ],
        [
         "9",
         "317",
         "250",
         "79250"
        ],
        [
         "10",
         "158",
         "265",
         "41870"
        ],
        [
         "11",
         "211",
         "290",
         "61190"
        ],
        [
         "12",
         "234",
         "167",
         "39078"
        ],
        [
         "13",
         "326",
         "294",
         "95844"
        ],
        [
         "14",
         "371",
         "240",
         "89040"
        ],
        [
         "15",
         "415",
         "205",
         "85075"
        ],
        [
         "16",
         "299",
         "244",
         "72956"
        ],
        [
         "17",
         "220",
         "102",
         "22440"
        ],
        [
         "18",
         "404",
         "67",
         "27068"
        ],
        [
         "19",
         "326",
         "289",
         "94214"
        ],
        [
         "20",
         "488",
         "137",
         "66856"
        ],
        [
         "21",
         "109",
         "105",
         "11445"
        ],
        [
         "22",
         "367",
         "60",
         "22020"
        ],
        [
         "23",
         "414",
         "79",
         "32706"
        ],
        [
         "24",
         "349",
         "168",
         "58632"
        ],
        [
         "25",
         "161",
         "256",
         "41216"
        ],
        [
         "26",
         "254",
         "267",
         "67818"
        ],
        [
         "27",
         "105",
         "80",
         "8400"
        ],
        [
         "28",
         "359",
         "131",
         "47029"
        ],
        [
         "29",
         "208",
         "96",
         "19968"
        ],
        [
         "30",
         "248",
         "163",
         "40424"
        ],
        [
         "31",
         "375",
         "66",
         "24750"
        ],
        [
         "32",
         "105",
         "208",
         "21840"
        ],
        [
         "33",
         "405",
         "299",
         "121095"
        ],
        [
         "34",
         "409",
         "134",
         "54806"
        ],
        [
         "35",
         "229",
         "85",
         "19465"
        ],
        [
         "36",
         "318",
         "270",
         "85860"
        ],
        [
         "37",
         "399",
         "58",
         "23142"
        ],
        [
         "38",
         "181",
         "87",
         "15747"
        ],
        [
         "39",
         "133",
         "214",
         "28462"
        ],
        [
         "40",
         "383",
         "296",
         "113368"
        ],
        [
         "41",
         "223",
         "75",
         "16725"
        ],
        [
         "42",
         "302",
         "122",
         "36844"
        ],
        [
         "43",
         "260",
         "204",
         "53040"
        ],
        [
         "44",
         "286",
         "277",
         "79222"
        ],
        [
         "45",
         "365",
         "184",
         "67160"
        ],
        [
         "46",
         "376",
         "280",
         "105280"
        ],
        [
         "47",
         "240",
         "54",
         "12960"
        ],
        [
         "48",
         "357",
         "119",
         "42483"
        ],
        [
         "49",
         "147",
         "139",
         "20433"
        ]
       ],
       "shape": {
        "columns": 3,
        "rows": 100
       }
      },
      "text/html": [
       "<div>\n",
       "<style scoped>\n",
       "    .dataframe tbody tr th:only-of-type {\n",
       "        vertical-align: middle;\n",
       "    }\n",
       "\n",
       "    .dataframe tbody tr th {\n",
       "        vertical-align: top;\n",
       "    }\n",
       "\n",
       "    .dataframe thead th {\n",
       "        text-align: right;\n",
       "    }\n",
       "</style>\n",
       "<table border=\"1\" class=\"dataframe\">\n",
       "  <thead>\n",
       "    <tr style=\"text-align: right;\">\n",
       "      <th></th>\n",
       "      <th>ventas</th>\n",
       "      <th>precios</th>\n",
       "      <th>ingresos</th>\n",
       "    </tr>\n",
       "  </thead>\n",
       "  <tbody>\n",
       "    <tr>\n",
       "      <th>0</th>\n",
       "      <td>105</td>\n",
       "      <td>282</td>\n",
       "      <td>29610</td>\n",
       "    </tr>\n",
       "    <tr>\n",
       "      <th>1</th>\n",
       "      <td>244</td>\n",
       "      <td>127</td>\n",
       "      <td>30988</td>\n",
       "    </tr>\n",
       "    <tr>\n",
       "      <th>2</th>\n",
       "      <td>311</td>\n",
       "      <td>265</td>\n",
       "      <td>82415</td>\n",
       "    </tr>\n",
       "    <tr>\n",
       "      <th>3</th>\n",
       "      <td>443</td>\n",
       "      <td>102</td>\n",
       "      <td>45186</td>\n",
       "    </tr>\n",
       "    <tr>\n",
       "      <th>4</th>\n",
       "      <td>342</td>\n",
       "      <td>208</td>\n",
       "      <td>71136</td>\n",
       "    </tr>\n",
       "    <tr>\n",
       "      <th>...</th>\n",
       "      <td>...</td>\n",
       "      <td>...</td>\n",
       "      <td>...</td>\n",
       "    </tr>\n",
       "    <tr>\n",
       "      <th>95</th>\n",
       "      <td>395</td>\n",
       "      <td>288</td>\n",
       "      <td>113760</td>\n",
       "    </tr>\n",
       "    <tr>\n",
       "      <th>96</th>\n",
       "      <td>307</td>\n",
       "      <td>253</td>\n",
       "      <td>77671</td>\n",
       "    </tr>\n",
       "    <tr>\n",
       "      <th>97</th>\n",
       "      <td>329</td>\n",
       "      <td>132</td>\n",
       "      <td>43428</td>\n",
       "    </tr>\n",
       "    <tr>\n",
       "      <th>98</th>\n",
       "      <td>168</td>\n",
       "      <td>195</td>\n",
       "      <td>32760</td>\n",
       "    </tr>\n",
       "    <tr>\n",
       "      <th>99</th>\n",
       "      <td>189</td>\n",
       "      <td>126</td>\n",
       "      <td>23814</td>\n",
       "    </tr>\n",
       "  </tbody>\n",
       "</table>\n",
       "<p>100 rows × 3 columns</p>\n",
       "</div>"
      ],
      "text/plain": [
       "    ventas  precios  ingresos\n",
       "0      105      282     29610\n",
       "1      244      127     30988\n",
       "2      311      265     82415\n",
       "3      443      102     45186\n",
       "4      342      208     71136\n",
       "..     ...      ...       ...\n",
       "95     395      288    113760\n",
       "96     307      253     77671\n",
       "97     329      132     43428\n",
       "98     168      195     32760\n",
       "99     189      126     23814\n",
       "\n",
       "[100 rows x 3 columns]"
      ]
     },
     "execution_count": 79,
     "metadata": {},
     "output_type": "execute_result"
    }
   ],
   "source": [
    "df.dropna()         # elimina filas con nulos"
   ]
  },
  {
   "cell_type": "markdown",
   "id": "c1e0107f",
   "metadata": {},
   "source": [
    "### **Operaciones con columnas y filas**"
   ]
  },
  {
   "cell_type": "markdown",
   "id": "8ea6687c",
   "metadata": {},
   "source": [
    " Llimpieza y estandarización de datasets antes de análisis."
   ]
  },
  {
   "cell_type": "code",
   "execution_count": 80,
   "id": "10a27797",
   "metadata": {},
   "outputs": [
    {
     "data": {
      "application/vnd.microsoft.datawrangler.viewer.v0+json": {
       "columns": [
        {
         "name": "index",
         "rawType": "int64",
         "type": "integer"
        },
        {
         "name": "ventas",
         "rawType": "int64",
         "type": "integer"
        },
        {
         "name": "precios",
         "rawType": "int64",
         "type": "integer"
        },
        {
         "name": "ingresos",
         "rawType": "int64",
         "type": "integer"
        }
       ],
       "ref": "176effc2-6b29-4e59-9717-808a51140672",
       "rows": [
        [
         "84",
         "496",
         "208",
         "103168"
        ],
        [
         "66",
         "490",
         "265",
         "129850"
        ],
        [
         "62",
         "490",
         "63",
         "30870"
        ],
        [
         "57",
         "490",
         "58",
         "28420"
        ],
        [
         "20",
         "488",
         "137",
         "66856"
        ],
        [
         "79",
         "476",
         "63",
         "29988"
        ],
        [
         "81",
         "468",
         "255",
         "119340"
        ],
        [
         "91",
         "463",
         "126",
         "58338"
        ],
        [
         "53",
         "460",
         "51",
         "23460"
        ],
        [
         "85",
         "452",
         "292",
         "131984"
        ],
        [
         "3",
         "443",
         "102",
         "45186"
        ],
        [
         "55",
         "441",
         "244",
         "107604"
        ],
        [
         "89",
         "433",
         "83",
         "35939"
        ],
        [
         "61",
         "426",
         "135",
         "57510"
        ],
        [
         "15",
         "415",
         "205",
         "85075"
        ],
        [
         "23",
         "414",
         "79",
         "32706"
        ],
        [
         "34",
         "409",
         "134",
         "54806"
        ],
        [
         "33",
         "405",
         "299",
         "121095"
        ],
        [
         "18",
         "404",
         "67",
         "27068"
        ],
        [
         "37",
         "399",
         "58",
         "23142"
        ],
        [
         "71",
         "399",
         "133",
         "53067"
        ],
        [
         "95",
         "395",
         "288",
         "113760"
        ],
        [
         "40",
         "383",
         "296",
         "113368"
        ],
        [
         "46",
         "376",
         "280",
         "105280"
        ],
        [
         "31",
         "375",
         "66",
         "24750"
        ],
        [
         "80",
         "374",
         "291",
         "108834"
        ],
        [
         "72",
         "374",
         "202",
         "75548"
        ],
        [
         "14",
         "371",
         "240",
         "89040"
        ],
        [
         "22",
         "367",
         "60",
         "22020"
        ],
        [
         "45",
         "365",
         "184",
         "67160"
        ],
        [
         "28",
         "359",
         "131",
         "47029"
        ],
        [
         "70",
         "358",
         "240",
         "85920"
        ],
        [
         "48",
         "357",
         "119",
         "42483"
        ],
        [
         "24",
         "349",
         "168",
         "58632"
        ],
        [
         "73",
         "348",
         "79",
         "27492"
        ],
        [
         "92",
         "345",
         "132",
         "45540"
        ],
        [
         "4",
         "342",
         "208",
         "71136"
        ],
        [
         "8",
         "340",
         "213",
         "72420"
        ],
        [
         "88",
         "339",
         "295",
         "100005"
        ],
        [
         "60",
         "334",
         "190",
         "63460"
        ],
        [
         "94",
         "333",
         "209",
         "69597"
        ],
        [
         "97",
         "329",
         "132",
         "43428"
        ],
        [
         "56",
         "328",
         "126",
         "41328"
        ],
        [
         "19",
         "326",
         "289",
         "94214"
        ],
        [
         "13",
         "326",
         "294",
         "95844"
        ],
        [
         "77",
         "325",
         "288",
         "93600"
        ],
        [
         "36",
         "318",
         "270",
         "85860"
        ],
        [
         "9",
         "317",
         "250",
         "79250"
        ],
        [
         "63",
         "314",
         "216",
         "67824"
        ],
        [
         "54",
         "312",
         "259",
         "80808"
        ]
       ],
       "shape": {
        "columns": 3,
        "rows": 100
       }
      },
      "text/html": [
       "<div>\n",
       "<style scoped>\n",
       "    .dataframe tbody tr th:only-of-type {\n",
       "        vertical-align: middle;\n",
       "    }\n",
       "\n",
       "    .dataframe tbody tr th {\n",
       "        vertical-align: top;\n",
       "    }\n",
       "\n",
       "    .dataframe thead th {\n",
       "        text-align: right;\n",
       "    }\n",
       "</style>\n",
       "<table border=\"1\" class=\"dataframe\">\n",
       "  <thead>\n",
       "    <tr style=\"text-align: right;\">\n",
       "      <th></th>\n",
       "      <th>ventas</th>\n",
       "      <th>precios</th>\n",
       "      <th>ingresos</th>\n",
       "    </tr>\n",
       "  </thead>\n",
       "  <tbody>\n",
       "    <tr>\n",
       "      <th>84</th>\n",
       "      <td>496</td>\n",
       "      <td>208</td>\n",
       "      <td>103168</td>\n",
       "    </tr>\n",
       "    <tr>\n",
       "      <th>66</th>\n",
       "      <td>490</td>\n",
       "      <td>265</td>\n",
       "      <td>129850</td>\n",
       "    </tr>\n",
       "    <tr>\n",
       "      <th>62</th>\n",
       "      <td>490</td>\n",
       "      <td>63</td>\n",
       "      <td>30870</td>\n",
       "    </tr>\n",
       "    <tr>\n",
       "      <th>57</th>\n",
       "      <td>490</td>\n",
       "      <td>58</td>\n",
       "      <td>28420</td>\n",
       "    </tr>\n",
       "    <tr>\n",
       "      <th>20</th>\n",
       "      <td>488</td>\n",
       "      <td>137</td>\n",
       "      <td>66856</td>\n",
       "    </tr>\n",
       "    <tr>\n",
       "      <th>...</th>\n",
       "      <td>...</td>\n",
       "      <td>...</td>\n",
       "      <td>...</td>\n",
       "    </tr>\n",
       "    <tr>\n",
       "      <th>0</th>\n",
       "      <td>105</td>\n",
       "      <td>282</td>\n",
       "      <td>29610</td>\n",
       "    </tr>\n",
       "    <tr>\n",
       "      <th>32</th>\n",
       "      <td>105</td>\n",
       "      <td>208</td>\n",
       "      <td>21840</td>\n",
       "    </tr>\n",
       "    <tr>\n",
       "      <th>27</th>\n",
       "      <td>105</td>\n",
       "      <td>80</td>\n",
       "      <td>8400</td>\n",
       "    </tr>\n",
       "    <tr>\n",
       "      <th>69</th>\n",
       "      <td>102</td>\n",
       "      <td>235</td>\n",
       "      <td>23970</td>\n",
       "    </tr>\n",
       "    <tr>\n",
       "      <th>74</th>\n",
       "      <td>102</td>\n",
       "      <td>68</td>\n",
       "      <td>6936</td>\n",
       "    </tr>\n",
       "  </tbody>\n",
       "</table>\n",
       "<p>100 rows × 3 columns</p>\n",
       "</div>"
      ],
      "text/plain": [
       "    ventas  precios  ingresos\n",
       "84     496      208    103168\n",
       "66     490      265    129850\n",
       "62     490       63     30870\n",
       "57     490       58     28420\n",
       "20     488      137     66856\n",
       "..     ...      ...       ...\n",
       "0      105      282     29610\n",
       "32     105      208     21840\n",
       "27     105       80      8400\n",
       "69     102      235     23970\n",
       "74     102       68      6936\n",
       "\n",
       "[100 rows x 3 columns]"
      ]
     },
     "execution_count": 80,
     "metadata": {},
     "output_type": "execute_result"
    }
   ],
   "source": [
    "df.sort_values(\"ventas\", ascending=False)  # ordenar"
   ]
  },
  {
   "cell_type": "code",
   "execution_count": 81,
   "metadata": {},
   "outputs": [
    {
     "data": {
      "application/vnd.microsoft.datawrangler.viewer.v0+json": {
       "columns": [
        {
         "name": "index",
         "rawType": "int64",
         "type": "integer"
        },
        {
         "name": "ventas",
         "rawType": "int64",
         "type": "integer"
        },
        {
         "name": "precios",
         "rawType": "int64",
         "type": "integer"
        },
        {
         "name": "ingresos",
         "rawType": "int64",
         "type": "integer"
        }
       ],
       "ref": "4da5b6ba-0b9f-4a50-ad44-0acf66876620",
       "rows": [
        [
         "0",
         "105",
         "282",
         "29610"
        ],
        [
         "1",
         "244",
         "127",
         "30988"
        ],
        [
         "2",
         "311",
         "265",
         "82415"
        ],
        [
         "3",
         "443",
         "102",
         "45186"
        ],
        [
         "4",
         "342",
         "208",
         "71136"
        ],
        [
         "5",
         "312",
         "246",
         "76752"
        ],
        [
         "6",
         "284",
         "218",
         "61912"
        ],
        [
         "7",
         "175",
         "140",
         "24500"
        ],
        [
         "8",
         "340",
         "213",
         "72420"
        ],
        [
         "9",
         "317",
         "250",
         "79250"
        ],
        [
         "10",
         "158",
         "265",
         "41870"
        ],
        [
         "11",
         "211",
         "290",
         "61190"
        ],
        [
         "12",
         "234",
         "167",
         "39078"
        ],
        [
         "13",
         "326",
         "294",
         "95844"
        ],
        [
         "14",
         "371",
         "240",
         "89040"
        ],
        [
         "15",
         "415",
         "205",
         "85075"
        ],
        [
         "16",
         "299",
         "244",
         "72956"
        ],
        [
         "17",
         "220",
         "102",
         "22440"
        ],
        [
         "18",
         "404",
         "67",
         "27068"
        ],
        [
         "19",
         "326",
         "289",
         "94214"
        ],
        [
         "20",
         "488",
         "137",
         "66856"
        ],
        [
         "21",
         "109",
         "105",
         "11445"
        ],
        [
         "22",
         "367",
         "60",
         "22020"
        ],
        [
         "23",
         "414",
         "79",
         "32706"
        ],
        [
         "24",
         "349",
         "168",
         "58632"
        ],
        [
         "25",
         "161",
         "256",
         "41216"
        ],
        [
         "26",
         "254",
         "267",
         "67818"
        ],
        [
         "27",
         "105",
         "80",
         "8400"
        ],
        [
         "28",
         "359",
         "131",
         "47029"
        ],
        [
         "29",
         "208",
         "96",
         "19968"
        ],
        [
         "30",
         "248",
         "163",
         "40424"
        ],
        [
         "31",
         "375",
         "66",
         "24750"
        ],
        [
         "32",
         "105",
         "208",
         "21840"
        ],
        [
         "33",
         "405",
         "299",
         "121095"
        ],
        [
         "34",
         "409",
         "134",
         "54806"
        ],
        [
         "35",
         "229",
         "85",
         "19465"
        ],
        [
         "36",
         "318",
         "270",
         "85860"
        ],
        [
         "37",
         "399",
         "58",
         "23142"
        ],
        [
         "38",
         "181",
         "87",
         "15747"
        ],
        [
         "39",
         "133",
         "214",
         "28462"
        ],
        [
         "40",
         "383",
         "296",
         "113368"
        ],
        [
         "41",
         "223",
         "75",
         "16725"
        ],
        [
         "42",
         "302",
         "122",
         "36844"
        ],
        [
         "43",
         "260",
         "204",
         "53040"
        ],
        [
         "44",
         "286",
         "277",
         "79222"
        ],
        [
         "45",
         "365",
         "184",
         "67160"
        ],
        [
         "46",
         "376",
         "280",
         "105280"
        ],
        [
         "47",
         "240",
         "54",
         "12960"
        ],
        [
         "48",
         "357",
         "119",
         "42483"
        ],
        [
         "49",
         "147",
         "139",
         "20433"
        ]
       ],
       "shape": {
        "columns": 3,
        "rows": 100
       }
      },
      "text/html": [
       "<div>\n",
       "<style scoped>\n",
       "    .dataframe tbody tr th:only-of-type {\n",
       "        vertical-align: middle;\n",
       "    }\n",
       "\n",
       "    .dataframe tbody tr th {\n",
       "        vertical-align: top;\n",
       "    }\n",
       "\n",
       "    .dataframe thead th {\n",
       "        text-align: right;\n",
       "    }\n",
       "</style>\n",
       "<table border=\"1\" class=\"dataframe\">\n",
       "  <thead>\n",
       "    <tr style=\"text-align: right;\">\n",
       "      <th></th>\n",
       "      <th>ventas</th>\n",
       "      <th>precios</th>\n",
       "      <th>ingresos</th>\n",
       "    </tr>\n",
       "  </thead>\n",
       "  <tbody>\n",
       "    <tr>\n",
       "      <th>0</th>\n",
       "      <td>105</td>\n",
       "      <td>282</td>\n",
       "      <td>29610</td>\n",
       "    </tr>\n",
       "    <tr>\n",
       "      <th>1</th>\n",
       "      <td>244</td>\n",
       "      <td>127</td>\n",
       "      <td>30988</td>\n",
       "    </tr>\n",
       "    <tr>\n",
       "      <th>2</th>\n",
       "      <td>311</td>\n",
       "      <td>265</td>\n",
       "      <td>82415</td>\n",
       "    </tr>\n",
       "    <tr>\n",
       "      <th>3</th>\n",
       "      <td>443</td>\n",
       "      <td>102</td>\n",
       "      <td>45186</td>\n",
       "    </tr>\n",
       "    <tr>\n",
       "      <th>4</th>\n",
       "      <td>342</td>\n",
       "      <td>208</td>\n",
       "      <td>71136</td>\n",
       "    </tr>\n",
       "    <tr>\n",
       "      <th>...</th>\n",
       "      <td>...</td>\n",
       "      <td>...</td>\n",
       "      <td>...</td>\n",
       "    </tr>\n",
       "    <tr>\n",
       "      <th>95</th>\n",
       "      <td>395</td>\n",
       "      <td>288</td>\n",
       "      <td>113760</td>\n",
       "    </tr>\n",
       "    <tr>\n",
       "      <th>96</th>\n",
       "      <td>307</td>\n",
       "      <td>253</td>\n",
       "      <td>77671</td>\n",
       "    </tr>\n",
       "    <tr>\n",
       "      <th>97</th>\n",
       "      <td>329</td>\n",
       "      <td>132</td>\n",
       "      <td>43428</td>\n",
       "    </tr>\n",
       "    <tr>\n",
       "      <th>98</th>\n",
       "      <td>168</td>\n",
       "      <td>195</td>\n",
       "      <td>32760</td>\n",
       "    </tr>\n",
       "    <tr>\n",
       "      <th>99</th>\n",
       "      <td>189</td>\n",
       "      <td>126</td>\n",
       "      <td>23814</td>\n",
       "    </tr>\n",
       "  </tbody>\n",
       "</table>\n",
       "<p>100 rows × 3 columns</p>\n",
       "</div>"
      ],
      "text/plain": [
       "    ventas  precios  ingresos\n",
       "0      105      282     29610\n",
       "1      244      127     30988\n",
       "2      311      265     82415\n",
       "3      443      102     45186\n",
       "4      342      208     71136\n",
       "..     ...      ...       ...\n",
       "95     395      288    113760\n",
       "96     307      253     77671\n",
       "97     329      132     43428\n",
       "98     168      195     32760\n",
       "99     189      126     23814\n",
       "\n",
       "[100 rows x 3 columns]"
      ]
     },
     "execution_count": 81,
     "metadata": {},
     "output_type": "execute_result"
    }
   ],
   "source": [
    "df.sort_index()                          # ordenar por índice"
   ]
  },
  {
   "cell_type": "code",
   "execution_count": 82,
   "id": "f813f67e",
   "metadata": {},
   "outputs": [
    {
     "data": {
      "application/vnd.microsoft.datawrangler.viewer.v0+json": {
       "columns": [
        {
         "name": "index",
         "rawType": "int64",
         "type": "integer"
        },
        {
         "name": "cantidad",
         "rawType": "int64",
         "type": "integer"
        },
        {
         "name": "precios",
         "rawType": "int64",
         "type": "integer"
        },
        {
         "name": "ingresos",
         "rawType": "int64",
         "type": "integer"
        }
       ],
       "ref": "6f18515c-286b-4079-a110-b778253e0007",
       "rows": [
        [
         "0",
         "105",
         "282",
         "29610"
        ],
        [
         "1",
         "244",
         "127",
         "30988"
        ],
        [
         "2",
         "311",
         "265",
         "82415"
        ],
        [
         "3",
         "443",
         "102",
         "45186"
        ],
        [
         "4",
         "342",
         "208",
         "71136"
        ],
        [
         "5",
         "312",
         "246",
         "76752"
        ],
        [
         "6",
         "284",
         "218",
         "61912"
        ],
        [
         "7",
         "175",
         "140",
         "24500"
        ],
        [
         "8",
         "340",
         "213",
         "72420"
        ],
        [
         "9",
         "317",
         "250",
         "79250"
        ],
        [
         "10",
         "158",
         "265",
         "41870"
        ],
        [
         "11",
         "211",
         "290",
         "61190"
        ],
        [
         "12",
         "234",
         "167",
         "39078"
        ],
        [
         "13",
         "326",
         "294",
         "95844"
        ],
        [
         "14",
         "371",
         "240",
         "89040"
        ],
        [
         "15",
         "415",
         "205",
         "85075"
        ],
        [
         "16",
         "299",
         "244",
         "72956"
        ],
        [
         "17",
         "220",
         "102",
         "22440"
        ],
        [
         "18",
         "404",
         "67",
         "27068"
        ],
        [
         "19",
         "326",
         "289",
         "94214"
        ],
        [
         "20",
         "488",
         "137",
         "66856"
        ],
        [
         "21",
         "109",
         "105",
         "11445"
        ],
        [
         "22",
         "367",
         "60",
         "22020"
        ],
        [
         "23",
         "414",
         "79",
         "32706"
        ],
        [
         "24",
         "349",
         "168",
         "58632"
        ],
        [
         "25",
         "161",
         "256",
         "41216"
        ],
        [
         "26",
         "254",
         "267",
         "67818"
        ],
        [
         "27",
         "105",
         "80",
         "8400"
        ],
        [
         "28",
         "359",
         "131",
         "47029"
        ],
        [
         "29",
         "208",
         "96",
         "19968"
        ],
        [
         "30",
         "248",
         "163",
         "40424"
        ],
        [
         "31",
         "375",
         "66",
         "24750"
        ],
        [
         "32",
         "105",
         "208",
         "21840"
        ],
        [
         "33",
         "405",
         "299",
         "121095"
        ],
        [
         "34",
         "409",
         "134",
         "54806"
        ],
        [
         "35",
         "229",
         "85",
         "19465"
        ],
        [
         "36",
         "318",
         "270",
         "85860"
        ],
        [
         "37",
         "399",
         "58",
         "23142"
        ],
        [
         "38",
         "181",
         "87",
         "15747"
        ],
        [
         "39",
         "133",
         "214",
         "28462"
        ],
        [
         "40",
         "383",
         "296",
         "113368"
        ],
        [
         "41",
         "223",
         "75",
         "16725"
        ],
        [
         "42",
         "302",
         "122",
         "36844"
        ],
        [
         "43",
         "260",
         "204",
         "53040"
        ],
        [
         "44",
         "286",
         "277",
         "79222"
        ],
        [
         "45",
         "365",
         "184",
         "67160"
        ],
        [
         "46",
         "376",
         "280",
         "105280"
        ],
        [
         "47",
         "240",
         "54",
         "12960"
        ],
        [
         "48",
         "357",
         "119",
         "42483"
        ],
        [
         "49",
         "147",
         "139",
         "20433"
        ]
       ],
       "shape": {
        "columns": 3,
        "rows": 100
       }
      },
      "text/html": [
       "<div>\n",
       "<style scoped>\n",
       "    .dataframe tbody tr th:only-of-type {\n",
       "        vertical-align: middle;\n",
       "    }\n",
       "\n",
       "    .dataframe tbody tr th {\n",
       "        vertical-align: top;\n",
       "    }\n",
       "\n",
       "    .dataframe thead th {\n",
       "        text-align: right;\n",
       "    }\n",
       "</style>\n",
       "<table border=\"1\" class=\"dataframe\">\n",
       "  <thead>\n",
       "    <tr style=\"text-align: right;\">\n",
       "      <th></th>\n",
       "      <th>cantidad</th>\n",
       "      <th>precios</th>\n",
       "      <th>ingresos</th>\n",
       "    </tr>\n",
       "  </thead>\n",
       "  <tbody>\n",
       "    <tr>\n",
       "      <th>0</th>\n",
       "      <td>105</td>\n",
       "      <td>282</td>\n",
       "      <td>29610</td>\n",
       "    </tr>\n",
       "    <tr>\n",
       "      <th>1</th>\n",
       "      <td>244</td>\n",
       "      <td>127</td>\n",
       "      <td>30988</td>\n",
       "    </tr>\n",
       "    <tr>\n",
       "      <th>2</th>\n",
       "      <td>311</td>\n",
       "      <td>265</td>\n",
       "      <td>82415</td>\n",
       "    </tr>\n",
       "    <tr>\n",
       "      <th>3</th>\n",
       "      <td>443</td>\n",
       "      <td>102</td>\n",
       "      <td>45186</td>\n",
       "    </tr>\n",
       "    <tr>\n",
       "      <th>4</th>\n",
       "      <td>342</td>\n",
       "      <td>208</td>\n",
       "      <td>71136</td>\n",
       "    </tr>\n",
       "    <tr>\n",
       "      <th>...</th>\n",
       "      <td>...</td>\n",
       "      <td>...</td>\n",
       "      <td>...</td>\n",
       "    </tr>\n",
       "    <tr>\n",
       "      <th>95</th>\n",
       "      <td>395</td>\n",
       "      <td>288</td>\n",
       "      <td>113760</td>\n",
       "    </tr>\n",
       "    <tr>\n",
       "      <th>96</th>\n",
       "      <td>307</td>\n",
       "      <td>253</td>\n",
       "      <td>77671</td>\n",
       "    </tr>\n",
       "    <tr>\n",
       "      <th>97</th>\n",
       "      <td>329</td>\n",
       "      <td>132</td>\n",
       "      <td>43428</td>\n",
       "    </tr>\n",
       "    <tr>\n",
       "      <th>98</th>\n",
       "      <td>168</td>\n",
       "      <td>195</td>\n",
       "      <td>32760</td>\n",
       "    </tr>\n",
       "    <tr>\n",
       "      <th>99</th>\n",
       "      <td>189</td>\n",
       "      <td>126</td>\n",
       "      <td>23814</td>\n",
       "    </tr>\n",
       "  </tbody>\n",
       "</table>\n",
       "<p>100 rows × 3 columns</p>\n",
       "</div>"
      ],
      "text/plain": [
       "    cantidad  precios  ingresos\n",
       "0        105      282     29610\n",
       "1        244      127     30988\n",
       "2        311      265     82415\n",
       "3        443      102     45186\n",
       "4        342      208     71136\n",
       "..       ...      ...       ...\n",
       "95       395      288    113760\n",
       "96       307      253     77671\n",
       "97       329      132     43428\n",
       "98       168      195     32760\n",
       "99       189      126     23814\n",
       "\n",
       "[100 rows x 3 columns]"
      ]
     },
     "execution_count": 82,
     "metadata": {},
     "output_type": "execute_result"
    }
   ],
   "source": [
    "df.rename(columns={\"ventas\":\"cantidad\"})# renombrar columna"
   ]
  },
  {
   "cell_type": "code",
   "execution_count": 84,
   "id": "061fa29f",
   "metadata": {},
   "outputs": [
    {
     "data": {
      "application/vnd.microsoft.datawrangler.viewer.v0+json": {
       "columns": [
        {
         "name": "index",
         "rawType": "int64",
         "type": "integer"
        },
        {
         "name": "ventas",
         "rawType": "int64",
         "type": "integer"
        },
        {
         "name": "ingresos",
         "rawType": "int64",
         "type": "integer"
        }
       ],
       "ref": "2dc90a54-5a22-477a-8cbc-d54b73a2abb0",
       "rows": [
        [
         "0",
         "105",
         "29610"
        ],
        [
         "1",
         "244",
         "30988"
        ],
        [
         "2",
         "311",
         "82415"
        ],
        [
         "3",
         "443",
         "45186"
        ],
        [
         "4",
         "342",
         "71136"
        ],
        [
         "5",
         "312",
         "76752"
        ],
        [
         "6",
         "284",
         "61912"
        ],
        [
         "7",
         "175",
         "24500"
        ],
        [
         "8",
         "340",
         "72420"
        ],
        [
         "9",
         "317",
         "79250"
        ],
        [
         "10",
         "158",
         "41870"
        ],
        [
         "11",
         "211",
         "61190"
        ],
        [
         "12",
         "234",
         "39078"
        ],
        [
         "13",
         "326",
         "95844"
        ],
        [
         "14",
         "371",
         "89040"
        ],
        [
         "15",
         "415",
         "85075"
        ],
        [
         "16",
         "299",
         "72956"
        ],
        [
         "17",
         "220",
         "22440"
        ],
        [
         "18",
         "404",
         "27068"
        ],
        [
         "19",
         "326",
         "94214"
        ],
        [
         "20",
         "488",
         "66856"
        ],
        [
         "21",
         "109",
         "11445"
        ],
        [
         "22",
         "367",
         "22020"
        ],
        [
         "23",
         "414",
         "32706"
        ],
        [
         "24",
         "349",
         "58632"
        ],
        [
         "25",
         "161",
         "41216"
        ],
        [
         "26",
         "254",
         "67818"
        ],
        [
         "27",
         "105",
         "8400"
        ],
        [
         "28",
         "359",
         "47029"
        ],
        [
         "29",
         "208",
         "19968"
        ],
        [
         "30",
         "248",
         "40424"
        ],
        [
         "31",
         "375",
         "24750"
        ],
        [
         "32",
         "105",
         "21840"
        ],
        [
         "33",
         "405",
         "121095"
        ],
        [
         "34",
         "409",
         "54806"
        ],
        [
         "35",
         "229",
         "19465"
        ],
        [
         "36",
         "318",
         "85860"
        ],
        [
         "37",
         "399",
         "23142"
        ],
        [
         "38",
         "181",
         "15747"
        ],
        [
         "39",
         "133",
         "28462"
        ],
        [
         "40",
         "383",
         "113368"
        ],
        [
         "41",
         "223",
         "16725"
        ],
        [
         "42",
         "302",
         "36844"
        ],
        [
         "43",
         "260",
         "53040"
        ],
        [
         "44",
         "286",
         "79222"
        ],
        [
         "45",
         "365",
         "67160"
        ],
        [
         "46",
         "376",
         "105280"
        ],
        [
         "47",
         "240",
         "12960"
        ],
        [
         "48",
         "357",
         "42483"
        ],
        [
         "49",
         "147",
         "20433"
        ]
       ],
       "shape": {
        "columns": 2,
        "rows": 100
       }
      },
      "text/html": [
       "<div>\n",
       "<style scoped>\n",
       "    .dataframe tbody tr th:only-of-type {\n",
       "        vertical-align: middle;\n",
       "    }\n",
       "\n",
       "    .dataframe tbody tr th {\n",
       "        vertical-align: top;\n",
       "    }\n",
       "\n",
       "    .dataframe thead th {\n",
       "        text-align: right;\n",
       "    }\n",
       "</style>\n",
       "<table border=\"1\" class=\"dataframe\">\n",
       "  <thead>\n",
       "    <tr style=\"text-align: right;\">\n",
       "      <th></th>\n",
       "      <th>ventas</th>\n",
       "      <th>ingresos</th>\n",
       "    </tr>\n",
       "  </thead>\n",
       "  <tbody>\n",
       "    <tr>\n",
       "      <th>0</th>\n",
       "      <td>105</td>\n",
       "      <td>29610</td>\n",
       "    </tr>\n",
       "    <tr>\n",
       "      <th>1</th>\n",
       "      <td>244</td>\n",
       "      <td>30988</td>\n",
       "    </tr>\n",
       "    <tr>\n",
       "      <th>2</th>\n",
       "      <td>311</td>\n",
       "      <td>82415</td>\n",
       "    </tr>\n",
       "    <tr>\n",
       "      <th>3</th>\n",
       "      <td>443</td>\n",
       "      <td>45186</td>\n",
       "    </tr>\n",
       "    <tr>\n",
       "      <th>4</th>\n",
       "      <td>342</td>\n",
       "      <td>71136</td>\n",
       "    </tr>\n",
       "    <tr>\n",
       "      <th>...</th>\n",
       "      <td>...</td>\n",
       "      <td>...</td>\n",
       "    </tr>\n",
       "    <tr>\n",
       "      <th>95</th>\n",
       "      <td>395</td>\n",
       "      <td>113760</td>\n",
       "    </tr>\n",
       "    <tr>\n",
       "      <th>96</th>\n",
       "      <td>307</td>\n",
       "      <td>77671</td>\n",
       "    </tr>\n",
       "    <tr>\n",
       "      <th>97</th>\n",
       "      <td>329</td>\n",
       "      <td>43428</td>\n",
       "    </tr>\n",
       "    <tr>\n",
       "      <th>98</th>\n",
       "      <td>168</td>\n",
       "      <td>32760</td>\n",
       "    </tr>\n",
       "    <tr>\n",
       "      <th>99</th>\n",
       "      <td>189</td>\n",
       "      <td>23814</td>\n",
       "    </tr>\n",
       "  </tbody>\n",
       "</table>\n",
       "<p>100 rows × 2 columns</p>\n",
       "</div>"
      ],
      "text/plain": [
       "    ventas  ingresos\n",
       "0      105     29610\n",
       "1      244     30988\n",
       "2      311     82415\n",
       "3      443     45186\n",
       "4      342     71136\n",
       "..     ...       ...\n",
       "95     395    113760\n",
       "96     307     77671\n",
       "97     329     43428\n",
       "98     168     32760\n",
       "99     189     23814\n",
       "\n",
       "[100 rows x 2 columns]"
      ]
     },
     "execution_count": 84,
     "metadata": {},
     "output_type": "execute_result"
    }
   ],
   "source": [
    "df.drop(columns=\"precios\")                  # eliminar columna"
   ]
  },
  {
   "cell_type": "code",
   "execution_count": 85,
   "id": "d8919431",
   "metadata": {},
   "outputs": [
    {
     "data": {
      "application/vnd.microsoft.datawrangler.viewer.v0+json": {
       "columns": [
        {
         "name": "index",
         "rawType": "int64",
         "type": "integer"
        },
        {
         "name": "ventas",
         "rawType": "int64",
         "type": "integer"
        },
        {
         "name": "precios",
         "rawType": "int64",
         "type": "integer"
        },
        {
         "name": "ingresos",
         "rawType": "int64",
         "type": "integer"
        }
       ],
       "ref": "8b7cb44a-3cbb-4e5e-93d8-941ee149a859",
       "rows": [
        [
         "1",
         "244",
         "127",
         "30988"
        ],
        [
         "2",
         "311",
         "265",
         "82415"
        ],
        [
         "3",
         "443",
         "102",
         "45186"
        ],
        [
         "4",
         "342",
         "208",
         "71136"
        ],
        [
         "5",
         "312",
         "246",
         "76752"
        ],
        [
         "6",
         "284",
         "218",
         "61912"
        ],
        [
         "7",
         "175",
         "140",
         "24500"
        ],
        [
         "8",
         "340",
         "213",
         "72420"
        ],
        [
         "9",
         "317",
         "250",
         "79250"
        ],
        [
         "10",
         "158",
         "265",
         "41870"
        ],
        [
         "11",
         "211",
         "290",
         "61190"
        ],
        [
         "12",
         "234",
         "167",
         "39078"
        ],
        [
         "13",
         "326",
         "294",
         "95844"
        ],
        [
         "14",
         "371",
         "240",
         "89040"
        ],
        [
         "15",
         "415",
         "205",
         "85075"
        ],
        [
         "16",
         "299",
         "244",
         "72956"
        ],
        [
         "17",
         "220",
         "102",
         "22440"
        ],
        [
         "18",
         "404",
         "67",
         "27068"
        ],
        [
         "19",
         "326",
         "289",
         "94214"
        ],
        [
         "20",
         "488",
         "137",
         "66856"
        ],
        [
         "21",
         "109",
         "105",
         "11445"
        ],
        [
         "22",
         "367",
         "60",
         "22020"
        ],
        [
         "23",
         "414",
         "79",
         "32706"
        ],
        [
         "24",
         "349",
         "168",
         "58632"
        ],
        [
         "25",
         "161",
         "256",
         "41216"
        ],
        [
         "26",
         "254",
         "267",
         "67818"
        ],
        [
         "27",
         "105",
         "80",
         "8400"
        ],
        [
         "28",
         "359",
         "131",
         "47029"
        ],
        [
         "29",
         "208",
         "96",
         "19968"
        ],
        [
         "30",
         "248",
         "163",
         "40424"
        ],
        [
         "31",
         "375",
         "66",
         "24750"
        ],
        [
         "32",
         "105",
         "208",
         "21840"
        ],
        [
         "33",
         "405",
         "299",
         "121095"
        ],
        [
         "34",
         "409",
         "134",
         "54806"
        ],
        [
         "35",
         "229",
         "85",
         "19465"
        ],
        [
         "36",
         "318",
         "270",
         "85860"
        ],
        [
         "37",
         "399",
         "58",
         "23142"
        ],
        [
         "38",
         "181",
         "87",
         "15747"
        ],
        [
         "39",
         "133",
         "214",
         "28462"
        ],
        [
         "40",
         "383",
         "296",
         "113368"
        ],
        [
         "41",
         "223",
         "75",
         "16725"
        ],
        [
         "42",
         "302",
         "122",
         "36844"
        ],
        [
         "43",
         "260",
         "204",
         "53040"
        ],
        [
         "44",
         "286",
         "277",
         "79222"
        ],
        [
         "45",
         "365",
         "184",
         "67160"
        ],
        [
         "46",
         "376",
         "280",
         "105280"
        ],
        [
         "47",
         "240",
         "54",
         "12960"
        ],
        [
         "48",
         "357",
         "119",
         "42483"
        ],
        [
         "49",
         "147",
         "139",
         "20433"
        ],
        [
         "50",
         "169",
         "185",
         "31265"
        ]
       ],
       "shape": {
        "columns": 3,
        "rows": 99
       }
      },
      "text/html": [
       "<div>\n",
       "<style scoped>\n",
       "    .dataframe tbody tr th:only-of-type {\n",
       "        vertical-align: middle;\n",
       "    }\n",
       "\n",
       "    .dataframe tbody tr th {\n",
       "        vertical-align: top;\n",
       "    }\n",
       "\n",
       "    .dataframe thead th {\n",
       "        text-align: right;\n",
       "    }\n",
       "</style>\n",
       "<table border=\"1\" class=\"dataframe\">\n",
       "  <thead>\n",
       "    <tr style=\"text-align: right;\">\n",
       "      <th></th>\n",
       "      <th>ventas</th>\n",
       "      <th>precios</th>\n",
       "      <th>ingresos</th>\n",
       "    </tr>\n",
       "  </thead>\n",
       "  <tbody>\n",
       "    <tr>\n",
       "      <th>1</th>\n",
       "      <td>244</td>\n",
       "      <td>127</td>\n",
       "      <td>30988</td>\n",
       "    </tr>\n",
       "    <tr>\n",
       "      <th>2</th>\n",
       "      <td>311</td>\n",
       "      <td>265</td>\n",
       "      <td>82415</td>\n",
       "    </tr>\n",
       "    <tr>\n",
       "      <th>3</th>\n",
       "      <td>443</td>\n",
       "      <td>102</td>\n",
       "      <td>45186</td>\n",
       "    </tr>\n",
       "    <tr>\n",
       "      <th>4</th>\n",
       "      <td>342</td>\n",
       "      <td>208</td>\n",
       "      <td>71136</td>\n",
       "    </tr>\n",
       "    <tr>\n",
       "      <th>5</th>\n",
       "      <td>312</td>\n",
       "      <td>246</td>\n",
       "      <td>76752</td>\n",
       "    </tr>\n",
       "    <tr>\n",
       "      <th>...</th>\n",
       "      <td>...</td>\n",
       "      <td>...</td>\n",
       "      <td>...</td>\n",
       "    </tr>\n",
       "    <tr>\n",
       "      <th>95</th>\n",
       "      <td>395</td>\n",
       "      <td>288</td>\n",
       "      <td>113760</td>\n",
       "    </tr>\n",
       "    <tr>\n",
       "      <th>96</th>\n",
       "      <td>307</td>\n",
       "      <td>253</td>\n",
       "      <td>77671</td>\n",
       "    </tr>\n",
       "    <tr>\n",
       "      <th>97</th>\n",
       "      <td>329</td>\n",
       "      <td>132</td>\n",
       "      <td>43428</td>\n",
       "    </tr>\n",
       "    <tr>\n",
       "      <th>98</th>\n",
       "      <td>168</td>\n",
       "      <td>195</td>\n",
       "      <td>32760</td>\n",
       "    </tr>\n",
       "    <tr>\n",
       "      <th>99</th>\n",
       "      <td>189</td>\n",
       "      <td>126</td>\n",
       "      <td>23814</td>\n",
       "    </tr>\n",
       "  </tbody>\n",
       "</table>\n",
       "<p>99 rows × 3 columns</p>\n",
       "</div>"
      ],
      "text/plain": [
       "    ventas  precios  ingresos\n",
       "1      244      127     30988\n",
       "2      311      265     82415\n",
       "3      443      102     45186\n",
       "4      342      208     71136\n",
       "5      312      246     76752\n",
       "..     ...      ...       ...\n",
       "95     395      288    113760\n",
       "96     307      253     77671\n",
       "97     329      132     43428\n",
       "98     168      195     32760\n",
       "99     189      126     23814\n",
       "\n",
       "[99 rows x 3 columns]"
      ]
     },
     "execution_count": 85,
     "metadata": {},
     "output_type": "execute_result"
    }
   ],
   "source": [
    "df.drop(index=0)                         # eliminar fila"
   ]
  },
  {
   "cell_type": "markdown",
   "id": "4b242a8f",
   "metadata": {},
   "source": [
    "### **Agrupaciones (groupby)**"
   ]
  },
  {
   "cell_type": "markdown",
   "id": "1be4594a",
   "metadata": {},
   "source": [
    "Una de las funciones más poderosas de Pandas: agrupar y resumir datos. Permite calcular métricas agregadas (ej. ventas totales por producto)."
   ]
  },
  {
   "cell_type": "code",
   "execution_count": 86,
   "id": "95545862",
   "metadata": {},
   "outputs": [],
   "source": [
    "df=pd.DataFrame({\"producto\":[\"A\",\"B\",\"A\",\"C\",\"B\"], \"ventas\":[10,20,15,30,25],\"precio\":[100,80,100,50,80]})"
   ]
  },
  {
   "cell_type": "code",
   "execution_count": 87,
   "id": "a6459b4e",
   "metadata": {},
   "outputs": [
    {
     "data": {
      "application/vnd.microsoft.datawrangler.viewer.v0+json": {
       "columns": [
        {
         "name": "producto",
         "rawType": "object",
         "type": "string"
        },
        {
         "name": "ventas",
         "rawType": "int64",
         "type": "integer"
        }
       ],
       "ref": "eb48eea5-a942-4e90-89de-aa850b547414",
       "rows": [
        [
         "A",
         "25"
        ],
        [
         "B",
         "45"
        ],
        [
         "C",
         "30"
        ]
       ],
       "shape": {
        "columns": 1,
        "rows": 3
       }
      },
      "text/plain": [
       "producto\n",
       "A    25\n",
       "B    45\n",
       "C    30\n",
       "Name: ventas, dtype: int64"
      ]
     },
     "execution_count": 87,
     "metadata": {},
     "output_type": "execute_result"
    }
   ],
   "source": [
    "df.groupby(\"producto\")[\"ventas\"].sum()"
   ]
  },
  {
   "cell_type": "code",
   "execution_count": 88,
   "id": "dacd8d59",
   "metadata": {},
   "outputs": [
    {
     "data": {
      "application/vnd.microsoft.datawrangler.viewer.v0+json": {
       "columns": [
        {
         "name": "producto",
         "rawType": "object",
         "type": "string"
        },
        {
         "name": "ventas",
         "rawType": "int64",
         "type": "integer"
        },
        {
         "name": "precio",
         "rawType": "float64",
         "type": "float"
        }
       ],
       "ref": "0d93f8f6-09e1-4254-9e93-4486dc481f63",
       "rows": [
        [
         "A",
         "25",
         "100.0"
        ],
        [
         "B",
         "45",
         "80.0"
        ],
        [
         "C",
         "30",
         "50.0"
        ]
       ],
       "shape": {
        "columns": 2,
        "rows": 3
       }
      },
      "text/html": [
       "<div>\n",
       "<style scoped>\n",
       "    .dataframe tbody tr th:only-of-type {\n",
       "        vertical-align: middle;\n",
       "    }\n",
       "\n",
       "    .dataframe tbody tr th {\n",
       "        vertical-align: top;\n",
       "    }\n",
       "\n",
       "    .dataframe thead th {\n",
       "        text-align: right;\n",
       "    }\n",
       "</style>\n",
       "<table border=\"1\" class=\"dataframe\">\n",
       "  <thead>\n",
       "    <tr style=\"text-align: right;\">\n",
       "      <th></th>\n",
       "      <th>ventas</th>\n",
       "      <th>precio</th>\n",
       "    </tr>\n",
       "    <tr>\n",
       "      <th>producto</th>\n",
       "      <th></th>\n",
       "      <th></th>\n",
       "    </tr>\n",
       "  </thead>\n",
       "  <tbody>\n",
       "    <tr>\n",
       "      <th>A</th>\n",
       "      <td>25</td>\n",
       "      <td>100.0</td>\n",
       "    </tr>\n",
       "    <tr>\n",
       "      <th>B</th>\n",
       "      <td>45</td>\n",
       "      <td>80.0</td>\n",
       "    </tr>\n",
       "    <tr>\n",
       "      <th>C</th>\n",
       "      <td>30</td>\n",
       "      <td>50.0</td>\n",
       "    </tr>\n",
       "  </tbody>\n",
       "</table>\n",
       "</div>"
      ],
      "text/plain": [
       "          ventas  precio\n",
       "producto                \n",
       "A             25   100.0\n",
       "B             45    80.0\n",
       "C             30    50.0"
      ]
     },
     "execution_count": 88,
     "metadata": {},
     "output_type": "execute_result"
    }
   ],
   "source": [
    "df.groupby(\"producto\").agg({\"ventas\":\"sum\",\"precio\":\"mean\"})"
   ]
  },
  {
   "cell_type": "markdown",
   "id": "62f70a3a",
   "metadata": {},
   "source": [
    "### **Combinar y unir DataFrames**"
   ]
  },
  {
   "cell_type": "markdown",
   "id": "468bde52",
   "metadata": {},
   "source": [
    "Podemos juntar información proveniente de diferentes fuentes. Nos permite integrar datasets en un pipeline de análisis."
   ]
  },
  {
   "cell_type": "code",
   "execution_count": 89,
   "id": "ff3d86b3",
   "metadata": {},
   "outputs": [
    {
     "data": {
      "application/vnd.microsoft.datawrangler.viewer.v0+json": {
       "columns": [
        {
         "name": "index",
         "rawType": "int64",
         "type": "integer"
        },
        {
         "name": "A",
         "rawType": "int64",
         "type": "integer"
        },
        {
         "name": "B",
         "rawType": "int64",
         "type": "integer"
        }
       ],
       "ref": "60f73581-80dc-4ea2-b4c1-f842156878ea",
       "rows": [
        [
         "0",
         "1",
         "3"
        ],
        [
         "1",
         "2",
         "4"
        ],
        [
         "0",
         "5",
         "7"
        ],
        [
         "1",
         "6",
         "8"
        ]
       ],
       "shape": {
        "columns": 2,
        "rows": 4
       }
      },
      "text/html": [
       "<div>\n",
       "<style scoped>\n",
       "    .dataframe tbody tr th:only-of-type {\n",
       "        vertical-align: middle;\n",
       "    }\n",
       "\n",
       "    .dataframe tbody tr th {\n",
       "        vertical-align: top;\n",
       "    }\n",
       "\n",
       "    .dataframe thead th {\n",
       "        text-align: right;\n",
       "    }\n",
       "</style>\n",
       "<table border=\"1\" class=\"dataframe\">\n",
       "  <thead>\n",
       "    <tr style=\"text-align: right;\">\n",
       "      <th></th>\n",
       "      <th>A</th>\n",
       "      <th>B</th>\n",
       "    </tr>\n",
       "  </thead>\n",
       "  <tbody>\n",
       "    <tr>\n",
       "      <th>0</th>\n",
       "      <td>1</td>\n",
       "      <td>3</td>\n",
       "    </tr>\n",
       "    <tr>\n",
       "      <th>1</th>\n",
       "      <td>2</td>\n",
       "      <td>4</td>\n",
       "    </tr>\n",
       "    <tr>\n",
       "      <th>0</th>\n",
       "      <td>5</td>\n",
       "      <td>7</td>\n",
       "    </tr>\n",
       "    <tr>\n",
       "      <th>1</th>\n",
       "      <td>6</td>\n",
       "      <td>8</td>\n",
       "    </tr>\n",
       "  </tbody>\n",
       "</table>\n",
       "</div>"
      ],
      "text/plain": [
       "   A  B\n",
       "0  1  3\n",
       "1  2  4\n",
       "0  5  7\n",
       "1  6  8"
      ]
     },
     "execution_count": 89,
     "metadata": {},
     "output_type": "execute_result"
    }
   ],
   "source": [
    "# Concatenación\n",
    "df1 = pd.DataFrame({\"A\":[1,2], \"B\":[3,4]})\n",
    "df2 = pd.DataFrame({\"A\":[5,6], \"B\":[7,8]})\n",
    "pd.concat([df1, df2])"
   ]
  },
  {
   "cell_type": "code",
   "execution_count": 90,
   "id": "8234fa41",
   "metadata": {},
   "outputs": [
    {
     "data": {
      "application/vnd.microsoft.datawrangler.viewer.v0+json": {
       "columns": [
        {
         "name": "index",
         "rawType": "int64",
         "type": "integer"
        },
        {
         "name": "id",
         "rawType": "int64",
         "type": "integer"
        },
        {
         "name": "nombre",
         "rawType": "object",
         "type": "string"
        },
        {
         "name": "cantidad",
         "rawType": "int64",
         "type": "integer"
        }
       ],
       "ref": "8605e953-1794-4282-8660-ffd3bab30f54",
       "rows": [
        [
         "0",
         "1",
         "A",
         "5"
        ],
        [
         "1",
         "1",
         "A",
         "2"
        ],
        [
         "2",
         "2",
         "B",
         "3"
        ]
       ],
       "shape": {
        "columns": 3,
        "rows": 3
       }
      },
      "text/html": [
       "<div>\n",
       "<style scoped>\n",
       "    .dataframe tbody tr th:only-of-type {\n",
       "        vertical-align: middle;\n",
       "    }\n",
       "\n",
       "    .dataframe tbody tr th {\n",
       "        vertical-align: top;\n",
       "    }\n",
       "\n",
       "    .dataframe thead th {\n",
       "        text-align: right;\n",
       "    }\n",
       "</style>\n",
       "<table border=\"1\" class=\"dataframe\">\n",
       "  <thead>\n",
       "    <tr style=\"text-align: right;\">\n",
       "      <th></th>\n",
       "      <th>id</th>\n",
       "      <th>nombre</th>\n",
       "      <th>cantidad</th>\n",
       "    </tr>\n",
       "  </thead>\n",
       "  <tbody>\n",
       "    <tr>\n",
       "      <th>0</th>\n",
       "      <td>1</td>\n",
       "      <td>A</td>\n",
       "      <td>5</td>\n",
       "    </tr>\n",
       "    <tr>\n",
       "      <th>1</th>\n",
       "      <td>1</td>\n",
       "      <td>A</td>\n",
       "      <td>2</td>\n",
       "    </tr>\n",
       "    <tr>\n",
       "      <th>2</th>\n",
       "      <td>2</td>\n",
       "      <td>B</td>\n",
       "      <td>3</td>\n",
       "    </tr>\n",
       "  </tbody>\n",
       "</table>\n",
       "</div>"
      ],
      "text/plain": [
       "   id nombre  cantidad\n",
       "0   1      A         5\n",
       "1   1      A         2\n",
       "2   2      B         3"
      ]
     },
     "execution_count": 90,
     "metadata": {},
     "output_type": "execute_result"
    }
   ],
   "source": [
    "# Merge (similar a JOIN en SQL)\n",
    "productos = pd.DataFrame({\"id\":[1,2], \"nombre\":[\"A\",\"B\"]})\n",
    "ventas = pd.DataFrame({\"id\":[1,2,1], \"cantidad\":[5,3,2]})\n",
    "pd.merge(productos, ventas, on=\"id\")"
   ]
  },
  {
   "cell_type": "markdown",
   "id": "755befd7",
   "metadata": {},
   "source": [
    "En esta primera parte revisamos los fundamentos de Python para Big Data y BI: manejo de tipos de datos, funciones de entrada y salida, uso de colecciones (listas, tuplas y diccionarios), definición de funciones y aplicación de condicionales y ciclos para controlar el flujo del programa. Con estas herramientas ya es posible estructurar programas que no solo ejecuten instrucciones secuenciales, sino que procesen y organicen información de forma dinámica. Con esta base, estamos listos para avanzar al Tema 2 – Manipulación y limpieza de datos, paso esencial para preparar la información antes del análisis\n"
   ]
  }
 ],
 "metadata": {
  "kernelspec": {
   "display_name": "Python 3",
   "language": "python",
   "name": "python3"
  },
  "language_info": {
   "codemirror_mode": {
    "name": "ipython",
    "version": 3
   },
   "file_extension": ".py",
   "mimetype": "text/x-python",
   "name": "python",
   "nbconvert_exporter": "python",
   "pygments_lexer": "ipython3",
   "version": "3.11.0"
  }
 },
 "nbformat": 4,
 "nbformat_minor": 5
}
