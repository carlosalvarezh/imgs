{
 "cells": [
  {
   "cell_type": "markdown",
   "id": "89c3b472-f62d-4240-a4f9-f5832356851f",
   "metadata": {},
   "source": [
    "<h1 align=\"center\"><b>CORPORACIÓN UNIVERSITARIA ADVENTISTA</b></h1>\n",
    "<h1 align=\"center\"><b>FACULTAD DE INGENIERÍA</b></h1>\n",
    "<h1 align=\"center\"><b>ESPECIALIZACIÓN EN ANALÍTICA DE DATOS Y BIG DATA</b></h1>\n",
    "<h2 align=\"center\"><b>CURSO:</b></h1>\n",
    "<h2 align=\"center\"><b>LENGUAJES DE PROGRAMACIÓN PARA INTELIGENCIA DE NEGOCIOS</b></h1>\n",
    "<h3 align=\"center\">2025</h1>\n",
    "<h3 align=\"center\">MEDELLÍN - COLOMBIA </h1>"
   ]
  },
  {
   "cell_type": "markdown",
   "id": "431c7fe4-9adc-4fef-8bbb-6ed9d0913075",
   "metadata": {},
   "source": [
    "*** \n",
    "|[![Outlook](https://img.shields.io/badge/Gmail-D14836??style=plastic&logo=microsoft-outlook&logoColor=white)](mailto:docente.calvarez@unac.edu.co)||[![Open In Colab](https://colab.research.google.com/assets/colab-badge.svg)](https://colab.research.google.com/github/carlosalvarezh/UNAC/blob/main/Semana1.ipynb)\n",
    "|-:|:-|--:|\n",
    "|[![LinkedIn](https://img.shields.io/badge/linkedin-%230077B5.svg?style=plastic&logo=linkedin&logoColor=white)](https://www.linkedin.com/in/carlosalvarez5/)|[![@alvarezhenao](https://img.shields.io/twitter/url/https/twitter.com/alvarezhenao.svg?style=social&label=Follow%20%40alvarezhenao)](https://twitter.com/alvarezhenao)|[![@carlosalvarezh](https://img.shields.io/badge/github-%23121011.svg?style=plastic&logo=github&logoColor=white)](https://github.com/carlosalvarezh)|  \n",
    "***\n",
    "\n",
    "<table>\n",
    " <tr align=left><td><img align=left src=\"https://github.com/carlosalvarezh/imgs/blob/main/CCLogoColorPop1.gif?raw=true\" width=\"55\">\n",
    " <td>Text provided under a Creative Commons Attribution license, CC BY-NC 4.0</td>\n",
    " <td>All code is made available under the FSF-approved MIT license.(c) Corporación Universitaria Adventista de Colombia</td>\n",
    "</table>\n",
    "\n",
    "***"
   ]
  },
  {
   "cell_type": "markdown",
   "id": "e2d7dbe0-fb10-410b-a486-33d31ece4617",
   "metadata": {},
   "source": [
    "# **Semana 1 – Introducción y Fundamentos de Programación para Big Data con Python**"
   ]
  },
  {
   "cell_type": "markdown",
   "id": "5199ab19-d839-43ff-9cea-f27ec31dc881",
   "metadata": {},
   "source": [
    "## **Objetivos:**"
   ]
  },
  {
   "cell_type": "markdown",
   "id": "ad351228-037b-4fcc-acd4-1b0643a26c3f",
   "metadata": {},
   "source": [
    "- Comprender el papel de Python en Big Data e Inteligencia de Negocios.\n",
    "- Revisar fundamentos de programación aplicados al análisis de datos.\n"
   ]
  },
  {
   "cell_type": "markdown",
   "id": "e4dc6966-9548-439a-adaa-af14daccc5f0",
   "metadata": {},
   "source": [
    "## **Temas:**"
   ]
  },
  {
   "cell_type": "markdown",
   "id": "13a54fa4-9622-49f3-9865-51befd9ac588",
   "metadata": {},
   "source": [
    "1. Panorama de Big Data e Inteligencia de Negocios: conceptos clave.  \n",
    "2. Python en el ecosistema de analítica de datos.  \n",
    "3. Fundamentos de programación:  \n",
    "  • Tipos de datos básicos (numéricos, cadenas, booleanos).  \n",
    "  • Operadores y expresiones.  \n",
    "  • Estructuras de control (condicionales y ciclos).  \n",
    "4. Introducción a entornos de desarrollo: Jupyter Notebook y VS Code.\n"
   ]
  },
  {
   "cell_type": "markdown",
   "id": "076acc9f-ae18-4673-8cf2-5e765b954b4e",
   "metadata": {},
   "source": [
    "## **Panorama de Big Data e Inteligencia de Negocios**"
   ]
  },
  {
   "cell_type": "markdown",
   "id": "491093bd-800d-48a4-9b59-0da8d456666e",
   "metadata": {},
   "source": [
    "Hoy en día, el mundo produce **cantidades masivas de datos** cada segundo: compras en línea, transacciones bancarias, redes sociales, sensores, registros de salud, entre muchos otros. Este crecimiento exponencial ha impulsado lo que conocemos como **[Big Data](https://www.ibm.com/es-es/think/topics/big-data)**, un conjunto de tecnologías y métodos que permiten capturar, almacenar y analizar grandes volúmenes de información de manera eficiente y en tiempos cada vez más cortos.\n",
    "\n",
    "La **[Inteligencia de Negocios (BI)](https://www.ibm.com/mx-es/think/topics/business-intelligence)** aprovecha esos datos para transformarlos en información clara y útil para las organizaciones. Mediante reportes, tableros de control e indicadores, ayuda a responder preguntas clave como qué productos generan más ingresos, qué procesos requieren ajustes o cómo mejorar la experiencia de los clientes. Junto con Big Data, la BI permite pasar de analizar el pasado a monitorear el presente en tiempo real e incluso anticipar el futuro.\n",
    "\n",
    "Comprender este panorama es crucial en el contexto del curso, porque nos ayuda a ver que detrás de cada decisión informada hay **procesos de obtención, limpieza y análisis de datos**. El objetivo es que el estudiante desarrolle la capacidad de construir esos procesos —llamados pipelines de datos— de forma reproducible y alineada con las necesidades del negocio.\n",
    "\n",
    "Por eso empezamos con **[Python](https://www.python.org/)**, un lenguaje flexible y ampliamente usado en la industria, ideal para aprender a leer datos, transformarlos y obtener indicadores básicos. Este primer paso es la base para todo lo que veremos más adelante: desde análisis exploratorio y visualizaciones, hasta integración de datos de múltiples fuentes y aplicaciones en escenarios reales de Big Data.\n",
    "\n",
    "**Ejemplo motivador:**  \n",
    "\n",
    "Imagina que trabajas en una cadena de supermercados y notas que, aunque las ventas totales se mantienen estables, el margen de ganancia ha disminuido en los últimos tres meses. Para entender qué está pasando, el equipo necesita analizar millones de registros de ventas, precios, promociones y devoluciones, además de información externa como inflación y comportamiento del consumidor.\n",
    "\n",
    "Con herramientas de **Big Data** es posible integrar todas estas fuentes, limpiar inconsistencias y detectar patrones en cuestión de minutos. Gracias a la **Inteligencia de Negocios**, esos hallazgos se transforman en tableros que muestran qué categorías de producto están erosionando el margen y en qué sucursales ocurre el problema. Así, la gerencia puede ajustar precios, negociar con proveedores o cambiar estrategias de promoción de forma informada y oportuna.\n",
    "\n",
    "En el curso, aprenderás a construir los primeros pasos de este tipo de análisis usando **Python**: leer los datos, limpiarlos, transformarlos y generar indicadores que te permitan responder preguntas de negocio de manera objetiva y reproducible.\n",
    "\n"
   ]
  },
  {
   "cell_type": "markdown",
   "id": "8f88cf05",
   "metadata": {},
   "source": [
    "## **¿Qué es Big Data?**"
   ]
  },
  {
   "cell_type": "markdown",
   "id": "bd940112",
   "metadata": {},
   "source": [
    "**Big Data** es la **capacidad organizacional y tecnológica** para **capturar, almacenar, procesar e integrar** datos en grandes volúmenes, con alta velocidad y en múltiples formatos, conservando su **calidad** para convertirlos en **valor de negocio**. No es solo “mucho dato”: implica **procesos, arquitectura, gobierno y ética** para que la información sea confiable y útil. En la práctica, Big Data permite pasar de reportes estáticos a **respuestas oportunas** sobre clientes, operaciones y riesgos.\n",
    "\n",
    "**Las 5 V’s de Big Data**\n",
    "\n",
    "<div align=\"center\">\n",
    "  <img src=\"https://github.com/carlosalvarezh/imgs/blob/main/BigData_5vs_1.JPG?raw=true\" width=\"350\">\n",
    "</div>\n",
    "\n",
    "1. **Volumen**: cantidades masivas de datos.  \n",
    "    - Implicación: técnicas de **muestreo**, almacenamiento eficiente y, cuando haga falta, procesamiento **distribuido**.  \n",
    "    - Con Python: `pandas` para prototipos; cuando crece el volumen, alternativas como **Dask** o **PySpark**.  \n",
    "\n",
    "2. **Velocidad**: datos que llegan continuamente (transacciones, eventos, logs).  \n",
    "    - Implicación: **streaming** o micro-lotes, control de **latencia** y actualizaciones frecuentes.  \n",
    "    - Con Python: conectores a colas/eventos, jobs programados; luego, integración con plataformas de streaming.  \n",
    "\n",
    "3. **Veracidad**: calidad y confiabilidad (nulos, duplicados, sesgos, errores).  \n",
    "    - Implicación: **validaciones**, reglas de negocio, trazabilidad (de dónde viene y qué se transformó).  \n",
    "    - Con Python: chequeos de tipos, reglas de limpieza, pruebas reproducibles en notebooks/scripts.  \n",
    "\n",
    "4. **Valor**: decisiones mejores y más rápidas.  \n",
    "    - Implicación: alinear el pipeline con **preguntas de negocio** y **KPIs** claros; medir impacto.  \n",
    "    - Con Python: cálculo de indicadores, visualizaciones y tableros de apoyo (prototipos).  \n",
    "\n",
    "5. **Variedad**: formatos y fuentes heterogéneas (CSV, Excel, JSON, APIs, HTML, sensores).  \n",
    "    - Implicación: **parsing**, normalización y unificación de esquemas.  \n",
    "    - Con Python: `pandas`/`numpy` para tabulares, `requests`+`json` para APIs, `BeautifulSoup` para HTML.  \n",
    " \n",
    "> *A veces se añaden otras “V”: **Variabilidad** en la generación del dato, **Visualización** para comunicar y **Viabilidad** para sopesar costo–beneficio. La idea central se mantiene: calidad + oportunidad para generar valor.*  \n"
   ]
  },
  {
   "cell_type": "markdown",
   "id": "273c5b27-cbe7-458d-89a2-98ce12c5f106",
   "metadata": {},
   "source": [
    "## **¿Qué es Inteligencia de Negocios?**"
   ]
  },
  {
   "cell_type": "markdown",
   "id": "a76badd6",
   "metadata": {},
   "source": [
    "<div align=\"center\">\n",
    "  <img src=\"https://github.com/carlosalvarezh/imgs/blob/main/BI_img.jpeg?raw=true\" width=\"450\">\n",
    "</div>\n",
    "\n",
    "Inteligencia de Negocios (o **BI**, de inglés business intelligence) es el **conjunto de procesos y modelos de datos** que convierten datos operativos en **información confiable y estandarizada** para la decisión. Incluye **integración** de fuentes, **modelado** (p. ej., esquemas de hechos y dimensiones), **ETL/ELT**, definición de **KPIs** y **tableros** que responden qué pasó y por qué. BI pone orden y consistencia; Big Data amplía alcance y velocidad. Juntos permiten mirar el pasado con rigor, **monitorear el presente** y preparar el terreno para análisis predictivos.\n"
   ]
  },
  {
   "cell_type": "markdown",
   "id": "72406b70",
   "metadata": {},
   "source": [
    "## **Python en el Ecosistema de Analítica de Datos**"
   ]
  },
  {
   "cell_type": "markdown",
   "id": "1501be95",
   "metadata": {},
   "source": [
    "<div align=\"center\">\n",
    "  <img src=\"https://github.com/carlosalvarezh/imgs/blob/main/PythonBIEcosystem.PNG?raw=true\" width=\"450\">\n",
    "</div>\n",
    "\n",
    "**[Python](https://www.python.org/)** se ha convertido en uno de los lenguajes de programación más influyentes en el mundo de la analítica de datos y el Big Data. Su éxito no es casualidad: combina **sencillez de sintaxis**, un **ecosistema de librerías muy completo** y una **comunidad activa** que produce nuevas herramientas constantemente. Para quienes no provienen de carreras de programación, esto es una gran ventaja: Python es **fácil de leer, aprender y compartir**, lo que facilita la colaboración entre analistas, ingenieros y tomadores de decisiones."
   ]
  },
  {
   "cell_type": "markdown",
   "id": "1af282ea",
   "metadata": {},
   "source": [
    "### **1) Ventajas de Python para Analítica**"
   ]
  },
  {
   "cell_type": "markdown",
   "id": "f9ee4362",
   "metadata": {},
   "source": [
    "* **Sintaxis clara y expresiva:** similar a pseudocódigo, lo que permite concentrarse en la lógica y no en detalles de bajo nivel.\n",
    "* **Gran ecosistema científico:** incluye librerías como `pandas` (manipulación de datos), `numpy` (cálculo numérico), `matplotlib` y `seaborn` (visualización), y frameworks para machine learning (`scikit-learn`, `TensorFlow`, `PyTorch`).\n",
    "* **Flexibilidad:** permite trabajar tanto con scripts pequeños como con aplicaciones complejas y escalar a entornos distribuidos (por ejemplo, con `PySpark` o `Dask`).\n",
    "* **Comunidad y documentación:** miles de ejemplos, tutoriales y foros facilitan resolver dudas y aprender buenas prácticas.\n",
    "* **Interoperabilidad:** puede conectarse con bases de datos, APIs, hojas de cálculo, servicios en la nube y otras herramientas del ecosistema de datos."
   ]
  },
  {
   "cell_type": "markdown",
   "id": "5afd39e1",
   "metadata": {},
   "source": [
    "### **2) Python en el Flujo de Trabajo de Analítica**"
   ]
  },
  {
   "cell_type": "markdown",
   "id": "3cfd1b6b",
   "metadata": {},
   "source": [
    "En el contexto de este curso, Python es la herramienta que nos permite implementar cada paso de un **pipeline de datos**:\n",
    "\n",
    "1. **Ingesta de datos:** lectura de archivos planos (`read_csv`), conexión a bases de datos (SQLAlchemy, SQLite, PostgreSQL), consumo de APIs (`requests`) y extracción de datos de la web (`BeautifulSoup`).\n",
    "2. **Limpieza y transformación:** detección y tratamiento de valores faltantes, estandarización de tipos de datos, creación de nuevas columnas y cálculo de métricas intermedias.\n",
    "3. **Análisis exploratorio:** filtrado, agregación y resumen estadístico para entender el comportamiento de las variables.\n",
    "4. **Visualización inicial:** gráficos que ayudan a validar hipótesis, identificar patrones y comunicar hallazgos de forma rápida.\n",
    "5. **Reproducibilidad:** uso de notebooks y scripts que documentan el proceso, facilitando su revisión y ejecución por otros.\n"
   ]
  },
  {
   "cell_type": "markdown",
   "id": "9339e5c4",
   "metadata": {},
   "source": [
    "### **3) Python como Puente hacia Big Data**"
   ]
  },
  {
   "cell_type": "markdown",
   "id": "4a35d81f",
   "metadata": {},
   "source": [
    "Aunque en esta primera fase trabajaremos con conjuntos de datos manejables, Python también es un **puente hacia entornos de Big Data**. Bibliotecas como **PySpark** permiten trabajar con datos distribuidos en clústeres, mientras que conectores para servicios en la nube (AWS, GCP, Azure) permiten escalar a volúmenes masivos. Lo que aprendamos aquí servirá como base para que, en fases posteriores, podamos pasar de un prototipo local a una solución de producción.\n"
   ]
  }
 ],
 "metadata": {
  "kernelspec": {
   "display_name": "Python 3 (ipykernel)",
   "language": "python",
   "name": "python3"
  },
  "language_info": {
   "codemirror_mode": {
    "name": "ipython",
    "version": 3
   },
   "file_extension": ".py",
   "mimetype": "text/x-python",
   "name": "python",
   "nbconvert_exporter": "python",
   "pygments_lexer": "ipython3",
   "version": "3.12.4"
  }
 },
 "nbformat": 4,
 "nbformat_minor": 5
}
