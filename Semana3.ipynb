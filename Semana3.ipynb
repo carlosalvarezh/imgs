{
 "cells": [
  {
   "cell_type": "markdown",
   "id": "0baccba0",
   "metadata": {},
   "source": [
    "<h1 align=\"center\"><b>CORPORACIÓN UNIVERSITARIA ADVENTISTA</b></h1>\n",
    "<h1 align=\"center\"><b>FACULTAD DE INGENIERÍA</b></h1>\n",
    "<h1 align=\"center\"><b>ESPECIALIZACIÓN EN ANALÍTICA DE DATOS Y BIG DATA</b></h1>\n",
    "<h2 align=\"center\"><b>CURSO:</b></h1>\n",
    "<h2 align=\"center\"><b>LENGUAJES DE PROGRAMACIÓN PARA INTELIGENCIA DE NEGOCIOS</b></h1>\n",
    "<h2 align=\"center\"><b>Tema 2 – Manipulación y Limpieza de Datos</b></h1>\n",
    "<h3 align=\"center\">2025</h1>\n",
    "<h3 align=\"center\">MEDELLÍN - COLOMBIA </h1>"
   ]
  },
  {
   "cell_type": "markdown",
   "id": "ce16ce80",
   "metadata": {},
   "source": [
    "*** \n",
    "|[![Outlook](https://img.shields.io/badge/Gmail-D14836??style=plastic&logo=microsoft-outlook&logoColor=white)](mailto:docente.calvarez@unac.edu.co)||[![Open In Colab](https://colab.research.google.com/assets/colab-badge.svg)](https://colab.research.google.com/github/carlosalvarezh/imgs/blob/main/Semana3.ipynb)\n",
    "|-:|:-|--:|\n",
    "|[![LinkedIn](https://img.shields.io/badge/linkedin-%230077B5.svg?style=plastic&logo=linkedin&logoColor=white)](https://www.linkedin.com/in/carlosalvarez5/)|[![@alvarezhenao](https://img.shields.io/twitter/url/https/twitter.com/alvarezhenao.svg?style=social&label=Follow%20%40alvarezhenao)](https://twitter.com/alvarezhenao)|[![@carlosalvarezh](https://img.shields.io/badge/github-%23121011.svg?style=plastic&logo=github&logoColor=white)](https://github.com/carlosalvarezh)|  \n",
    "***\n",
    "\n",
    "<table>\n",
    " <tr align=left><td><img align=left src=\"https://github.com/carlosalvarezh/imgs/blob/main/CCLogoColorPop1.gif?raw=true\" width=\"55\">\n",
    " <td>Text provided under a Creative Commons Attribution license, CC BY-NC 4.0</td>\n",
    " <td>All code is made available under the FSF-approved MIT license.(c) Corporación Universitaria Adventista de Colombia</td>\n",
    "</table>\n",
    "\n",
    "***"
   ]
  },
  {
   "cell_type": "markdown",
   "id": "e43d1dba",
   "metadata": {},
   "source": []
  },
  {
   "cell_type": "markdown",
   "id": "3e71160a",
   "metadata": {},
   "source": [
    "# **Semana 3 – Manipulación y Limpieza de Datos**"
   ]
  },
  {
   "cell_type": "markdown",
   "id": "e77ecd00",
   "metadata": {},
   "source": []
  }
 ],
 "metadata": {
  "language_info": {
   "name": "python"
  }
 },
 "nbformat": 4,
 "nbformat_minor": 5
}
